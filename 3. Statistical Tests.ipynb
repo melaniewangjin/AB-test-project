{
 "cells": [
  {
   "cell_type": "code",
   "execution_count": 38,
   "metadata": {},
   "outputs": [],
   "source": [
    "import pandas as pd\n",
    "import numpy as np\n",
    "import statsmodels.stats.api as sms\n",
    "import datetime as dt\n",
    "import matplotlib.pyplot as plt\n",
    "import bootstrapped.bootstrap as bs\n",
    "import bootstrapped.compare_functions as bs_compare\n",
    "import bootstrapped.stats_functions as bs_stats\n",
    "from termcolor import colored, cprint\n",
    "import statsmodels.formula.api as smf"
   ]
  },
  {
   "cell_type": "code",
   "execution_count": 2,
   "metadata": {},
   "outputs": [],
   "source": [
    "df = pd.read_csv('project_data.csv')"
   ]
  },
  {
   "cell_type": "code",
   "execution_count": 3,
   "metadata": {
    "scrolled": true
   },
   "outputs": [
    {
     "data": {
      "text/html": [
       "<div>\n",
       "<style scoped>\n",
       "    .dataframe tbody tr th:only-of-type {\n",
       "        vertical-align: middle;\n",
       "    }\n",
       "\n",
       "    .dataframe tbody tr th {\n",
       "        vertical-align: top;\n",
       "    }\n",
       "\n",
       "    .dataframe thead th {\n",
       "        text-align: right;\n",
       "    }\n",
       "</style>\n",
       "<table border=\"1\" class=\"dataframe\">\n",
       "  <thead>\n",
       "    <tr style=\"text-align: right;\">\n",
       "      <th></th>\n",
       "      <th>user</th>\n",
       "      <th>adid</th>\n",
       "      <th>week</th>\n",
       "      <th>expid</th>\n",
       "      <th>if_click</th>\n",
       "      <th>real_like_cnt</th>\n",
       "      <th>category</th>\n",
       "      <th>brand_effect</th>\n",
       "      <th>experience</th>\n",
       "      <th>status</th>\n",
       "      <th>user_age</th>\n",
       "      <th>friend_age</th>\n",
       "      <th>user_gender</th>\n",
       "      <th>friend_gender</th>\n",
       "      <th>user_city</th>\n",
       "      <th>friend_city</th>\n",
       "      <th>user_degree</th>\n",
       "      <th>friend_degree</th>\n",
       "      <th>user_sns_like_cnt</th>\n",
       "      <th>user_sns_comment_cnt</th>\n",
       "    </tr>\n",
       "  </thead>\n",
       "  <tbody>\n",
       "    <tr>\n",
       "      <th>0</th>\n",
       "      <td>297353</td>\n",
       "      <td>0b0fa14b56d3741178196daaa92e6a1e</td>\n",
       "      <td>w_2</td>\n",
       "      <td>1</td>\n",
       "      <td>0</td>\n",
       "      <td>3</td>\n",
       "      <td>Car</td>\n",
       "      <td>1</td>\n",
       "      <td>1</td>\n",
       "      <td>1</td>\n",
       "      <td>48</td>\n",
       "      <td>37</td>\n",
       "      <td>female</td>\n",
       "      <td>male</td>\n",
       "      <td>level_1</td>\n",
       "      <td>level_1</td>\n",
       "      <td>495</td>\n",
       "      <td>436</td>\n",
       "      <td>162</td>\n",
       "      <td>138</td>\n",
       "    </tr>\n",
       "    <tr>\n",
       "      <th>1</th>\n",
       "      <td>98719</td>\n",
       "      <td>ea875acb76e0a806a7837174528f62d9</td>\n",
       "      <td>w_3</td>\n",
       "      <td>1</td>\n",
       "      <td>0</td>\n",
       "      <td>3</td>\n",
       "      <td>Car</td>\n",
       "      <td>1</td>\n",
       "      <td>1</td>\n",
       "      <td>1</td>\n",
       "      <td>29</td>\n",
       "      <td>34</td>\n",
       "      <td>female</td>\n",
       "      <td>female</td>\n",
       "      <td>level_3</td>\n",
       "      <td>level_2</td>\n",
       "      <td>479</td>\n",
       "      <td>3911</td>\n",
       "      <td>212</td>\n",
       "      <td>312</td>\n",
       "    </tr>\n",
       "    <tr>\n",
       "      <th>2</th>\n",
       "      <td>205144</td>\n",
       "      <td>1f1fe825014d9e9a0881233d9950bd43</td>\n",
       "      <td>w_2</td>\n",
       "      <td>1</td>\n",
       "      <td>0</td>\n",
       "      <td>1</td>\n",
       "      <td>Jewelry</td>\n",
       "      <td>0</td>\n",
       "      <td>1</td>\n",
       "      <td>1</td>\n",
       "      <td>24</td>\n",
       "      <td>24</td>\n",
       "      <td>female</td>\n",
       "      <td>male</td>\n",
       "      <td>level_2</td>\n",
       "      <td>level_1</td>\n",
       "      <td>682</td>\n",
       "      <td>470</td>\n",
       "      <td>95</td>\n",
       "      <td>336</td>\n",
       "    </tr>\n",
       "    <tr>\n",
       "      <th>3</th>\n",
       "      <td>559194</td>\n",
       "      <td>1f1fe825014d9e9a0881233d9950bd43</td>\n",
       "      <td>w_2</td>\n",
       "      <td>1</td>\n",
       "      <td>0</td>\n",
       "      <td>5</td>\n",
       "      <td>Jewelry</td>\n",
       "      <td>0</td>\n",
       "      <td>1</td>\n",
       "      <td>1</td>\n",
       "      <td>26</td>\n",
       "      <td>41</td>\n",
       "      <td>male</td>\n",
       "      <td>male</td>\n",
       "      <td>level_1</td>\n",
       "      <td>level_1</td>\n",
       "      <td>340</td>\n",
       "      <td>602</td>\n",
       "      <td>35</td>\n",
       "      <td>138</td>\n",
       "    </tr>\n",
       "    <tr>\n",
       "      <th>4</th>\n",
       "      <td>11888</td>\n",
       "      <td>0d82161270febc99f7defb653e339113</td>\n",
       "      <td>w_3</td>\n",
       "      <td>0</td>\n",
       "      <td>0</td>\n",
       "      <td>1</td>\n",
       "      <td>Cosmetrics</td>\n",
       "      <td>0</td>\n",
       "      <td>1</td>\n",
       "      <td>1</td>\n",
       "      <td>40</td>\n",
       "      <td>34</td>\n",
       "      <td>female</td>\n",
       "      <td>female</td>\n",
       "      <td>level_1</td>\n",
       "      <td>level_2</td>\n",
       "      <td>95</td>\n",
       "      <td>836</td>\n",
       "      <td>50</td>\n",
       "      <td>38</td>\n",
       "    </tr>\n",
       "  </tbody>\n",
       "</table>\n",
       "</div>"
      ],
      "text/plain": [
       "     user                              adid week  expid  if_click  \\\n",
       "0  297353  0b0fa14b56d3741178196daaa92e6a1e  w_2      1         0   \n",
       "1   98719  ea875acb76e0a806a7837174528f62d9  w_3      1         0   \n",
       "2  205144  1f1fe825014d9e9a0881233d9950bd43  w_2      1         0   \n",
       "3  559194  1f1fe825014d9e9a0881233d9950bd43  w_2      1         0   \n",
       "4   11888  0d82161270febc99f7defb653e339113  w_3      0         0   \n",
       "\n",
       "   real_like_cnt    category  brand_effect  experience  status  user_age  \\\n",
       "0              3         Car             1           1       1        48   \n",
       "1              3         Car             1           1       1        29   \n",
       "2              1     Jewelry             0           1       1        24   \n",
       "3              5     Jewelry             0           1       1        26   \n",
       "4              1  Cosmetrics             0           1       1        40   \n",
       "\n",
       "   friend_age user_gender friend_gender user_city friend_city  user_degree  \\\n",
       "0          37      female          male   level_1     level_1          495   \n",
       "1          34      female        female   level_3     level_2          479   \n",
       "2          24      female          male   level_2     level_1          682   \n",
       "3          41        male          male   level_1     level_1          340   \n",
       "4          34      female        female   level_1     level_2           95   \n",
       "\n",
       "   friend_degree  user_sns_like_cnt  user_sns_comment_cnt  \n",
       "0            436                162                   138  \n",
       "1           3911                212                   312  \n",
       "2            470                 95                   336  \n",
       "3            602                 35                   138  \n",
       "4            836                 50                    38  "
      ]
     },
     "execution_count": 3,
     "metadata": {},
     "output_type": "execute_result"
    }
   ],
   "source": [
    "df.head()"
   ]
  },
  {
   "cell_type": "markdown",
   "metadata": {},
   "source": [
    "### 1.Statistical tests"
   ]
  },
  {
   "cell_type": "markdown",
   "metadata": {},
   "source": [
    "#### 1.1 All data"
   ]
  },
  {
   "cell_type": "code",
   "execution_count": 4,
   "metadata": {},
   "outputs": [],
   "source": [
    "expid_0 = df[df['expid'] == 0]['if_click']\n",
    "expid_1 = df[df['expid'] == 1]['if_click']\n",
    "\n",
    "cm_expid = sms.CompareMeans(sms.DescrStatsW(expid_0), sms.DescrStatsW(expid_1))"
   ]
  },
  {
   "cell_type": "code",
   "execution_count": 5,
   "metadata": {},
   "outputs": [
    {
     "name": "stdout",
     "output_type": "stream",
     "text": [
      "(-15.430590532876387, 1.0340030648053255e-53, 999998.0)\n"
     ]
    }
   ],
   "source": [
    "# t-test\n",
    "\n",
    "print(cm_expid.ttest_ind(alternative='two-sided', usevar='pooled'))"
   ]
  },
  {
   "cell_type": "code",
   "execution_count": 6,
   "metadata": {},
   "outputs": [
    {
     "name": "stdout",
     "output_type": "stream",
     "text": [
      "(-15.430590532876387, 1.0193323875329505e-53)\n"
     ]
    }
   ],
   "source": [
    "# z-test\n",
    "\n",
    "print(cm_expid.ztest_ind(alternative='two-sided',usevar='pooled'))"
   ]
  },
  {
   "cell_type": "code",
   "execution_count": 7,
   "metadata": {},
   "outputs": [
    {
     "name": "stdout",
     "output_type": "stream",
     "text": [
      "0.007902000000000006    (0.006918000000000021, 0.008902050000000007)\n"
     ]
    }
   ],
   "source": [
    "# bootstrap\n",
    "\n",
    "expid_0_numpy = expid_0.to_numpy() \n",
    "expid_1_numpy = expid_1.to_numpy()\n",
    "\n",
    "print(bs.bootstrap_ab(\n",
    "    expid_1_numpy,\n",
    "    expid_0_numpy,\n",
    "    stat_func=bs_stats.mean,\n",
    "    compare_func=bs_compare.difference,\n",
    "    alpha=0.05))"
   ]
  },
  {
   "cell_type": "markdown",
   "metadata": {},
   "source": [
    "#### 1.2 Across different categories"
   ]
  },
  {
   "cell_type": "code",
   "execution_count": 8,
   "metadata": {},
   "outputs": [],
   "source": [
    "p_threshold = 0.05"
   ]
  },
  {
   "cell_type": "code",
   "execution_count": 9,
   "metadata": {},
   "outputs": [],
   "source": [
    "def bs_mean(expid_0, expid_1):\n",
    "    expid_0_numpy = expid_0.to_numpy() \n",
    "    expid_1_numpy = expid_1.to_numpy()\n",
    "\n",
    "    m = bs.bootstrap_ab(\n",
    "        expid_1_numpy,\n",
    "        expid_0_numpy,\n",
    "        stat_func=bs_stats.mean,\n",
    "        compare_func=bs_compare.difference,\n",
    "        alpha=0.05)\n",
    "    \n",
    "    if m.lower_bound > 0:\n",
    "        return True\n",
    "    else:\n",
    "        return False"
   ]
  },
  {
   "cell_type": "code",
   "execution_count": 10,
   "metadata": {},
   "outputs": [],
   "source": [
    "# expid_0 = df[(df['expid'] == 0) & (df['category'] == 'Car')]['if_click']\n",
    "# expid_1 = df[(df['expid'] == 1) & (df['category'] == 'Car')]['if_click']\n",
    "# bs_mean(expid_0, expid_1)"
   ]
  },
  {
   "cell_type": "markdown",
   "metadata": {},
   "source": [
    "##### Category"
   ]
  },
  {
   "cell_type": "code",
   "execution_count": 11,
   "metadata": {},
   "outputs": [
    {
     "data": {
      "text/html": [
       "<div>\n",
       "<style scoped>\n",
       "    .dataframe tbody tr th:only-of-type {\n",
       "        vertical-align: middle;\n",
       "    }\n",
       "\n",
       "    .dataframe tbody tr th {\n",
       "        vertical-align: top;\n",
       "    }\n",
       "\n",
       "    .dataframe thead th {\n",
       "        text-align: right;\n",
       "    }\n",
       "</style>\n",
       "<table border=\"1\" class=\"dataframe\">\n",
       "  <thead>\n",
       "    <tr style=\"text-align: right;\">\n",
       "      <th></th>\n",
       "      <th>Car</th>\n",
       "      <th>Jewelry</th>\n",
       "      <th>Cosmetrics</th>\n",
       "      <th>Beverage</th>\n",
       "      <th>Clothes</th>\n",
       "    </tr>\n",
       "  </thead>\n",
       "  <tbody>\n",
       "    <tr>\n",
       "      <th>t-test</th>\n",
       "      <td>NaN</td>\n",
       "      <td>NaN</td>\n",
       "      <td>NaN</td>\n",
       "      <td>NaN</td>\n",
       "      <td>NaN</td>\n",
       "    </tr>\n",
       "    <tr>\n",
       "      <th>z-test</th>\n",
       "      <td>NaN</td>\n",
       "      <td>NaN</td>\n",
       "      <td>NaN</td>\n",
       "      <td>NaN</td>\n",
       "      <td>NaN</td>\n",
       "    </tr>\n",
       "    <tr>\n",
       "      <th>bootstrap</th>\n",
       "      <td>NaN</td>\n",
       "      <td>NaN</td>\n",
       "      <td>NaN</td>\n",
       "      <td>NaN</td>\n",
       "      <td>NaN</td>\n",
       "    </tr>\n",
       "  </tbody>\n",
       "</table>\n",
       "</div>"
      ],
      "text/plain": [
       "           Car Jewelry Cosmetrics Beverage Clothes\n",
       "t-test     NaN     NaN        NaN      NaN     NaN\n",
       "z-test     NaN     NaN        NaN      NaN     NaN\n",
       "bootstrap  NaN     NaN        NaN      NaN     NaN"
      ]
     },
     "execution_count": 11,
     "metadata": {},
     "output_type": "execute_result"
    }
   ],
   "source": [
    "difference_category = pd.DataFrame(index=['t-test', 'z-test', 'bootstrap'], columns=df['category'].unique())\n",
    "difference_category"
   ]
  },
  {
   "cell_type": "code",
   "execution_count": 12,
   "metadata": {},
   "outputs": [],
   "source": [
    "for category in df['category'].unique():\n",
    "    expid_0 = df[(df['expid'] == 0) & (df['category'] == category)]['if_click']\n",
    "    expid_1 = df[(df['expid'] == 1) & (df['category'] == category)]['if_click']\n",
    "    cm_expid = sms.CompareMeans(sms.DescrStatsW(expid_0), sms.DescrStatsW(expid_1))\n",
    "    \n",
    "    t_test = cm_expid.ttest_ind(alternative='two-sided', usevar='pooled')\n",
    "    z_test = cm_expid.ztest_ind(alternative='two-sided',usevar='pooled')\n",
    "    \n",
    "    if t_test[1] < p_threshold:\n",
    "        difference_category.loc['t-test',category] = 'different'\n",
    "    else:\n",
    "        difference_category.loc['t-test',category] = 'not different'\n",
    "        \n",
    "    if z_test[1] < p_threshold:\n",
    "        difference_category.loc['z-test',category] = 'different'\n",
    "    else:\n",
    "        difference_category.loc['z-test',category] = 'not different'\n",
    "    \n",
    "    if bs_mean(expid_0, expid_1):\n",
    "        difference_category.loc['bootstrap',category] = 'different'\n",
    "    else:\n",
    "        difference_category.loc['bootstrap',category] = 'not different'"
   ]
  },
  {
   "cell_type": "code",
   "execution_count": 13,
   "metadata": {
    "scrolled": true
   },
   "outputs": [
    {
     "data": {
      "text/html": [
       "<div>\n",
       "<style scoped>\n",
       "    .dataframe tbody tr th:only-of-type {\n",
       "        vertical-align: middle;\n",
       "    }\n",
       "\n",
       "    .dataframe tbody tr th {\n",
       "        vertical-align: top;\n",
       "    }\n",
       "\n",
       "    .dataframe thead th {\n",
       "        text-align: right;\n",
       "    }\n",
       "</style>\n",
       "<table border=\"1\" class=\"dataframe\">\n",
       "  <thead>\n",
       "    <tr style=\"text-align: right;\">\n",
       "      <th></th>\n",
       "      <th>Car</th>\n",
       "      <th>Jewelry</th>\n",
       "      <th>Cosmetrics</th>\n",
       "      <th>Beverage</th>\n",
       "      <th>Clothes</th>\n",
       "    </tr>\n",
       "  </thead>\n",
       "  <tbody>\n",
       "    <tr>\n",
       "      <th>t-test</th>\n",
       "      <td>different</td>\n",
       "      <td>different</td>\n",
       "      <td>different</td>\n",
       "      <td>different</td>\n",
       "      <td>different</td>\n",
       "    </tr>\n",
       "    <tr>\n",
       "      <th>z-test</th>\n",
       "      <td>different</td>\n",
       "      <td>different</td>\n",
       "      <td>different</td>\n",
       "      <td>different</td>\n",
       "      <td>different</td>\n",
       "    </tr>\n",
       "    <tr>\n",
       "      <th>bootstrap</th>\n",
       "      <td>different</td>\n",
       "      <td>different</td>\n",
       "      <td>different</td>\n",
       "      <td>different</td>\n",
       "      <td>different</td>\n",
       "    </tr>\n",
       "  </tbody>\n",
       "</table>\n",
       "</div>"
      ],
      "text/plain": [
       "                 Car    Jewelry Cosmetrics   Beverage    Clothes\n",
       "t-test     different  different  different  different  different\n",
       "z-test     different  different  different  different  different\n",
       "bootstrap  different  different  different  different  different"
      ]
     },
     "execution_count": 13,
     "metadata": {},
     "output_type": "execute_result"
    }
   ],
   "source": [
    "difference_category"
   ]
  },
  {
   "cell_type": "markdown",
   "metadata": {},
   "source": [
    "##### Status"
   ]
  },
  {
   "cell_type": "code",
   "execution_count": 14,
   "metadata": {},
   "outputs": [
    {
     "data": {
      "text/plain": [
       "0"
      ]
     },
     "execution_count": 14,
     "metadata": {},
     "output_type": "execute_result"
    }
   ],
   "source": [
    "df['status'].unique()[1]"
   ]
  },
  {
   "cell_type": "code",
   "execution_count": 15,
   "metadata": {
    "scrolled": false
   },
   "outputs": [
    {
     "data": {
      "text/html": [
       "<div>\n",
       "<style scoped>\n",
       "    .dataframe tbody tr th:only-of-type {\n",
       "        vertical-align: middle;\n",
       "    }\n",
       "\n",
       "    .dataframe tbody tr th {\n",
       "        vertical-align: top;\n",
       "    }\n",
       "\n",
       "    .dataframe thead th {\n",
       "        text-align: right;\n",
       "    }\n",
       "</style>\n",
       "<table border=\"1\" class=\"dataframe\">\n",
       "  <thead>\n",
       "    <tr style=\"text-align: right;\">\n",
       "      <th></th>\n",
       "      <th>status goods</th>\n",
       "      <th>not status goods</th>\n",
       "    </tr>\n",
       "  </thead>\n",
       "  <tbody>\n",
       "    <tr>\n",
       "      <th>t-test</th>\n",
       "      <td>NaN</td>\n",
       "      <td>NaN</td>\n",
       "    </tr>\n",
       "    <tr>\n",
       "      <th>z-test</th>\n",
       "      <td>NaN</td>\n",
       "      <td>NaN</td>\n",
       "    </tr>\n",
       "    <tr>\n",
       "      <th>bootstrap</th>\n",
       "      <td>NaN</td>\n",
       "      <td>NaN</td>\n",
       "    </tr>\n",
       "  </tbody>\n",
       "</table>\n",
       "</div>"
      ],
      "text/plain": [
       "          status goods not status goods\n",
       "t-test             NaN              NaN\n",
       "z-test             NaN              NaN\n",
       "bootstrap          NaN              NaN"
      ]
     },
     "execution_count": 15,
     "metadata": {},
     "output_type": "execute_result"
    }
   ],
   "source": [
    "col = ['status goods', 'not status goods']\n",
    "difference_status = pd.DataFrame(index=['t-test', 'z-test', 'bootstrap'], columns=col)\n",
    "difference_status"
   ]
  },
  {
   "cell_type": "code",
   "execution_count": 16,
   "metadata": {},
   "outputs": [],
   "source": [
    "for status in df['status'].unique():\n",
    "    expid_0 = df[(df['expid'] == 0) & (df['status'] == status)]['if_click']\n",
    "    expid_1 = df[(df['expid'] == 1) & (df['status'] == status)]['if_click']\n",
    "    cm_expid = sms.CompareMeans(sms.DescrStatsW(expid_0), sms.DescrStatsW(expid_1))\n",
    "    \n",
    "    t_test = cm_expid.ttest_ind(alternative='two-sided', usevar='pooled')\n",
    "    z_test = cm_expid.ztest_ind(alternative='two-sided',usevar='pooled')\n",
    "    \n",
    "    if t_test[1] < p_threshold:\n",
    "        difference_status.loc['t-test',col[status]] = 'different'\n",
    "    else:\n",
    "        difference_status.loc['t-test',col[status]] = 'not different'\n",
    "        \n",
    "    if z_test[1] < p_threshold:\n",
    "        difference_status.loc['z-test',col[status]] = 'different'\n",
    "    else:\n",
    "        difference_status.loc['z-test',col[status]] = 'not different'\n",
    "    \n",
    "    if bs_mean(expid_0, expid_1):\n",
    "        difference_status.loc['bootstrap',col[status]] = 'different'\n",
    "    else:\n",
    "        difference_status.loc['bootstrap',col[status]] = 'not different'"
   ]
  },
  {
   "cell_type": "code",
   "execution_count": 17,
   "metadata": {
    "scrolled": true
   },
   "outputs": [
    {
     "data": {
      "text/html": [
       "<div>\n",
       "<style scoped>\n",
       "    .dataframe tbody tr th:only-of-type {\n",
       "        vertical-align: middle;\n",
       "    }\n",
       "\n",
       "    .dataframe tbody tr th {\n",
       "        vertical-align: top;\n",
       "    }\n",
       "\n",
       "    .dataframe thead th {\n",
       "        text-align: right;\n",
       "    }\n",
       "</style>\n",
       "<table border=\"1\" class=\"dataframe\">\n",
       "  <thead>\n",
       "    <tr style=\"text-align: right;\">\n",
       "      <th></th>\n",
       "      <th>status goods</th>\n",
       "      <th>not status goods</th>\n",
       "    </tr>\n",
       "  </thead>\n",
       "  <tbody>\n",
       "    <tr>\n",
       "      <th>t-test</th>\n",
       "      <td>different</td>\n",
       "      <td>different</td>\n",
       "    </tr>\n",
       "    <tr>\n",
       "      <th>z-test</th>\n",
       "      <td>different</td>\n",
       "      <td>different</td>\n",
       "    </tr>\n",
       "    <tr>\n",
       "      <th>bootstrap</th>\n",
       "      <td>different</td>\n",
       "      <td>different</td>\n",
       "    </tr>\n",
       "  </tbody>\n",
       "</table>\n",
       "</div>"
      ],
      "text/plain": [
       "          status goods not status goods\n",
       "t-test       different        different\n",
       "z-test       different        different\n",
       "bootstrap    different        different"
      ]
     },
     "execution_count": 17,
     "metadata": {},
     "output_type": "execute_result"
    }
   ],
   "source": [
    "difference_status"
   ]
  },
  {
   "cell_type": "markdown",
   "metadata": {},
   "source": [
    "##### Experience"
   ]
  },
  {
   "cell_type": "code",
   "execution_count": 18,
   "metadata": {},
   "outputs": [
    {
     "data": {
      "text/html": [
       "<div>\n",
       "<style scoped>\n",
       "    .dataframe tbody tr th:only-of-type {\n",
       "        vertical-align: middle;\n",
       "    }\n",
       "\n",
       "    .dataframe tbody tr th {\n",
       "        vertical-align: top;\n",
       "    }\n",
       "\n",
       "    .dataframe thead th {\n",
       "        text-align: right;\n",
       "    }\n",
       "</style>\n",
       "<table border=\"1\" class=\"dataframe\">\n",
       "  <thead>\n",
       "    <tr style=\"text-align: right;\">\n",
       "      <th></th>\n",
       "      <th>experience goods</th>\n",
       "      <th>not experience goods</th>\n",
       "    </tr>\n",
       "  </thead>\n",
       "  <tbody>\n",
       "    <tr>\n",
       "      <th>t-test</th>\n",
       "      <td>NaN</td>\n",
       "      <td>NaN</td>\n",
       "    </tr>\n",
       "    <tr>\n",
       "      <th>z-test</th>\n",
       "      <td>NaN</td>\n",
       "      <td>NaN</td>\n",
       "    </tr>\n",
       "    <tr>\n",
       "      <th>bootstrap</th>\n",
       "      <td>NaN</td>\n",
       "      <td>NaN</td>\n",
       "    </tr>\n",
       "  </tbody>\n",
       "</table>\n",
       "</div>"
      ],
      "text/plain": [
       "          experience goods not experience goods\n",
       "t-test                 NaN                  NaN\n",
       "z-test                 NaN                  NaN\n",
       "bootstrap              NaN                  NaN"
      ]
     },
     "execution_count": 18,
     "metadata": {},
     "output_type": "execute_result"
    }
   ],
   "source": [
    "col = ['experience goods', 'not experience goods']\n",
    "difference_experience = pd.DataFrame(index=['t-test', 'z-test', 'bootstrap'], columns=col)\n",
    "difference_experience"
   ]
  },
  {
   "cell_type": "code",
   "execution_count": 19,
   "metadata": {},
   "outputs": [],
   "source": [
    "for experience in df['experience'].unique():\n",
    "    expid_0 = df[(df['expid'] == 0) & (df['experience'] == experience)]['if_click']\n",
    "    expid_1 = df[(df['expid'] == 1) & (df['experience'] == experience)]['if_click']\n",
    "    cm_expid = sms.CompareMeans(sms.DescrStatsW(expid_0), sms.DescrStatsW(expid_1))\n",
    "    \n",
    "    t_test = cm_expid.ttest_ind(alternative='two-sided', usevar='pooled')\n",
    "    z_test = cm_expid.ztest_ind(alternative='two-sided',usevar='pooled')\n",
    "    \n",
    "    if t_test[1] < p_threshold:\n",
    "        difference_experience.loc['t-test',col[experience]] = 'different'\n",
    "    else:\n",
    "        difference_experience.loc['t-test',col[experience]] = 'not different'\n",
    "        \n",
    "    if z_test[1] < p_threshold:\n",
    "        difference_experience.loc['z-test',col[experience]] = 'different'\n",
    "    else:\n",
    "        difference_experience.loc['z-test',col[experience]] = 'not different'\n",
    "    \n",
    "    if bs_mean(expid_0, expid_1):\n",
    "        difference_experience.loc['bootstrap',col[experience]] = 'different'\n",
    "    else:\n",
    "        difference_experience.loc['bootstrap',col[experience]] = 'not different'"
   ]
  },
  {
   "cell_type": "code",
   "execution_count": 20,
   "metadata": {
    "scrolled": true
   },
   "outputs": [
    {
     "data": {
      "text/html": [
       "<div>\n",
       "<style scoped>\n",
       "    .dataframe tbody tr th:only-of-type {\n",
       "        vertical-align: middle;\n",
       "    }\n",
       "\n",
       "    .dataframe tbody tr th {\n",
       "        vertical-align: top;\n",
       "    }\n",
       "\n",
       "    .dataframe thead th {\n",
       "        text-align: right;\n",
       "    }\n",
       "</style>\n",
       "<table border=\"1\" class=\"dataframe\">\n",
       "  <thead>\n",
       "    <tr style=\"text-align: right;\">\n",
       "      <th></th>\n",
       "      <th>experience goods</th>\n",
       "      <th>not experience goods</th>\n",
       "    </tr>\n",
       "  </thead>\n",
       "  <tbody>\n",
       "    <tr>\n",
       "      <th>t-test</th>\n",
       "      <td>different</td>\n",
       "      <td>different</td>\n",
       "    </tr>\n",
       "    <tr>\n",
       "      <th>z-test</th>\n",
       "      <td>different</td>\n",
       "      <td>different</td>\n",
       "    </tr>\n",
       "    <tr>\n",
       "      <th>bootstrap</th>\n",
       "      <td>different</td>\n",
       "      <td>different</td>\n",
       "    </tr>\n",
       "  </tbody>\n",
       "</table>\n",
       "</div>"
      ],
      "text/plain": [
       "          experience goods not experience goods\n",
       "t-test           different            different\n",
       "z-test           different            different\n",
       "bootstrap        different            different"
      ]
     },
     "execution_count": 20,
     "metadata": {},
     "output_type": "execute_result"
    }
   ],
   "source": [
    "difference_experience"
   ]
  },
  {
   "cell_type": "markdown",
   "metadata": {},
   "source": [
    "##### Brand"
   ]
  },
  {
   "cell_type": "code",
   "execution_count": 21,
   "metadata": {},
   "outputs": [
    {
     "data": {
      "text/html": [
       "<div>\n",
       "<style scoped>\n",
       "    .dataframe tbody tr th:only-of-type {\n",
       "        vertical-align: middle;\n",
       "    }\n",
       "\n",
       "    .dataframe tbody tr th {\n",
       "        vertical-align: top;\n",
       "    }\n",
       "\n",
       "    .dataframe thead th {\n",
       "        text-align: right;\n",
       "    }\n",
       "</style>\n",
       "<table border=\"1\" class=\"dataframe\">\n",
       "  <thead>\n",
       "    <tr style=\"text-align: right;\">\n",
       "      <th></th>\n",
       "      <th>brand</th>\n",
       "      <th>not brand</th>\n",
       "    </tr>\n",
       "  </thead>\n",
       "  <tbody>\n",
       "    <tr>\n",
       "      <th>t-test</th>\n",
       "      <td>NaN</td>\n",
       "      <td>NaN</td>\n",
       "    </tr>\n",
       "    <tr>\n",
       "      <th>z-test</th>\n",
       "      <td>NaN</td>\n",
       "      <td>NaN</td>\n",
       "    </tr>\n",
       "    <tr>\n",
       "      <th>bootstrap</th>\n",
       "      <td>NaN</td>\n",
       "      <td>NaN</td>\n",
       "    </tr>\n",
       "  </tbody>\n",
       "</table>\n",
       "</div>"
      ],
      "text/plain": [
       "          brand not brand\n",
       "t-test      NaN       NaN\n",
       "z-test      NaN       NaN\n",
       "bootstrap   NaN       NaN"
      ]
     },
     "execution_count": 21,
     "metadata": {},
     "output_type": "execute_result"
    }
   ],
   "source": [
    "col = ['brand', 'not brand']\n",
    "difference_brand = pd.DataFrame(index=['t-test', 'z-test', 'bootstrap'], columns=col)\n",
    "difference_brand"
   ]
  },
  {
   "cell_type": "code",
   "execution_count": 22,
   "metadata": {},
   "outputs": [],
   "source": [
    "for brand_effect in df['brand_effect'].unique():\n",
    "    expid_0 = df[(df['expid'] == 0) & (df['brand_effect'] == brand_effect)]['if_click']\n",
    "    expid_1 = df[(df['expid'] == 1) & (df['brand_effect'] == brand_effect)]['if_click']\n",
    "    cm_expid = sms.CompareMeans(sms.DescrStatsW(expid_0), sms.DescrStatsW(expid_1))\n",
    "    \n",
    "    t_test = cm_expid.ttest_ind(alternative='two-sided', usevar='pooled')\n",
    "    z_test = cm_expid.ztest_ind(alternative='two-sided',usevar='pooled')\n",
    "    \n",
    "    if t_test[1] < p_threshold:\n",
    "        difference_brand.loc['t-test',col[brand_effect]] = 'different'\n",
    "    else:\n",
    "        difference_brand.loc['t-test',col[brand_effect]] = 'not different'\n",
    "        \n",
    "    if z_test[1] < p_threshold:\n",
    "        difference_brand.loc['z-test',col[brand_effect]] = 'different'\n",
    "    else:\n",
    "        difference_brand.loc['z-test',col[brand_effect]] = 'not different'\n",
    "    \n",
    "    if bs_mean(expid_0, expid_1):\n",
    "        difference_brand.loc['bootstrap',col[brand_effect]] = 'different'\n",
    "    else:\n",
    "        difference_brand.loc['bootstrap',col[brand_effect]] = 'not different'"
   ]
  },
  {
   "cell_type": "code",
   "execution_count": 23,
   "metadata": {},
   "outputs": [
    {
     "data": {
      "text/html": [
       "<div>\n",
       "<style scoped>\n",
       "    .dataframe tbody tr th:only-of-type {\n",
       "        vertical-align: middle;\n",
       "    }\n",
       "\n",
       "    .dataframe tbody tr th {\n",
       "        vertical-align: top;\n",
       "    }\n",
       "\n",
       "    .dataframe thead th {\n",
       "        text-align: right;\n",
       "    }\n",
       "</style>\n",
       "<table border=\"1\" class=\"dataframe\">\n",
       "  <thead>\n",
       "    <tr style=\"text-align: right;\">\n",
       "      <th></th>\n",
       "      <th>brand</th>\n",
       "      <th>not brand</th>\n",
       "    </tr>\n",
       "  </thead>\n",
       "  <tbody>\n",
       "    <tr>\n",
       "      <th>t-test</th>\n",
       "      <td>different</td>\n",
       "      <td>different</td>\n",
       "    </tr>\n",
       "    <tr>\n",
       "      <th>z-test</th>\n",
       "      <td>different</td>\n",
       "      <td>different</td>\n",
       "    </tr>\n",
       "    <tr>\n",
       "      <th>bootstrap</th>\n",
       "      <td>different</td>\n",
       "      <td>different</td>\n",
       "    </tr>\n",
       "  </tbody>\n",
       "</table>\n",
       "</div>"
      ],
      "text/plain": [
       "               brand  not brand\n",
       "t-test     different  different\n",
       "z-test     different  different\n",
       "bootstrap  different  different"
      ]
     },
     "execution_count": 23,
     "metadata": {},
     "output_type": "execute_result"
    }
   ],
   "source": [
    "difference_brand"
   ]
  },
  {
   "cell_type": "markdown",
   "metadata": {},
   "source": [
    "##### Category Interaction"
   ]
  },
  {
   "cell_type": "code",
   "execution_count": 24,
   "metadata": {},
   "outputs": [
    {
     "data": {
      "text/html": [
       "<div>\n",
       "<style scoped>\n",
       "    .dataframe tbody tr th:only-of-type {\n",
       "        vertical-align: middle;\n",
       "    }\n",
       "\n",
       "    .dataframe tbody tr th {\n",
       "        vertical-align: top;\n",
       "    }\n",
       "\n",
       "    .dataframe thead th {\n",
       "        text-align: right;\n",
       "    }\n",
       "</style>\n",
       "<table border=\"1\" class=\"dataframe\">\n",
       "  <thead>\n",
       "    <tr style=\"text-align: right;\">\n",
       "      <th></th>\n",
       "      <th>Car</th>\n",
       "      <th>Jewelry</th>\n",
       "      <th>Cosmetrics</th>\n",
       "      <th>Beverage</th>\n",
       "      <th>Clothes</th>\n",
       "    </tr>\n",
       "  </thead>\n",
       "  <tbody>\n",
       "    <tr>\n",
       "      <th>t-test</th>\n",
       "      <td>NaN</td>\n",
       "      <td>NaN</td>\n",
       "      <td>NaN</td>\n",
       "      <td>NaN</td>\n",
       "      <td>NaN</td>\n",
       "    </tr>\n",
       "    <tr>\n",
       "      <th>z-test</th>\n",
       "      <td>NaN</td>\n",
       "      <td>NaN</td>\n",
       "      <td>NaN</td>\n",
       "      <td>NaN</td>\n",
       "      <td>NaN</td>\n",
       "    </tr>\n",
       "    <tr>\n",
       "      <th>bootstrap</th>\n",
       "      <td>NaN</td>\n",
       "      <td>NaN</td>\n",
       "      <td>NaN</td>\n",
       "      <td>NaN</td>\n",
       "      <td>NaN</td>\n",
       "    </tr>\n",
       "  </tbody>\n",
       "</table>\n",
       "</div>"
      ],
      "text/plain": [
       "           Car Jewelry Cosmetrics Beverage Clothes\n",
       "t-test     NaN     NaN        NaN      NaN     NaN\n",
       "z-test     NaN     NaN        NaN      NaN     NaN\n",
       "bootstrap  NaN     NaN        NaN      NaN     NaN"
      ]
     },
     "execution_count": 24,
     "metadata": {},
     "output_type": "execute_result"
    }
   ],
   "source": [
    "difference = pd.DataFrame(index=['t-test', 'z-test', 'bootstrap'], columns=df['category'].unique())\n",
    "difference"
   ]
  },
  {
   "cell_type": "code",
   "execution_count": 26,
   "metadata": {
    "scrolled": false
   },
   "outputs": [
    {
     "name": "stdout",
     "output_type": "stream",
     "text": [
      "status == 0\n"
     ]
    },
    {
     "data": {
      "text/html": [
       "<div>\n",
       "<style scoped>\n",
       "    .dataframe tbody tr th:only-of-type {\n",
       "        vertical-align: middle;\n",
       "    }\n",
       "\n",
       "    .dataframe tbody tr th {\n",
       "        vertical-align: top;\n",
       "    }\n",
       "\n",
       "    .dataframe thead th {\n",
       "        text-align: right;\n",
       "    }\n",
       "</style>\n",
       "<table border=\"1\" class=\"dataframe\">\n",
       "  <thead>\n",
       "    <tr style=\"text-align: right;\">\n",
       "      <th></th>\n",
       "      <th>Car</th>\n",
       "      <th>Jewelry</th>\n",
       "      <th>Cosmetrics</th>\n",
       "      <th>Beverage</th>\n",
       "      <th>Clothes</th>\n",
       "    </tr>\n",
       "  </thead>\n",
       "  <tbody>\n",
       "    <tr>\n",
       "      <th>t-test</th>\n",
       "      <td>not available</td>\n",
       "      <td>not available</td>\n",
       "      <td>different</td>\n",
       "      <td>different</td>\n",
       "      <td>not available</td>\n",
       "    </tr>\n",
       "    <tr>\n",
       "      <th>z-test</th>\n",
       "      <td>not available</td>\n",
       "      <td>not available</td>\n",
       "      <td>different</td>\n",
       "      <td>different</td>\n",
       "      <td>not available</td>\n",
       "    </tr>\n",
       "    <tr>\n",
       "      <th>bootstrap</th>\n",
       "      <td>not available</td>\n",
       "      <td>not available</td>\n",
       "      <td>different</td>\n",
       "      <td>different</td>\n",
       "      <td>not available</td>\n",
       "    </tr>\n",
       "  </tbody>\n",
       "</table>\n",
       "</div>"
      ],
      "text/plain": [
       "                     Car        Jewelry Cosmetrics   Beverage        Clothes\n",
       "t-test     not available  not available  different  different  not available\n",
       "z-test     not available  not available  different  different  not available\n",
       "bootstrap  not available  not available  different  different  not available"
      ]
     },
     "metadata": {},
     "output_type": "display_data"
    },
    {
     "name": "stdout",
     "output_type": "stream",
     "text": [
      "status == 1\n"
     ]
    },
    {
     "data": {
      "text/html": [
       "<div>\n",
       "<style scoped>\n",
       "    .dataframe tbody tr th:only-of-type {\n",
       "        vertical-align: middle;\n",
       "    }\n",
       "\n",
       "    .dataframe tbody tr th {\n",
       "        vertical-align: top;\n",
       "    }\n",
       "\n",
       "    .dataframe thead th {\n",
       "        text-align: right;\n",
       "    }\n",
       "</style>\n",
       "<table border=\"1\" class=\"dataframe\">\n",
       "  <thead>\n",
       "    <tr style=\"text-align: right;\">\n",
       "      <th></th>\n",
       "      <th>Car</th>\n",
       "      <th>Jewelry</th>\n",
       "      <th>Cosmetrics</th>\n",
       "      <th>Beverage</th>\n",
       "      <th>Clothes</th>\n",
       "    </tr>\n",
       "  </thead>\n",
       "  <tbody>\n",
       "    <tr>\n",
       "      <th>t-test</th>\n",
       "      <td>different</td>\n",
       "      <td>different</td>\n",
       "      <td>different</td>\n",
       "      <td>not available</td>\n",
       "      <td>different</td>\n",
       "    </tr>\n",
       "    <tr>\n",
       "      <th>z-test</th>\n",
       "      <td>different</td>\n",
       "      <td>different</td>\n",
       "      <td>different</td>\n",
       "      <td>not available</td>\n",
       "      <td>different</td>\n",
       "    </tr>\n",
       "    <tr>\n",
       "      <th>bootstrap</th>\n",
       "      <td>different</td>\n",
       "      <td>different</td>\n",
       "      <td>different</td>\n",
       "      <td>not available</td>\n",
       "      <td>different</td>\n",
       "    </tr>\n",
       "  </tbody>\n",
       "</table>\n",
       "</div>"
      ],
      "text/plain": [
       "                 Car    Jewelry Cosmetrics       Beverage    Clothes\n",
       "t-test     different  different  different  not available  different\n",
       "z-test     different  different  different  not available  different\n",
       "bootstrap  different  different  different  not available  different"
      ]
     },
     "metadata": {},
     "output_type": "display_data"
    },
    {
     "name": "stdout",
     "output_type": "stream",
     "text": [
      "experience == 0\n"
     ]
    },
    {
     "data": {
      "text/html": [
       "<div>\n",
       "<style scoped>\n",
       "    .dataframe tbody tr th:only-of-type {\n",
       "        vertical-align: middle;\n",
       "    }\n",
       "\n",
       "    .dataframe tbody tr th {\n",
       "        vertical-align: top;\n",
       "    }\n",
       "\n",
       "    .dataframe thead th {\n",
       "        text-align: right;\n",
       "    }\n",
       "</style>\n",
       "<table border=\"1\" class=\"dataframe\">\n",
       "  <thead>\n",
       "    <tr style=\"text-align: right;\">\n",
       "      <th></th>\n",
       "      <th>Car</th>\n",
       "      <th>Jewelry</th>\n",
       "      <th>Cosmetrics</th>\n",
       "      <th>Beverage</th>\n",
       "      <th>Clothes</th>\n",
       "    </tr>\n",
       "  </thead>\n",
       "  <tbody>\n",
       "    <tr>\n",
       "      <th>t-test</th>\n",
       "      <td>different</td>\n",
       "      <td>not available</td>\n",
       "      <td>not available</td>\n",
       "      <td>not available</td>\n",
       "      <td>not available</td>\n",
       "    </tr>\n",
       "    <tr>\n",
       "      <th>z-test</th>\n",
       "      <td>different</td>\n",
       "      <td>not available</td>\n",
       "      <td>not available</td>\n",
       "      <td>not available</td>\n",
       "      <td>not available</td>\n",
       "    </tr>\n",
       "    <tr>\n",
       "      <th>bootstrap</th>\n",
       "      <td>different</td>\n",
       "      <td>not available</td>\n",
       "      <td>not available</td>\n",
       "      <td>not available</td>\n",
       "      <td>not available</td>\n",
       "    </tr>\n",
       "  </tbody>\n",
       "</table>\n",
       "</div>"
      ],
      "text/plain": [
       "                 Car        Jewelry     Cosmetrics       Beverage  \\\n",
       "t-test     different  not available  not available  not available   \n",
       "z-test     different  not available  not available  not available   \n",
       "bootstrap  different  not available  not available  not available   \n",
       "\n",
       "                 Clothes  \n",
       "t-test     not available  \n",
       "z-test     not available  \n",
       "bootstrap  not available  "
      ]
     },
     "metadata": {},
     "output_type": "display_data"
    },
    {
     "name": "stdout",
     "output_type": "stream",
     "text": [
      "experience == 1\n"
     ]
    },
    {
     "data": {
      "text/html": [
       "<div>\n",
       "<style scoped>\n",
       "    .dataframe tbody tr th:only-of-type {\n",
       "        vertical-align: middle;\n",
       "    }\n",
       "\n",
       "    .dataframe tbody tr th {\n",
       "        vertical-align: top;\n",
       "    }\n",
       "\n",
       "    .dataframe thead th {\n",
       "        text-align: right;\n",
       "    }\n",
       "</style>\n",
       "<table border=\"1\" class=\"dataframe\">\n",
       "  <thead>\n",
       "    <tr style=\"text-align: right;\">\n",
       "      <th></th>\n",
       "      <th>Car</th>\n",
       "      <th>Jewelry</th>\n",
       "      <th>Cosmetrics</th>\n",
       "      <th>Beverage</th>\n",
       "      <th>Clothes</th>\n",
       "    </tr>\n",
       "  </thead>\n",
       "  <tbody>\n",
       "    <tr>\n",
       "      <th>t-test</th>\n",
       "      <td>different</td>\n",
       "      <td>different</td>\n",
       "      <td>different</td>\n",
       "      <td>different</td>\n",
       "      <td>different</td>\n",
       "    </tr>\n",
       "    <tr>\n",
       "      <th>z-test</th>\n",
       "      <td>different</td>\n",
       "      <td>different</td>\n",
       "      <td>different</td>\n",
       "      <td>different</td>\n",
       "      <td>different</td>\n",
       "    </tr>\n",
       "    <tr>\n",
       "      <th>bootstrap</th>\n",
       "      <td>different</td>\n",
       "      <td>different</td>\n",
       "      <td>different</td>\n",
       "      <td>different</td>\n",
       "      <td>different</td>\n",
       "    </tr>\n",
       "  </tbody>\n",
       "</table>\n",
       "</div>"
      ],
      "text/plain": [
       "                 Car    Jewelry Cosmetrics   Beverage    Clothes\n",
       "t-test     different  different  different  different  different\n",
       "z-test     different  different  different  different  different\n",
       "bootstrap  different  different  different  different  different"
      ]
     },
     "metadata": {},
     "output_type": "display_data"
    },
    {
     "name": "stdout",
     "output_type": "stream",
     "text": [
      "brand_effect == 0\n"
     ]
    },
    {
     "data": {
      "text/html": [
       "<div>\n",
       "<style scoped>\n",
       "    .dataframe tbody tr th:only-of-type {\n",
       "        vertical-align: middle;\n",
       "    }\n",
       "\n",
       "    .dataframe tbody tr th {\n",
       "        vertical-align: top;\n",
       "    }\n",
       "\n",
       "    .dataframe thead th {\n",
       "        text-align: right;\n",
       "    }\n",
       "</style>\n",
       "<table border=\"1\" class=\"dataframe\">\n",
       "  <thead>\n",
       "    <tr style=\"text-align: right;\">\n",
       "      <th></th>\n",
       "      <th>Car</th>\n",
       "      <th>Jewelry</th>\n",
       "      <th>Cosmetrics</th>\n",
       "      <th>Beverage</th>\n",
       "      <th>Clothes</th>\n",
       "    </tr>\n",
       "  </thead>\n",
       "  <tbody>\n",
       "    <tr>\n",
       "      <th>t-test</th>\n",
       "      <td>not different</td>\n",
       "      <td>different</td>\n",
       "      <td>different</td>\n",
       "      <td>different</td>\n",
       "      <td>not available</td>\n",
       "    </tr>\n",
       "    <tr>\n",
       "      <th>z-test</th>\n",
       "      <td>not different</td>\n",
       "      <td>different</td>\n",
       "      <td>different</td>\n",
       "      <td>different</td>\n",
       "      <td>not available</td>\n",
       "    </tr>\n",
       "    <tr>\n",
       "      <th>bootstrap</th>\n",
       "      <td>not different</td>\n",
       "      <td>different</td>\n",
       "      <td>different</td>\n",
       "      <td>different</td>\n",
       "      <td>not available</td>\n",
       "    </tr>\n",
       "  </tbody>\n",
       "</table>\n",
       "</div>"
      ],
      "text/plain": [
       "                     Car    Jewelry Cosmetrics   Beverage        Clothes\n",
       "t-test     not different  different  different  different  not available\n",
       "z-test     not different  different  different  different  not available\n",
       "bootstrap  not different  different  different  different  not available"
      ]
     },
     "metadata": {},
     "output_type": "display_data"
    },
    {
     "name": "stdout",
     "output_type": "stream",
     "text": [
      "brand_effect == 1\n"
     ]
    },
    {
     "data": {
      "text/html": [
       "<div>\n",
       "<style scoped>\n",
       "    .dataframe tbody tr th:only-of-type {\n",
       "        vertical-align: middle;\n",
       "    }\n",
       "\n",
       "    .dataframe tbody tr th {\n",
       "        vertical-align: top;\n",
       "    }\n",
       "\n",
       "    .dataframe thead th {\n",
       "        text-align: right;\n",
       "    }\n",
       "</style>\n",
       "<table border=\"1\" class=\"dataframe\">\n",
       "  <thead>\n",
       "    <tr style=\"text-align: right;\">\n",
       "      <th></th>\n",
       "      <th>Car</th>\n",
       "      <th>Jewelry</th>\n",
       "      <th>Cosmetrics</th>\n",
       "      <th>Beverage</th>\n",
       "      <th>Clothes</th>\n",
       "    </tr>\n",
       "  </thead>\n",
       "  <tbody>\n",
       "    <tr>\n",
       "      <th>t-test</th>\n",
       "      <td>different</td>\n",
       "      <td>not available</td>\n",
       "      <td>not available</td>\n",
       "      <td>not available</td>\n",
       "      <td>different</td>\n",
       "    </tr>\n",
       "    <tr>\n",
       "      <th>z-test</th>\n",
       "      <td>different</td>\n",
       "      <td>not available</td>\n",
       "      <td>not available</td>\n",
       "      <td>not available</td>\n",
       "      <td>different</td>\n",
       "    </tr>\n",
       "    <tr>\n",
       "      <th>bootstrap</th>\n",
       "      <td>different</td>\n",
       "      <td>not available</td>\n",
       "      <td>not available</td>\n",
       "      <td>not available</td>\n",
       "      <td>different</td>\n",
       "    </tr>\n",
       "  </tbody>\n",
       "</table>\n",
       "</div>"
      ],
      "text/plain": [
       "                 Car        Jewelry     Cosmetrics       Beverage    Clothes\n",
       "t-test     different  not available  not available  not available  different\n",
       "z-test     different  not available  not available  not available  different\n",
       "bootstrap  different  not available  not available  not available  different"
      ]
     },
     "metadata": {},
     "output_type": "display_data"
    }
   ],
   "source": [
    "types = ['status', 'experience', 'brand_effect']\n",
    "\n",
    "for type_ in types:\n",
    "    for flag in range(2):\n",
    "        print(type_, '==', flag)\n",
    "        \n",
    "        for category in df['category'].unique():\n",
    "            \n",
    "            expid_0 = df[(df['expid'] == 0) & (df['category'] == category) & (df[type_] == flag)]['if_click']\n",
    "            expid_1 = df[(df['expid'] == 1) & (df['category'] == category) & (df[type_] == flag)]['if_click']\n",
    "#             print(category, len(expid_0), len(expid_1))\n",
    "\n",
    "            if len(expid_0)==0 | len(expid_1)==0:\n",
    "                difference.loc['t-test',category] = 'not available'\n",
    "                difference.loc['z-test',category] = 'not available'\n",
    "                difference.loc['bootstrap',category] = 'not available'\n",
    "            else:\n",
    "                cm_expid = sms.CompareMeans(sms.DescrStatsW(expid_0), sms.DescrStatsW(expid_1))\n",
    "\n",
    "                t_test = cm_expid.ttest_ind(alternative='two-sided', usevar='pooled')\n",
    "                z_test = cm_expid.ztest_ind(alternative='two-sided',usevar='pooled')\n",
    "\n",
    "                if t_test[1] < p_threshold:\n",
    "                    difference.loc['t-test',category] = 'different'\n",
    "                else:\n",
    "                    difference.loc['t-test',category] = 'not different'\n",
    "\n",
    "                if z_test[1] < p_threshold:\n",
    "                    difference.loc['z-test',category] = 'different'\n",
    "                else:\n",
    "                    difference.loc['z-test',category] = 'not different'\n",
    "\n",
    "                if bs_mean(expid_0, expid_1):\n",
    "                    difference.loc['bootstrap',category] = 'different'\n",
    "                else:\n",
    "                    difference.loc['bootstrap',category] = 'not different'\n",
    "\n",
    "        display(difference)"
   ]
  },
  {
   "cell_type": "markdown",
   "metadata": {},
   "source": [
    "------"
   ]
  },
  {
   "cell_type": "markdown",
   "metadata": {},
   "source": [
    "### **2. Lift Effect**"
   ]
  },
  {
   "cell_type": "code",
   "execution_count": 42,
   "metadata": {},
   "outputs": [
    {
     "name": "stdout",
     "output_type": "stream",
     "text": [
      "1.1186415230316498\n"
     ]
    }
   ],
   "source": [
    "n = 1000000\n",
    "d_0 = df[df['expid'] == 0]['if_click']\n",
    "d_1 = df[df['expid'] == 1]['if_click']\n",
    "m0 = np.mean(d_0)\n",
    "m1 = np.mean(d_1)\n",
    "lift = m1/m0\n",
    "print(lift)"
   ]
  },
  {
   "cell_type": "code",
   "execution_count": 43,
   "metadata": {},
   "outputs": [],
   "source": [
    "var0 = np.var(d_0,ddof=1)\n",
    "var1 = np.var(d_1,ddof=1)\n",
    "var_m0 = var0/500000\n",
    "var_m1 = var1/500000"
   ]
  },
  {
   "cell_type": "code",
   "execution_count": 44,
   "metadata": {},
   "outputs": [
    {
     "name": "stdout",
     "output_type": "stream",
     "text": [
      "6.61616051913808e-05 0.008133978435635344\n"
     ]
    }
   ],
   "source": [
    "var_lift = 1/(m0**2)*var_m1 + (m1**2)/(m0**4)*var_m0\n",
    "se_lift = np.sqrt(var_lift)\n",
    "print(var_lift,se_lift)"
   ]
  },
  {
   "cell_type": "code",
   "execution_count": 45,
   "metadata": {},
   "outputs": [
    {
     "name": "stdout",
     "output_type": "stream",
     "text": [
      "[1.1026989252978046, 1.134584120765495]\n"
     ]
    }
   ],
   "source": [
    "CI = [lift- 1.96*se_lift,lift+1.96*se_lift]\n",
    "print(CI)"
   ]
  },
  {
   "cell_type": "code",
   "execution_count": 46,
   "metadata": {},
   "outputs": [
    {
     "name": "stdout",
     "output_type": "stream",
     "text": [
      "14.585915609497517\n"
     ]
    }
   ],
   "source": [
    "# null hypothesis is there is no difference in click through rate, so lift0 = 1\n",
    "t_stat = (lift-1)/se_lift\n",
    "print(t_stat)"
   ]
  },
  {
   "cell_type": "code",
   "execution_count": 47,
   "metadata": {},
   "outputs": [
    {
     "name": "stdout",
     "output_type": "stream",
     "text": [
      "t-statistic = 14.586 pvalue = 0.0000\n"
     ]
    }
   ],
   "source": [
    "from scipy.stats import t\n",
    "pval = t.sf(np.abs(t_stat), n-1)*2  # two-sided pvalue = Prob(abs(t)>tt)\n",
    "print('t-statistic = %6.3f pvalue = %6.4f' % (t_stat, pval))"
   ]
  },
  {
   "cell_type": "code",
   "execution_count": null,
   "metadata": {},
   "outputs": [],
   "source": []
  }
 ],
 "metadata": {
  "kernelspec": {
   "display_name": "Python 3 (ipykernel)",
   "language": "python",
   "name": "python3"
  },
  "language_info": {
   "codemirror_mode": {
    "name": "ipython",
    "version": 3
   },
   "file_extension": ".py",
   "mimetype": "text/x-python",
   "name": "python",
   "nbconvert_exporter": "python",
   "pygments_lexer": "ipython3",
   "version": "3.9.12"
  }
 },
 "nbformat": 4,
 "nbformat_minor": 4
}
