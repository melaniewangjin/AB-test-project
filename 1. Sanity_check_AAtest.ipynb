{
 "cells": [
  {
   "cell_type": "code",
   "execution_count": 34,
   "id": "3aecdd0c",
   "metadata": {},
   "outputs": [],
   "source": [
    "import numpy as np\n",
    "import pandas as pd\n",
    "import statsmodels.stats.api as sms\n",
    "import matplotlib.pyplot as plt"
   ]
  },
  {
   "cell_type": "code",
   "execution_count": 35,
   "id": "8470ea1e",
   "metadata": {},
   "outputs": [],
   "source": [
    "df = pd.read_csv('project_data.csv')"
   ]
  },
  {
   "cell_type": "code",
   "execution_count": 36,
   "id": "69ee7e79",
   "metadata": {},
   "outputs": [
    {
     "data": {
      "text/plain": [
       "user                     int64\n",
       "adid                    object\n",
       "week                    object\n",
       "expid                    int64\n",
       "if_click                 int64\n",
       "real_like_cnt            int64\n",
       "category                object\n",
       "brand_effect             int64\n",
       "experience               int64\n",
       "status                   int64\n",
       "user_age                 int64\n",
       "friend_age               int64\n",
       "user_gender             object\n",
       "friend_gender           object\n",
       "user_city               object\n",
       "friend_city             object\n",
       "user_degree              int64\n",
       "friend_degree            int64\n",
       "user_sns_like_cnt        int64\n",
       "user_sns_comment_cnt     int64\n",
       "dtype: object"
      ]
     },
     "execution_count": 36,
     "metadata": {},
     "output_type": "execute_result"
    }
   ],
   "source": [
    "df.dtypes"
   ]
  },
  {
   "cell_type": "code",
   "execution_count": 37,
   "id": "4a02f94e",
   "metadata": {},
   "outputs": [],
   "source": [
    "user_gender_int=[]\n",
    "for i in df.user_gender:\n",
    "    if i==\"female\":\n",
    "        user_gender_int.append(0)\n",
    "    else:\n",
    "        user_gender_int.append(1)"
   ]
  },
  {
   "cell_type": "code",
   "execution_count": 38,
   "id": "d15a8679",
   "metadata": {},
   "outputs": [],
   "source": [
    "friend_gender_int=[]\n",
    "for i in df.friend_gender:\n",
    "    if i==\"female\":\n",
    "        friend_gender_int.append(0)\n",
    "    else:\n",
    "        friend_gender_int.append(1)"
   ]
  },
  {
   "cell_type": "code",
   "execution_count": 39,
   "id": "0373f492",
   "metadata": {},
   "outputs": [],
   "source": [
    "user_city_int=[]\n",
    "for i in df.user_city:\n",
    "    if i==\"level_1\":\n",
    "        user_city_int.append(1)\n",
    "    if i==\"level_2\":\n",
    "        user_city_int.append(2)\n",
    "    if i==\"level_3\":\n",
    "        user_city_int.append(3)"
   ]
  },
  {
   "cell_type": "code",
   "execution_count": 40,
   "id": "3595faa6",
   "metadata": {},
   "outputs": [],
   "source": [
    "friend_city_int=[]\n",
    "for i in df.friend_city:\n",
    "    if i==\"level_1\":\n",
    "        friend_city_int.append(1)\n",
    "    if i==\"level_2\":\n",
    "        friend_city_int.append(2)\n",
    "    if i==\"level_3\":\n",
    "        friend_city_int.append(3)"
   ]
  },
  {
   "cell_type": "code",
   "execution_count": 41,
   "id": "9150a7e5",
   "metadata": {},
   "outputs": [],
   "source": [
    "week_int=[]\n",
    "for i in df.week:\n",
    "    if i==\"w_1\":\n",
    "        week_int.append(1)\n",
    "    if i==\"w_2\":\n",
    "        week_int.append(2)\n",
    "    if i==\"w_3\":\n",
    "        week_int.append(3)"
   ]
  },
  {
   "cell_type": "code",
   "execution_count": 42,
   "id": "ca635344",
   "metadata": {},
   "outputs": [],
   "source": [
    "df[\"user_gender_int\"]=user_gender_int"
   ]
  },
  {
   "cell_type": "code",
   "execution_count": 43,
   "id": "53103ab3",
   "metadata": {},
   "outputs": [],
   "source": [
    "df['friend_gender_int']=friend_gender_int"
   ]
  },
  {
   "cell_type": "code",
   "execution_count": 44,
   "id": "585b0ca5",
   "metadata": {},
   "outputs": [],
   "source": [
    "df['user_city_int']=user_city_int"
   ]
  },
  {
   "cell_type": "code",
   "execution_count": 45,
   "id": "b1efa55b",
   "metadata": {},
   "outputs": [],
   "source": [
    "df['friend_city_int']=friend_city_int"
   ]
  },
  {
   "cell_type": "code",
   "execution_count": 46,
   "id": "32b103d8",
   "metadata": {},
   "outputs": [],
   "source": [
    "df['week_int']=week_int"
   ]
  },
  {
   "cell_type": "markdown",
   "id": "3384889f",
   "metadata": {},
   "source": [
    "# show distributions"
   ]
  },
  {
   "cell_type": "code",
   "execution_count": 47,
   "id": "4d048c1a",
   "metadata": {},
   "outputs": [
    {
     "data": {
      "text/plain": [
       "<AxesSubplot:ylabel='Frequency'>"
      ]
     },
     "execution_count": 47,
     "metadata": {},
     "output_type": "execute_result"
    },
    {
     "data": {
      "image/png": "[encoded data removed]",
      "text/plain": [
       "<Figure size 432x288 with 1 Axes>"
      ]
     },
     "metadata": {
      "needs_background": "light"
     },
     "output_type": "display_data"
    }
   ],
   "source": [
    "# age distribution\n",
    "df.user_age.plot.hist(bins = 50, edgecolor = 'black')"
   ]
  },
  {
   "cell_type": "code",
   "execution_count": 48,
   "id": "d3643371",
   "metadata": {},
   "outputs": [
    {
     "data": {
      "text/plain": [
       "0         0\n",
       "1         0\n",
       "2         0\n",
       "3         1\n",
       "4         0\n",
       "         ..\n",
       "999995    0\n",
       "999996    1\n",
       "999997    0\n",
       "999998    0\n",
       "999999    0\n",
       "Name: user_gender_int, Length: 1000000, dtype: int64"
      ]
     },
     "execution_count": 48,
     "metadata": {},
     "output_type": "execute_result"
    }
   ],
   "source": [
    "df.user_gender_int"
   ]
  },
  {
   "cell_type": "code",
   "execution_count": 50,
   "id": "28f90fb0",
   "metadata": {},
   "outputs": [],
   "source": [
    "num_male = sum(df.user_gender_int)"
   ]
  },
  {
   "cell_type": "code",
   "execution_count": 58,
   "id": "9cbba2df",
   "metadata": {},
   "outputs": [
    {
     "data": {
      "image/png": "[encoded data removed]",
      "text/plain": [
       "<Figure size 480x480 with 1 Axes>"
      ]
     },
     "metadata": {},
     "output_type": "display_data"
    }
   ],
   "source": [
    "# user_gender distribution\n",
    "my_dpi=150\n",
    "plt.figure(figsize=(480/my_dpi,480/my_dpi),dpi=my_dpi)\n",
    "plt.pie(x = [num_male, len(df.user_gender_int)-num_male],\n",
    "        labels = [\"male\", 'female'],\n",
    "        autopct='%.2f%%')\n",
    "plt.show()"
   ]
  },
  {
   "cell_type": "code",
   "execution_count": 60,
   "id": "f0c26acd",
   "metadata": {},
   "outputs": [
    {
     "data": {
      "image/png": "[encoded data removed]",
      "text/plain": [
       "<Figure size 480x480 with 1 Axes>"
      ]
     },
     "metadata": {},
     "output_type": "display_data"
    }
   ],
   "source": [
    "# week\n",
    "my_dpi=150\n",
    "plt.figure(figsize=(480/my_dpi,480/my_dpi),dpi=my_dpi)\n",
    "plt.pie(x = [len(df[df.week_int==1]),len(df[df.week_int==2]),len(df[df.week_int==3])],\n",
    "        labels = [\"week_1\", \"week_2\",\"week_3\"],\n",
    "        autopct='%.2f%%')\n",
    "plt.show()"
   ]
  },
  {
   "cell_type": "code",
   "execution_count": 61,
   "id": "0eb3ffed",
   "metadata": {},
   "outputs": [
    {
     "data": {
      "image/png": "[encoded data removed]",
      "text/plain": [
       "<Figure size 480x480 with 1 Axes>"
      ]
     },
     "metadata": {},
     "output_type": "display_data"
    }
   ],
   "source": [
    "#user_city distribution\n",
    "my_dpi=150\n",
    "plt.figure(figsize=(480/my_dpi,480/my_dpi),dpi=my_dpi)\n",
    "plt.pie(x = [len(df[df.user_city_int==1]),len(df[df.user_city_int==2]),len(df[df.user_city_int==3])],\n",
    "        labels = [\"city_1\", \"city_2\",\"city_3\"],\n",
    "        autopct='%.2f%%')\n",
    "plt.show()"
   ]
  },
  {
   "cell_type": "code",
   "execution_count": 18,
   "id": "fc5f5f59",
   "metadata": {},
   "outputs": [
    {
     "data": {
      "text/plain": [
       "<AxesSubplot:ylabel='Frequency'>"
      ]
     },
     "execution_count": 18,
     "metadata": {},
     "output_type": "execute_result"
    },
    {
     "data": {
      "image/png": "[encoded data removed]",
      "text/plain": [
       "<Figure size 432x288 with 1 Axes>"
      ]
     },
     "metadata": {
      "needs_background": "light"
     },
     "output_type": "display_data"
    }
   ],
   "source": [
    "# user_sns_comment_cnt\n",
    "df.user_sns_comment_cnt.plot.hist(bins = 100, edgecolor = 'black')"
   ]
  },
  {
   "cell_type": "code",
   "execution_count": 19,
   "id": "d3287308",
   "metadata": {},
   "outputs": [
    {
     "data": {
      "text/plain": [
       "<AxesSubplot:ylabel='Frequency'>"
      ]
     },
     "execution_count": 19,
     "metadata": {},
     "output_type": "execute_result"
    },
    {
     "data": {
      "image/png": "[encoded data removed]",
      "text/plain": [
       "<Figure size 432x288 with 1 Axes>"
      ]
     },
     "metadata": {
      "needs_background": "light"
     },
     "output_type": "display_data"
    }
   ],
   "source": [
    "# real_like_cnt\n",
    "df.real_like_cnt.plot.hist(bins = 50, edgecolor = 'black')"
   ]
  },
  {
   "cell_type": "code",
   "execution_count": 20,
   "id": "767f9468",
   "metadata": {},
   "outputs": [
    {
     "data": {
      "text/plain": [
       "<AxesSubplot:ylabel='Frequency'>"
      ]
     },
     "execution_count": 20,
     "metadata": {},
     "output_type": "execute_result"
    },
    {
     "data": {
      "image/png": "[encoded data removed]",
      "text/plain": [
       "<Figure size 432x288 with 1 Axes>"
      ]
     },
     "metadata": {
      "needs_background": "light"
     },
     "output_type": "display_data"
    }
   ],
   "source": [
    "# user_sns_like_cnt\n",
    "df.user_sns_like_cnt.plot.hist(bins = 100, edgecolor = 'black')"
   ]
  },
  {
   "cell_type": "code",
   "execution_count": 21,
   "id": "a2154c0b",
   "metadata": {},
   "outputs": [
    {
     "data": {
      "text/plain": [
       "<AxesSubplot:ylabel='Frequency'>"
      ]
     },
     "execution_count": 21,
     "metadata": {},
     "output_type": "execute_result"
    },
    {
     "data": {
      "image/png": "[encoded data removed]",
      "text/plain": [
       "<Figure size 432x288 with 1 Axes>"
      ]
     },
     "metadata": {
      "needs_background": "light"
     },
     "output_type": "display_data"
    }
   ],
   "source": [
    "# if_click\n",
    "df.if_click.plot.hist(bins = 3, edgecolor = 'black')"
   ]
  },
  {
   "cell_type": "code",
   "execution_count": 63,
   "id": "951ad43c",
   "metadata": {},
   "outputs": [
    {
     "data": {
      "image/png": "[encoded data removed]",
      "text/plain": [
       "<Figure size 480x480 with 1 Axes>"
      ]
     },
     "metadata": {},
     "output_type": "display_data"
    }
   ],
   "source": [
    "# expid\n",
    "my_dpi=150\n",
    "plt.figure(figsize=(480/my_dpi,480/my_dpi),dpi=my_dpi)\n",
    "plt.pie(x = [len(df[df.expid==0]), len(df[df.expid==1])],\n",
    "        labels = [\"0\", '1'],\n",
    "        autopct='%.2f%%')\n",
    "plt.show()"
   ]
  },
  {
   "cell_type": "code",
   "execution_count": 23,
   "id": "1d859315",
   "metadata": {
    "scrolled": true
   },
   "outputs": [
    {
     "data": {
      "text/html": [
       "<div>\n",
       "<style scoped>\n",
       "    .dataframe tbody tr th:only-of-type {\n",
       "        vertical-align: middle;\n",
       "    }\n",
       "\n",
       "    .dataframe tbody tr th {\n",
       "        vertical-align: top;\n",
       "    }\n",
       "\n",
       "    .dataframe thead th {\n",
       "        text-align: right;\n",
       "    }\n",
       "</style>\n",
       "<table border=\"1\" class=\"dataframe\">\n",
       "  <thead>\n",
       "    <tr style=\"text-align: right;\">\n",
       "      <th></th>\n",
       "      <th>user</th>\n",
       "      <th>expid</th>\n",
       "      <th>if_click</th>\n",
       "      <th>real_like_cnt</th>\n",
       "      <th>brand_effect</th>\n",
       "      <th>experience</th>\n",
       "      <th>status</th>\n",
       "      <th>user_age</th>\n",
       "      <th>friend_age</th>\n",
       "      <th>user_degree</th>\n",
       "      <th>friend_degree</th>\n",
       "      <th>user_sns_like_cnt</th>\n",
       "      <th>user_sns_comment_cnt</th>\n",
       "      <th>user_gender_int</th>\n",
       "      <th>friend_gender_int</th>\n",
       "      <th>user_city_int</th>\n",
       "      <th>friend_city_int</th>\n",
       "      <th>week_int</th>\n",
       "    </tr>\n",
       "  </thead>\n",
       "  <tbody>\n",
       "    <tr>\n",
       "      <th>count</th>\n",
       "      <td>500000.000000</td>\n",
       "      <td>500000.0</td>\n",
       "      <td>500000.000000</td>\n",
       "      <td>500000.000000</td>\n",
       "      <td>500000.000000</td>\n",
       "      <td>500000.000000</td>\n",
       "      <td>500000.000000</td>\n",
       "      <td>500000.000000</td>\n",
       "      <td>500000.000000</td>\n",
       "      <td>500000.000000</td>\n",
       "      <td>500000.000000</td>\n",
       "      <td>500000.000000</td>\n",
       "      <td>500000.000000</td>\n",
       "      <td>500000.000000</td>\n",
       "      <td>500000.000000</td>\n",
       "      <td>500000.000000</td>\n",
       "      <td>500000.000000</td>\n",
       "      <td>500000.000000</td>\n",
       "    </tr>\n",
       "    <tr>\n",
       "      <th>mean</th>\n",
       "      <td>500523.203830</td>\n",
       "      <td>0.0</td>\n",
       "      <td>0.066604</td>\n",
       "      <td>2.844764</td>\n",
       "      <td>0.397112</td>\n",
       "      <td>0.987116</td>\n",
       "      <td>0.782856</td>\n",
       "      <td>32.638250</td>\n",
       "      <td>32.135304</td>\n",
       "      <td>502.600602</td>\n",
       "      <td>858.208852</td>\n",
       "      <td>103.397966</td>\n",
       "      <td>180.445350</td>\n",
       "      <td>0.500276</td>\n",
       "      <td>0.499664</td>\n",
       "      <td>2.045772</td>\n",
       "      <td>2.047700</td>\n",
       "      <td>2.379436</td>\n",
       "    </tr>\n",
       "    <tr>\n",
       "      <th>std</th>\n",
       "      <td>288799.103625</td>\n",
       "      <td>0.0</td>\n",
       "      <td>0.249335</td>\n",
       "      <td>2.459804</td>\n",
       "      <td>0.489300</td>\n",
       "      <td>0.112774</td>\n",
       "      <td>0.412302</td>\n",
       "      <td>6.580018</td>\n",
       "      <td>6.401644</td>\n",
       "      <td>451.300631</td>\n",
       "      <td>861.454749</td>\n",
       "      <td>239.628509</td>\n",
       "      <td>216.249302</td>\n",
       "      <td>0.500000</td>\n",
       "      <td>0.500000</td>\n",
       "      <td>0.734821</td>\n",
       "      <td>0.732187</td>\n",
       "      <td>0.765319</td>\n",
       "    </tr>\n",
       "    <tr>\n",
       "      <th>min</th>\n",
       "      <td>3.000000</td>\n",
       "      <td>0.0</td>\n",
       "      <td>0.000000</td>\n",
       "      <td>1.000000</td>\n",
       "      <td>0.000000</td>\n",
       "      <td>0.000000</td>\n",
       "      <td>0.000000</td>\n",
       "      <td>10.000000</td>\n",
       "      <td>10.000000</td>\n",
       "      <td>6.000000</td>\n",
       "      <td>9.000000</td>\n",
       "      <td>0.000000</td>\n",
       "      <td>0.000000</td>\n",
       "      <td>0.000000</td>\n",
       "      <td>0.000000</td>\n",
       "      <td>1.000000</td>\n",
       "      <td>1.000000</td>\n",
       "      <td>1.000000</td>\n",
       "    </tr>\n",
       "    <tr>\n",
       "      <th>25%</th>\n",
       "      <td>250401.500000</td>\n",
       "      <td>0.0</td>\n",
       "      <td>0.000000</td>\n",
       "      <td>1.000000</td>\n",
       "      <td>0.000000</td>\n",
       "      <td>1.000000</td>\n",
       "      <td>1.000000</td>\n",
       "      <td>28.000000</td>\n",
       "      <td>28.000000</td>\n",
       "      <td>273.000000</td>\n",
       "      <td>389.000000</td>\n",
       "      <td>33.000000</td>\n",
       "      <td>53.000000</td>\n",
       "      <td>0.000000</td>\n",
       "      <td>0.000000</td>\n",
       "      <td>2.000000</td>\n",
       "      <td>2.000000</td>\n",
       "      <td>2.000000</td>\n",
       "    </tr>\n",
       "    <tr>\n",
       "      <th>50%</th>\n",
       "      <td>500060.000000</td>\n",
       "      <td>0.0</td>\n",
       "      <td>0.000000</td>\n",
       "      <td>3.000000</td>\n",
       "      <td>0.000000</td>\n",
       "      <td>1.000000</td>\n",
       "      <td>1.000000</td>\n",
       "      <td>32.000000</td>\n",
       "      <td>32.000000</td>\n",
       "      <td>390.000000</td>\n",
       "      <td>575.000000</td>\n",
       "      <td>59.000000</td>\n",
       "      <td>111.000000</td>\n",
       "      <td>1.000000</td>\n",
       "      <td>0.000000</td>\n",
       "      <td>2.000000</td>\n",
       "      <td>2.000000</td>\n",
       "      <td>3.000000</td>\n",
       "    </tr>\n",
       "    <tr>\n",
       "      <th>75%</th>\n",
       "      <td>751162.250000</td>\n",
       "      <td>0.0</td>\n",
       "      <td>0.000000</td>\n",
       "      <td>3.000000</td>\n",
       "      <td>1.000000</td>\n",
       "      <td>1.000000</td>\n",
       "      <td>1.000000</td>\n",
       "      <td>37.000000</td>\n",
       "      <td>36.000000</td>\n",
       "      <td>572.000000</td>\n",
       "      <td>946.000000</td>\n",
       "      <td>114.000000</td>\n",
       "      <td>226.000000</td>\n",
       "      <td>1.000000</td>\n",
       "      <td>1.000000</td>\n",
       "      <td>3.000000</td>\n",
       "      <td>3.000000</td>\n",
       "      <td>3.000000</td>\n",
       "    </tr>\n",
       "    <tr>\n",
       "      <th>max</th>\n",
       "      <td>999681.000000</td>\n",
       "      <td>0.0</td>\n",
       "      <td>1.000000</td>\n",
       "      <td>116.000000</td>\n",
       "      <td>1.000000</td>\n",
       "      <td>1.000000</td>\n",
       "      <td>1.000000</td>\n",
       "      <td>70.000000</td>\n",
       "      <td>70.000000</td>\n",
       "      <td>12865.000000</td>\n",
       "      <td>17676.000000</td>\n",
       "      <td>54769.000000</td>\n",
       "      <td>7313.000000</td>\n",
       "      <td>1.000000</td>\n",
       "      <td>1.000000</td>\n",
       "      <td>3.000000</td>\n",
       "      <td>3.000000</td>\n",
       "      <td>3.000000</td>\n",
       "    </tr>\n",
       "  </tbody>\n",
       "</table>\n",
       "</div>"
      ],
      "text/plain": [
       "                user     expid       if_click  real_like_cnt   brand_effect  \\\n",
       "count  500000.000000  500000.0  500000.000000  500000.000000  500000.000000   \n",
       "mean   500523.203830       0.0       0.066604       2.844764       0.397112   \n",
       "std    288799.103625       0.0       0.249335       2.459804       0.489300   \n",
       "min         3.000000       0.0       0.000000       1.000000       0.000000   \n",
       "25%    250401.500000       0.0       0.000000       1.000000       0.000000   \n",
       "50%    500060.000000       0.0       0.000000       3.000000       0.000000   \n",
       "75%    751162.250000       0.0       0.000000       3.000000       1.000000   \n",
       "max    999681.000000       0.0       1.000000     116.000000       1.000000   \n",
       "\n",
       "          experience         status       user_age     friend_age  \\\n",
       "count  500000.000000  500000.000000  500000.000000  500000.000000   \n",
       "mean        0.987116       0.782856      32.638250      32.135304   \n",
       "std         0.112774       0.412302       6.580018       6.401644   \n",
       "min         0.000000       0.000000      10.000000      10.000000   \n",
       "25%         1.000000       1.000000      28.000000      28.000000   \n",
       "50%         1.000000       1.000000      32.000000      32.000000   \n",
       "75%         1.000000       1.000000      37.000000      36.000000   \n",
       "max         1.000000       1.000000      70.000000      70.000000   \n",
       "\n",
       "         user_degree  friend_degree  user_sns_like_cnt  user_sns_comment_cnt  \\\n",
       "count  500000.000000  500000.000000      500000.000000         500000.000000   \n",
       "mean      502.600602     858.208852         103.397966            180.445350   \n",
       "std       451.300631     861.454749         239.628509            216.249302   \n",
       "min         6.000000       9.000000           0.000000              0.000000   \n",
       "25%       273.000000     389.000000          33.000000             53.000000   \n",
       "50%       390.000000     575.000000          59.000000            111.000000   \n",
       "75%       572.000000     946.000000         114.000000            226.000000   \n",
       "max     12865.000000   17676.000000       54769.000000           7313.000000   \n",
       "\n",
       "       user_gender_int  friend_gender_int  user_city_int  friend_city_int  \\\n",
       "count    500000.000000      500000.000000  500000.000000    500000.000000   \n",
       "mean          0.500276           0.499664       2.045772         2.047700   \n",
       "std           0.500000           0.500000       0.734821         0.732187   \n",
       "min           0.000000           0.000000       1.000000         1.000000   \n",
       "25%           0.000000           0.000000       2.000000         2.000000   \n",
       "50%           1.000000           0.000000       2.000000         2.000000   \n",
       "75%           1.000000           1.000000       3.000000         3.000000   \n",
       "max           1.000000           1.000000       3.000000         3.000000   \n",
       "\n",
       "            week_int  \n",
       "count  500000.000000  \n",
       "mean        2.379436  \n",
       "std         0.765319  \n",
       "min         1.000000  \n",
       "25%         2.000000  \n",
       "50%         3.000000  \n",
       "75%         3.000000  \n",
       "max         3.000000  "
      ]
     },
     "execution_count": 23,
     "metadata": {},
     "output_type": "execute_result"
    }
   ],
   "source": [
    "df[df['expid'] == 0].describe()"
   ]
  },
  {
   "cell_type": "code",
   "execution_count": 24,
   "id": "06ce6a9b",
   "metadata": {},
   "outputs": [
    {
     "data": {
      "text/plain": [
       "['user',\n",
       " 'adid',\n",
       " 'week',\n",
       " 'expid',\n",
       " 'if_click',\n",
       " 'real_like_cnt',\n",
       " 'category',\n",
       " 'brand_effect',\n",
       " 'experience',\n",
       " 'status',\n",
       " 'user_age',\n",
       " 'friend_age',\n",
       " 'user_gender',\n",
       " 'friend_gender',\n",
       " 'user_city',\n",
       " 'friend_city',\n",
       " 'user_degree',\n",
       " 'friend_degree',\n",
       " 'user_sns_like_cnt',\n",
       " 'user_sns_comment_cnt',\n",
       " 'user_gender_int',\n",
       " 'friend_gender_int',\n",
       " 'user_city_int',\n",
       " 'friend_city_int',\n",
       " 'week_int']"
      ]
     },
     "execution_count": 24,
     "metadata": {},
     "output_type": "execute_result"
    }
   ],
   "source": [
    "feature=list(df.columns)\n",
    "feature"
   ]
  },
  {
   "cell_type": "code",
   "execution_count": 25,
   "id": "fb5e1cd7",
   "metadata": {},
   "outputs": [],
   "source": [
    "feature.remove('user')\n",
    "feature.remove('expid')\n",
    "feature.remove(\"adid\")\n",
    "feature.remove(\"week\")\n",
    "feature.remove('category')\n",
    "feature.remove('user_gender')\n",
    "feature.remove('friend_gender')\n",
    "feature.remove('user_city')\n",
    "feature.remove('friend_city')"
   ]
  },
  {
   "cell_type": "code",
   "execution_count": 26,
   "id": "44f53952",
   "metadata": {},
   "outputs": [
    {
     "data": {
      "text/plain": [
       "['if_click',\n",
       " 'real_like_cnt',\n",
       " 'brand_effect',\n",
       " 'experience',\n",
       " 'status',\n",
       " 'user_age',\n",
       " 'friend_age',\n",
       " 'user_degree',\n",
       " 'friend_degree',\n",
       " 'user_sns_like_cnt',\n",
       " 'user_sns_comment_cnt',\n",
       " 'user_gender_int',\n",
       " 'friend_gender_int',\n",
       " 'user_city_int',\n",
       " 'friend_city_int',\n",
       " 'week_int']"
      ]
     },
     "execution_count": 26,
     "metadata": {},
     "output_type": "execute_result"
    }
   ],
   "source": [
    "feature"
   ]
  },
  {
   "cell_type": "markdown",
   "id": "c19b83bf",
   "metadata": {},
   "source": [
    "# Randomization checks"
   ]
  },
  {
   "cell_type": "code",
   "execution_count": 27,
   "id": "101f9b9d",
   "metadata": {},
   "outputs": [
    {
     "name": "stdout",
     "output_type": "stream",
     "text": [
      "if_click\n",
      "(-0.00890569808391873, -0.006898301916081283)\n",
      "real_like_cnt\n",
      "(-0.007142305509456694, 0.012166305509457277)\n",
      "brand_effect\n",
      "(-0.0019020166755204892, 0.0019340166755205212)\n",
      "experience\n",
      "(-0.0007434854411718893, 0.00013548544117194736)\n",
      "status\n",
      "(-0.001680109478772677, 0.001552109478772771)\n",
      "user_age\n",
      "(-0.03325674544037227, 0.018340745440372782)\n",
      "friend_age\n",
      "(-0.057547764105012826, -0.007384235894986053)\n",
      "user_degree\n",
      "(-1.1333290972219368, 2.4117810972219527)\n",
      "friend_degree\n",
      "(1.2935001471932592, 8.020579852806616)\n",
      "user_sns_like_cnt\n",
      "(-0.21764140669843968, 1.537325406698435)\n",
      "user_sns_comment_cnt\n",
      "(-0.2755972666490246, 1.4135252666490126)\n",
      "user_gender_int\n",
      "(-0.0033679626092894244, 0.0005519626092894948)\n",
      "friend_gender_int\n",
      "(-0.002605967907162667, 0.001313967907162596)\n",
      "user_city_int\n",
      "(-0.0039347925798188105, 0.0018227925798184742)\n",
      "friend_city_int\n",
      "(-0.0030762065900706856, 0.0026602065900702696)\n",
      "week_int\n",
      "(-0.0048389909819123965, 0.0011589909819122684)\n"
     ]
    }
   ],
   "source": [
    "def multi_cm(x):\n",
    "    x0 = df[df['expid'] == 0][x]\n",
    "    x1 = df[df['expid'] == 1][x]\n",
    "    cm01 = sms.CompareMeans(sms.DescrStatsW(x0), sms.DescrStatsW(x1)) \n",
    "    print(x)\n",
    "    print(cm01.tconfint_diff(alpha=0.05, alternative='two-sided', usevar='pooled'))\n",
    "    return\n",
    "for i in feature:\n",
    "    multi_cm(i)"
   ]
  },
  {
   "cell_type": "code",
   "execution_count": 28,
   "id": "d4c0da02",
   "metadata": {},
   "outputs": [
    {
     "name": "stdout",
     "output_type": "stream",
     "text": [
      "if_click\n",
      "(-0.009221083800712829, -0.006582916199287184)\n",
      "real_like_cnt\n",
      "(-0.010175917022753021, 0.015199917022753605)\n",
      "brand_effect\n",
      "(-0.0025047029551139573, 0.0025367029551139893)\n",
      "experience\n",
      "(-0.0008815821787320657, 0.0002735821787321238)\n",
      "status\n",
      "(-0.002187929364599764, 0.002059929364599858)\n",
      "user_age\n",
      "(-0.041363322461355434, 0.02644732246135595)\n",
      "friend_age\n",
      "(-0.06542904860426738, 0.0004970486042685032)\n",
      "user_degree\n",
      "(-1.6903079027525099, 2.9687599027525255)\n",
      "friend_degree\n",
      "(0.2365962390964773, 9.077483760903398)\n",
      "user_sns_like_cnt\n",
      "(-0.4933674817309033, 1.8130514817308985)\n",
      "user_sns_comment_cnt\n",
      "(-0.5409784253124714, 1.6789064253124595)\n",
      "user_gender_int\n",
      "(-0.003983829295023222, 0.0011678292950232923)\n",
      "friend_gender_int\n",
      "(-0.003221836257613728, 0.0019298362576136573)\n",
      "user_city_int\n",
      "(-0.004839377410491013, 0.002727377410490678)\n",
      "friend_city_int\n",
      "(-0.00397746505196906, 0.0035614650519686436)\n",
      "week_int\n",
      "(-0.005781344998168592, 0.0021013449981684643)\n"
     ]
    }
   ],
   "source": [
    "def multi_cm_(x):\n",
    "    x0 = df[df['expid'] == 0][x]\n",
    "    x1 = df[df['expid'] == 1][x]\n",
    "    cm01 = sms.CompareMeans(sms.DescrStatsW(x0), sms.DescrStatsW(x1)) \n",
    "    print(x)\n",
    "    print(cm01.tconfint_diff(alpha=0.01, alternative='two-sided', usevar='pooled'))\n",
    "    return\n",
    "for i in feature:\n",
    "    multi_cm_(i)"
   ]
  },
  {
   "cell_type": "code",
   "execution_count": 29,
   "id": "19482d85",
   "metadata": {},
   "outputs": [
    {
     "name": "stdout",
     "output_type": "stream",
     "text": [
      "if_click\n",
      "(-0.009587082567743705, -0.006216917432256308)\n",
      "real_like_cnt\n",
      "(-0.013696362034668362, 0.018720362034668946)\n",
      "brand_effect\n",
      "(-0.003204108234084292, 0.003236108234084324)\n",
      "experience\n",
      "(-0.001041840659020216, 0.000433840659020274)\n",
      "status\n",
      "(-0.00277724410584981, 0.002649244105849904)\n",
      "user_age\n",
      "(-0.05077084168790843, 0.035854841687908943)\n",
      "friend_age\n",
      "(-0.07457512040063194, 0.009643120400633066)\n",
      "user_degree\n",
      "(-2.3366705794098275, 3.615122579409843)\n",
      "friend_degree\n",
      "(-0.9899194419737549, 10.30399944197363)\n",
      "user_sns_like_cnt\n",
      "(-0.8133420339267083, 2.1330260339267033)\n",
      "user_sns_comment_cnt\n",
      "(-0.8489479105870961, 1.9868759105870841)\n",
      "user_gender_int\n",
      "(-0.0046985301696386705, 0.0018825301696387409)\n",
      "friend_gender_int\n",
      "(-0.003936539064100006, 0.0026445390640999346)\n",
      "user_city_int\n",
      "(-0.005889129872543715, 0.0037771298725433793)\n",
      "friend_city_int\n",
      "(-0.005023357330110178, 0.004607357330109762)\n",
      "week_int\n",
      "(-0.006874927838768609, 0.003194927838768481)\n"
     ]
    }
   ],
   "source": [
    "def multi_cm__(x):\n",
    "    x0 = df[df['expid'] == 0][x]\n",
    "    x1 = df[df['expid'] == 1][x]\n",
    "    cm01 = sms.CompareMeans(sms.DescrStatsW(x0), sms.DescrStatsW(x1)) \n",
    "    print(x)\n",
    "    print(cm01.tconfint_diff(alpha=0.001, alternative='two-sided', usevar='pooled'))\n",
    "    return\n",
    "for i in feature:\n",
    "    multi_cm__(i)"
   ]
  },
  {
   "cell_type": "code",
   "execution_count": null,
   "id": "ba30cb1e",
   "metadata": {},
   "outputs": [],
   "source": []
  },
  {
   "cell_type": "code",
   "execution_count": null,
   "id": "384d361b",
   "metadata": {},
   "outputs": [],
   "source": []
  },
  {
   "cell_type": "code",
   "execution_count": null,
   "id": "f3037c5c",
   "metadata": {},
   "outputs": [],
   "source": []
  },
  {
   "cell_type": "code",
   "execution_count": null,
   "id": "eedbba1c",
   "metadata": {},
   "outputs": [],
   "source": []
  },
  {
   "cell_type": "code",
   "execution_count": null,
   "id": "9667bae8",
   "metadata": {},
   "outputs": [],
   "source": []
  }
 ],
 "metadata": {
  "kernelspec": {
   "display_name": "Python 3 (ipykernel)",
   "language": "python",
   "name": "python3"
  },
  "language_info": {
   "codemirror_mode": {
    "name": "ipython",
    "version": 3
   },
   "file_extension": ".py",
   "mimetype": "text/x-python",
   "name": "python",
   "nbconvert_exporter": "python",
   "pygments_lexer": "ipython3",
   "version": "3.9.12"
  }
 },
 "nbformat": 4,
 "nbformat_minor": 5
}
