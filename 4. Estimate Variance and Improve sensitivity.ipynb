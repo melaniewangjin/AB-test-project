{
 "cells": [
  {
   "cell_type": "code",
   "execution_count": 1,
   "id": "c90df97b",
   "metadata": {},
   "outputs": [],
   "source": [
    "import numpy as np, statsmodels.stats.api as sms\n",
    "import itertools\n",
    "import matplotlib.pyplot as plt\n",
    "from matplotlib.ticker import NullFormatter\n",
    "import pandas as pd\n",
    "import numpy as np\n",
    "import matplotlib.ticker as ticker\n",
    "import random\n",
    "from sklearn import preprocessing\n",
    "import bootstrapped.bootstrap as bs\n",
    "import bootstrapped.compare_functions as bs_compare\n",
    "import bootstrapped.stats_functions as bs_stats\n",
    "from termcolor import colored, cprint\n",
    "import statsmodels.formula.api as smf"
   ]
  },
  {
   "cell_type": "code",
   "execution_count": 2,
   "id": "82829c6f",
   "metadata": {},
   "outputs": [],
   "source": [
    "df = pd.read_csv('project_data.csv')"
   ]
  },
  {
   "cell_type": "code",
   "execution_count": 3,
   "id": "fd1ba734",
   "metadata": {},
   "outputs": [
    {
     "data": {
      "text/html": [
       "<div>\n",
       "<style scoped>\n",
       "    .dataframe tbody tr th:only-of-type {\n",
       "        vertical-align: middle;\n",
       "    }\n",
       "\n",
       "    .dataframe tbody tr th {\n",
       "        vertical-align: top;\n",
       "    }\n",
       "\n",
       "    .dataframe thead th {\n",
       "        text-align: right;\n",
       "    }\n",
       "</style>\n",
       "<table border=\"1\" class=\"dataframe\">\n",
       "  <thead>\n",
       "    <tr style=\"text-align: right;\">\n",
       "      <th></th>\n",
       "      <th>user</th>\n",
       "      <th>adid</th>\n",
       "      <th>week</th>\n",
       "      <th>expid</th>\n",
       "      <th>if_click</th>\n",
       "      <th>real_like_cnt</th>\n",
       "      <th>category</th>\n",
       "      <th>brand_effect</th>\n",
       "      <th>experience</th>\n",
       "      <th>status</th>\n",
       "      <th>user_age</th>\n",
       "      <th>friend_age</th>\n",
       "      <th>user_gender</th>\n",
       "      <th>friend_gender</th>\n",
       "      <th>user_city</th>\n",
       "      <th>friend_city</th>\n",
       "      <th>user_degree</th>\n",
       "      <th>friend_degree</th>\n",
       "      <th>user_sns_like_cnt</th>\n",
       "      <th>user_sns_comment_cnt</th>\n",
       "    </tr>\n",
       "  </thead>\n",
       "  <tbody>\n",
       "    <tr>\n",
       "      <th>0</th>\n",
       "      <td>297353</td>\n",
       "      <td>0b0fa14b56d3741178196daaa92e6a1e</td>\n",
       "      <td>w_2</td>\n",
       "      <td>1</td>\n",
       "      <td>0</td>\n",
       "      <td>3</td>\n",
       "      <td>Car</td>\n",
       "      <td>1</td>\n",
       "      <td>1</td>\n",
       "      <td>1</td>\n",
       "      <td>48</td>\n",
       "      <td>37</td>\n",
       "      <td>female</td>\n",
       "      <td>male</td>\n",
       "      <td>level_1</td>\n",
       "      <td>level_1</td>\n",
       "      <td>495</td>\n",
       "      <td>436</td>\n",
       "      <td>162</td>\n",
       "      <td>138</td>\n",
       "    </tr>\n",
       "    <tr>\n",
       "      <th>1</th>\n",
       "      <td>98719</td>\n",
       "      <td>ea875acb76e0a806a7837174528f62d9</td>\n",
       "      <td>w_3</td>\n",
       "      <td>1</td>\n",
       "      <td>0</td>\n",
       "      <td>3</td>\n",
       "      <td>Car</td>\n",
       "      <td>1</td>\n",
       "      <td>1</td>\n",
       "      <td>1</td>\n",
       "      <td>29</td>\n",
       "      <td>34</td>\n",
       "      <td>female</td>\n",
       "      <td>female</td>\n",
       "      <td>level_3</td>\n",
       "      <td>level_2</td>\n",
       "      <td>479</td>\n",
       "      <td>3911</td>\n",
       "      <td>212</td>\n",
       "      <td>312</td>\n",
       "    </tr>\n",
       "    <tr>\n",
       "      <th>2</th>\n",
       "      <td>205144</td>\n",
       "      <td>1f1fe825014d9e9a0881233d9950bd43</td>\n",
       "      <td>w_2</td>\n",
       "      <td>1</td>\n",
       "      <td>0</td>\n",
       "      <td>1</td>\n",
       "      <td>Jewelry</td>\n",
       "      <td>0</td>\n",
       "      <td>1</td>\n",
       "      <td>1</td>\n",
       "      <td>24</td>\n",
       "      <td>24</td>\n",
       "      <td>female</td>\n",
       "      <td>male</td>\n",
       "      <td>level_2</td>\n",
       "      <td>level_1</td>\n",
       "      <td>682</td>\n",
       "      <td>470</td>\n",
       "      <td>95</td>\n",
       "      <td>336</td>\n",
       "    </tr>\n",
       "    <tr>\n",
       "      <th>3</th>\n",
       "      <td>559194</td>\n",
       "      <td>1f1fe825014d9e9a0881233d9950bd43</td>\n",
       "      <td>w_2</td>\n",
       "      <td>1</td>\n",
       "      <td>0</td>\n",
       "      <td>5</td>\n",
       "      <td>Jewelry</td>\n",
       "      <td>0</td>\n",
       "      <td>1</td>\n",
       "      <td>1</td>\n",
       "      <td>26</td>\n",
       "      <td>41</td>\n",
       "      <td>male</td>\n",
       "      <td>male</td>\n",
       "      <td>level_1</td>\n",
       "      <td>level_1</td>\n",
       "      <td>340</td>\n",
       "      <td>602</td>\n",
       "      <td>35</td>\n",
       "      <td>138</td>\n",
       "    </tr>\n",
       "    <tr>\n",
       "      <th>4</th>\n",
       "      <td>11888</td>\n",
       "      <td>0d82161270febc99f7defb653e339113</td>\n",
       "      <td>w_3</td>\n",
       "      <td>0</td>\n",
       "      <td>0</td>\n",
       "      <td>1</td>\n",
       "      <td>Cosmetrics</td>\n",
       "      <td>0</td>\n",
       "      <td>1</td>\n",
       "      <td>1</td>\n",
       "      <td>40</td>\n",
       "      <td>34</td>\n",
       "      <td>female</td>\n",
       "      <td>female</td>\n",
       "      <td>level_1</td>\n",
       "      <td>level_2</td>\n",
       "      <td>95</td>\n",
       "      <td>836</td>\n",
       "      <td>50</td>\n",
       "      <td>38</td>\n",
       "    </tr>\n",
       "  </tbody>\n",
       "</table>\n",
       "</div>"
      ],
      "text/plain": [
       "     user                              adid week  expid  if_click  \\\n",
       "0  297353  0b0fa14b56d3741178196daaa92e6a1e  w_2      1         0   \n",
       "1   98719  ea875acb76e0a806a7837174528f62d9  w_3      1         0   \n",
       "2  205144  1f1fe825014d9e9a0881233d9950bd43  w_2      1         0   \n",
       "3  559194  1f1fe825014d9e9a0881233d9950bd43  w_2      1         0   \n",
       "4   11888  0d82161270febc99f7defb653e339113  w_3      0         0   \n",
       "\n",
       "   real_like_cnt    category  brand_effect  experience  status  user_age  \\\n",
       "0              3         Car             1           1       1        48   \n",
       "1              3         Car             1           1       1        29   \n",
       "2              1     Jewelry             0           1       1        24   \n",
       "3              5     Jewelry             0           1       1        26   \n",
       "4              1  Cosmetrics             0           1       1        40   \n",
       "\n",
       "   friend_age user_gender friend_gender user_city friend_city  user_degree  \\\n",
       "0          37      female          male   level_1     level_1          495   \n",
       "1          34      female        female   level_3     level_2          479   \n",
       "2          24      female          male   level_2     level_1          682   \n",
       "3          41        male          male   level_1     level_1          340   \n",
       "4          34      female        female   level_1     level_2           95   \n",
       "\n",
       "   friend_degree  user_sns_like_cnt  user_sns_comment_cnt  \n",
       "0            436                162                   138  \n",
       "1           3911                212                   312  \n",
       "2            470                 95                   336  \n",
       "3            602                 35                   138  \n",
       "4            836                 50                    38  "
      ]
     },
     "execution_count": 3,
     "metadata": {},
     "output_type": "execute_result"
    }
   ],
   "source": [
    "df.head()"
   ]
  },
  {
   "cell_type": "markdown",
   "id": "55a3b350",
   "metadata": {},
   "source": [
    "### **1. Correctly estimate variance**"
   ]
  },
  {
   "cell_type": "markdown",
   "id": "a3f4d4e2",
   "metadata": {},
   "source": [
    "#### Means with t tests"
   ]
  },
  {
   "cell_type": "code",
   "execution_count": 4,
   "id": "057d04b4",
   "metadata": {},
   "outputs": [
    {
     "name": "stdout",
     "output_type": "stream",
     "text": [
      "0.007902000000000006\n"
     ]
    }
   ],
   "source": [
    "y0 = df[df['expid'] == 0]['if_click']\n",
    "y1 = df[df['expid'] == 1]['if_click']\n",
    "mean_d = np.mean(y1)-np.mean(y0)\n",
    "print(mean_d)"
   ]
  },
  {
   "cell_type": "code",
   "execution_count": 5,
   "id": "7cb4c583",
   "metadata": {},
   "outputs": [
    {
     "name": "stdout",
     "output_type": "stream",
     "text": [
      "(-15.430590532876625, 1.0340426453463637e-53, 997326.0389910816)\n"
     ]
    }
   ],
   "source": [
    "cm = sms.CompareMeans(sms.DescrStatsW(y0), sms.DescrStatsW(y1))\n",
    "print(cm.ttest_ind(alternative='two-sided', usevar='unequal'))"
   ]
  },
  {
   "cell_type": "markdown",
   "id": "293f6137",
   "metadata": {},
   "source": [
    "#### 1.1 traditional method of calculate variance"
   ]
  },
  {
   "cell_type": "code",
   "execution_count": 6,
   "id": "af28dcb0",
   "metadata": {},
   "outputs": [
    {
     "name": "stdout",
     "output_type": "stream",
     "text": [
      "0.06216790718374178 0.06895485596456183\n"
     ]
    }
   ],
   "source": [
    "# variance of population\n",
    "v0 = np.var(y0)\n",
    "v1 = np.var(y1)\n",
    "print(v0,v1)"
   ]
  },
  {
   "cell_type": "code",
   "execution_count": 7,
   "id": "363dd46e",
   "metadata": {},
   "outputs": [
    {
     "name": "stdout",
     "output_type": "stream",
     "text": [
      "500000 500000\n"
     ]
    }
   ],
   "source": [
    "# sample size \n",
    "n0 = len(y0)\n",
    "n1 = len(y1)\n",
    "print(n0,n1)"
   ]
  },
  {
   "cell_type": "code",
   "execution_count": 8,
   "id": "14852100",
   "metadata": {},
   "outputs": [],
   "source": [
    "# variance of mean\n",
    "v0_bar = v0/n0\n",
    "v1_bar = v1/n1"
   ]
  },
  {
   "cell_type": "code",
   "execution_count": 9,
   "id": "985f2e80",
   "metadata": {},
   "outputs": [],
   "source": [
    "v_delta = v0_bar+v1_bar\n",
    "se_delat = np.sqrt(v_delta)"
   ]
  },
  {
   "cell_type": "code",
   "execution_count": 10,
   "id": "ed26c555",
   "metadata": {},
   "outputs": [
    {
     "name": "stdout",
     "output_type": "stream",
     "text": [
      "standand error of delta : 0.0005120991371761987\n"
     ]
    }
   ],
   "source": [
    "print('standand error of delta :',se_delat)"
   ]
  },
  {
   "cell_type": "markdown",
   "id": "bf427136",
   "metadata": {},
   "source": [
    "#### 1.2 Cluster standard error"
   ]
  },
  {
   "cell_type": "code",
   "execution_count": 11,
   "id": "5f8febcb",
   "metadata": {},
   "outputs": [],
   "source": [
    "import statsmodels.formula.api as smf\n",
    "model = smf.ols(formula='if_click ~ expid', data=df)"
   ]
  },
  {
   "cell_type": "markdown",
   "id": "574b5634",
   "metadata": {},
   "source": [
    "##### OLS without Clustered SE"
   ]
  },
  {
   "cell_type": "code",
   "execution_count": 12,
   "id": "2ed3e084",
   "metadata": {},
   "outputs": [
    {
     "name": "stdout",
     "output_type": "stream",
     "text": [
      "Treatment effect without clustered errors\n",
      "                  Results: Ordinary least squares\n",
      "====================================================================\n",
      "Model:              OLS              Adj. R-squared:     0.000      \n",
      "Dependent Variable: if_click         AIC:                113112.6145\n",
      "Date:               2023-03-03 20:25 BIC:                113136.2455\n",
      "No. Observations:   1000000          Log-Likelihood:     -56554.    \n",
      "Df Model:           1                F-statistic:        238.1      \n",
      "Df Residuals:       999998           Prob (F-statistic): 1.03e-53   \n",
      "R-squared:          0.000            Scale:              0.065562   \n",
      "----------------------------------------------------------------------\n",
      "               Coef.    Std.Err.      t       P>|t|    [0.025   0.975]\n",
      "----------------------------------------------------------------------\n",
      "Intercept      0.0666     0.0004   183.9335   0.0000   0.0659   0.0673\n",
      "expid          0.0079     0.0005    15.4306   0.0000   0.0069   0.0089\n",
      "--------------------------------------------------------------------\n",
      "Omnibus:            665229.716     Durbin-Watson:        2.000      \n",
      "Prob(Omnibus):      0.000          Jarque-Bera (JB):     5434667.037\n",
      "Skew:               3.353          Prob(JB):             0.000      \n",
      "Kurtosis:           12.245         Condition No.:        3          \n",
      "====================================================================\n",
      "\n"
     ]
    }
   ],
   "source": [
    "result_ols = model.fit()\n",
    "print('Treatment effect without clustered errors')\n",
    "print(result_ols.summary2())"
   ]
  },
  {
   "cell_type": "markdown",
   "id": "9110bcec",
   "metadata": {},
   "source": [
    "##### OLS with Clustered SE"
   ]
  },
  {
   "cell_type": "code",
   "execution_count": 13,
   "id": "02ef2d3b",
   "metadata": {},
   "outputs": [
    {
     "name": "stdout",
     "output_type": "stream",
     "text": [
      "Treatment effect with clustered errors at user-level\n",
      "                  Results: Ordinary least squares\n",
      "====================================================================\n",
      "Model:              OLS              Adj. R-squared:     0.000      \n",
      "Dependent Variable: if_click         AIC:                113112.6145\n",
      "Date:               2023-03-03 20:25 BIC:                113136.2455\n",
      "No. Observations:   1000000          Log-Likelihood:     -56554.    \n",
      "Df Model:           1                F-statistic:        238.1      \n",
      "Df Residuals:       999998           Prob (F-statistic): 1.03e-53   \n",
      "R-squared:          0.000            Scale:              0.065562   \n",
      "----------------------------------------------------------------------\n",
      "               Coef.    Std.Err.      z       P>|z|    [0.025   0.975]\n",
      "----------------------------------------------------------------------\n",
      "Intercept      0.0666     0.0004   188.8869   0.0000   0.0659   0.0673\n",
      "expid          0.0079     0.0005    15.4306   0.0000   0.0069   0.0089\n",
      "--------------------------------------------------------------------\n",
      "Omnibus:            665229.716     Durbin-Watson:        2.000      \n",
      "Prob(Omnibus):      0.000          Jarque-Bera (JB):     5434667.037\n",
      "Skew:               3.353          Prob(JB):             0.000      \n",
      "Kurtosis:           12.245         Condition No.:        3          \n",
      "====================================================================\n",
      "\n"
     ]
    }
   ],
   "source": [
    "result_cluster = model.fit(cov_type='cluster', cov_kwds = {'groups': df.user})\n",
    "print('Treatment effect with clustered errors at user-level')\n",
    "print(result_cluster.summary2())"
   ]
  },
  {
   "cell_type": "code",
   "execution_count": 14,
   "id": "82346302",
   "metadata": {},
   "outputs": [
    {
     "data": {
      "text/html": [
       "<div>\n",
       "<style scoped>\n",
       "    .dataframe tbody tr th:only-of-type {\n",
       "        vertical-align: middle;\n",
       "    }\n",
       "\n",
       "    .dataframe tbody tr th {\n",
       "        vertical-align: top;\n",
       "    }\n",
       "\n",
       "    .dataframe thead th {\n",
       "        text-align: right;\n",
       "    }\n",
       "</style>\n",
       "<table border=\"1\" class=\"dataframe\">\n",
       "  <thead>\n",
       "    <tr style=\"text-align: right;\">\n",
       "      <th></th>\n",
       "      <th>user</th>\n",
       "      <th>adid</th>\n",
       "    </tr>\n",
       "  </thead>\n",
       "  <tbody>\n",
       "    <tr>\n",
       "      <th>0</th>\n",
       "      <td>1</td>\n",
       "      <td>1</td>\n",
       "    </tr>\n",
       "    <tr>\n",
       "      <th>1</th>\n",
       "      <td>2</td>\n",
       "      <td>1</td>\n",
       "    </tr>\n",
       "    <tr>\n",
       "      <th>2</th>\n",
       "      <td>3</td>\n",
       "      <td>1</td>\n",
       "    </tr>\n",
       "    <tr>\n",
       "      <th>3</th>\n",
       "      <td>4</td>\n",
       "      <td>1</td>\n",
       "    </tr>\n",
       "    <tr>\n",
       "      <th>4</th>\n",
       "      <td>5</td>\n",
       "      <td>1</td>\n",
       "    </tr>\n",
       "    <tr>\n",
       "      <th>...</th>\n",
       "      <td>...</td>\n",
       "      <td>...</td>\n",
       "    </tr>\n",
       "    <tr>\n",
       "      <th>999995</th>\n",
       "      <td>999996</td>\n",
       "      <td>1</td>\n",
       "    </tr>\n",
       "    <tr>\n",
       "      <th>999996</th>\n",
       "      <td>999997</td>\n",
       "      <td>1</td>\n",
       "    </tr>\n",
       "    <tr>\n",
       "      <th>999997</th>\n",
       "      <td>999998</td>\n",
       "      <td>1</td>\n",
       "    </tr>\n",
       "    <tr>\n",
       "      <th>999998</th>\n",
       "      <td>999999</td>\n",
       "      <td>1</td>\n",
       "    </tr>\n",
       "    <tr>\n",
       "      <th>999999</th>\n",
       "      <td>1000000</td>\n",
       "      <td>1</td>\n",
       "    </tr>\n",
       "  </tbody>\n",
       "</table>\n",
       "<p>1000000 rows × 2 columns</p>\n",
       "</div>"
      ],
      "text/plain": [
       "           user  adid\n",
       "0             1     1\n",
       "1             2     1\n",
       "2             3     1\n",
       "3             4     1\n",
       "4             5     1\n",
       "...         ...   ...\n",
       "999995   999996     1\n",
       "999996   999997     1\n",
       "999997   999998     1\n",
       "999998   999999     1\n",
       "999999  1000000     1\n",
       "\n",
       "[1000000 rows x 2 columns]"
      ]
     },
     "execution_count": 14,
     "metadata": {},
     "output_type": "execute_result"
    }
   ],
   "source": [
    "df.groupby(['user'])['adid'].count().reset_index()"
   ]
  },
  {
   "cell_type": "markdown",
   "id": "b195cf17",
   "metadata": {},
   "source": [
    "We can see that the result of cluster on user makes no difference with OLS without cluster. Then we check the data, and find one user will only see one ad, so no correlation within user across different ads."
   ]
  },
  {
   "cell_type": "code",
   "execution_count": 15,
   "id": "58f3c29d",
   "metadata": {},
   "outputs": [
    {
     "name": "stdout",
     "output_type": "stream",
     "text": [
      "Treatment effect with clustered errors at ad-level\n",
      "                  Results: Ordinary least squares\n",
      "====================================================================\n",
      "Model:              OLS              Adj. R-squared:     0.000      \n",
      "Dependent Variable: if_click         AIC:                113112.6145\n",
      "Date:               2023-03-03 20:25 BIC:                113136.2455\n",
      "No. Observations:   1000000          Log-Likelihood:     -56554.    \n",
      "Df Model:           1                F-statistic:        46.61      \n",
      "Df Residuals:       999998           Prob (F-statistic): 7.38e-07   \n",
      "R-squared:          0.000            Scale:              0.065562   \n",
      "----------------------------------------------------------------------\n",
      "                Coef.    Std.Err.      z      P>|z|    [0.025   0.975]\n",
      "----------------------------------------------------------------------\n",
      "Intercept       0.0666     0.0046   14.3946   0.0000   0.0575   0.0757\n",
      "expid           0.0079     0.0012    6.8268   0.0000   0.0056   0.0102\n",
      "--------------------------------------------------------------------\n",
      "Omnibus:            665229.716     Durbin-Watson:        2.000      \n",
      "Prob(Omnibus):      0.000          Jarque-Bera (JB):     5434667.037\n",
      "Skew:               3.353          Prob(JB):             0.000      \n",
      "Kurtosis:           12.245         Condition No.:        3          \n",
      "====================================================================\n",
      "\n"
     ]
    }
   ],
   "source": [
    "result_cluster = model.fit(cov_type='cluster', cov_kwds = {'groups': df.adid})\n",
    "print('Treatment effect with clustered errors at ad-level')\n",
    "print(result_cluster.summary2())"
   ]
  },
  {
   "cell_type": "code",
   "execution_count": 16,
   "id": "83a9d8aa",
   "metadata": {},
   "outputs": [
    {
     "data": {
      "text/html": [
       "<div>\n",
       "<style scoped>\n",
       "    .dataframe tbody tr th:only-of-type {\n",
       "        vertical-align: middle;\n",
       "    }\n",
       "\n",
       "    .dataframe tbody tr th {\n",
       "        vertical-align: top;\n",
       "    }\n",
       "\n",
       "    .dataframe thead th {\n",
       "        text-align: right;\n",
       "    }\n",
       "</style>\n",
       "<table border=\"1\" class=\"dataframe\">\n",
       "  <thead>\n",
       "    <tr style=\"text-align: right;\">\n",
       "      <th></th>\n",
       "      <th>category</th>\n",
       "      <th>adid</th>\n",
       "      <th>user</th>\n",
       "    </tr>\n",
       "  </thead>\n",
       "  <tbody>\n",
       "    <tr>\n",
       "      <th>7</th>\n",
       "      <td>Car</td>\n",
       "      <td>6c21f585e63dd03012e9861bb501cbbc</td>\n",
       "      <td>37</td>\n",
       "    </tr>\n",
       "    <tr>\n",
       "      <th>11</th>\n",
       "      <td>Car</td>\n",
       "      <td>d446c604f22574f2d1f523a62091eb66</td>\n",
       "      <td>48</td>\n",
       "    </tr>\n",
       "    <tr>\n",
       "      <th>13</th>\n",
       "      <td>Car</td>\n",
       "      <td>e8ec07aa185dbcd55765628fc481942c</td>\n",
       "      <td>133</td>\n",
       "    </tr>\n",
       "    <tr>\n",
       "      <th>5</th>\n",
       "      <td>Car</td>\n",
       "      <td>1eeceb49bb35ba4f4127eb028767edc0</td>\n",
       "      <td>238</td>\n",
       "    </tr>\n",
       "    <tr>\n",
       "      <th>8</th>\n",
       "      <td>Car</td>\n",
       "      <td>88f460420dabe937becac2c4df5f9192</td>\n",
       "      <td>396</td>\n",
       "    </tr>\n",
       "    <tr>\n",
       "      <th>10</th>\n",
       "      <td>Car</td>\n",
       "      <td>c67481e9b64f1637e9b8ebe9b891fdae</td>\n",
       "      <td>535</td>\n",
       "    </tr>\n",
       "    <tr>\n",
       "      <th>2</th>\n",
       "      <td>Beverage</td>\n",
       "      <td>aba26e1c9dbe64e83550df881e84bddb</td>\n",
       "      <td>1769</td>\n",
       "    </tr>\n",
       "    <tr>\n",
       "      <th>20</th>\n",
       "      <td>Cosmetrics</td>\n",
       "      <td>54e1b7101869b70d061fbc5173f6ad53</td>\n",
       "      <td>2229</td>\n",
       "    </tr>\n",
       "    <tr>\n",
       "      <th>6</th>\n",
       "      <td>Car</td>\n",
       "      <td>216249750986b9a1ca17853f4e77d4ec</td>\n",
       "      <td>2324</td>\n",
       "    </tr>\n",
       "    <tr>\n",
       "      <th>9</th>\n",
       "      <td>Car</td>\n",
       "      <td>a16cdc60bdb8bffc25b9d02c525d5478</td>\n",
       "      <td>6473</td>\n",
       "    </tr>\n",
       "    <tr>\n",
       "      <th>18</th>\n",
       "      <td>Cosmetrics</td>\n",
       "      <td>3b97e8d3682a72159f4a6bccee86ac1c</td>\n",
       "      <td>9592</td>\n",
       "    </tr>\n",
       "    <tr>\n",
       "      <th>12</th>\n",
       "      <td>Car</td>\n",
       "      <td>e2a99e04da97a6103127931f3ce7aa01</td>\n",
       "      <td>12551</td>\n",
       "    </tr>\n",
       "    <tr>\n",
       "      <th>19</th>\n",
       "      <td>Cosmetrics</td>\n",
       "      <td>4b1e5c31834e0fd5a30640d96ad20a6f</td>\n",
       "      <td>14883</td>\n",
       "    </tr>\n",
       "    <tr>\n",
       "      <th>0</th>\n",
       "      <td>Beverage</td>\n",
       "      <td>976aabce935794606f1ba9abd0f04ace</td>\n",
       "      <td>25634</td>\n",
       "    </tr>\n",
       "    <tr>\n",
       "      <th>17</th>\n",
       "      <td>Cosmetrics</td>\n",
       "      <td>26ff0b4edf5c7f38fb44b7fac8af0209</td>\n",
       "      <td>28356</td>\n",
       "    </tr>\n",
       "    <tr>\n",
       "      <th>4</th>\n",
       "      <td>Car</td>\n",
       "      <td>0b0fa14b56d3741178196daaa92e6a1e</td>\n",
       "      <td>60932</td>\n",
       "    </tr>\n",
       "    <tr>\n",
       "      <th>21</th>\n",
       "      <td>Jewelry</td>\n",
       "      <td>1f1fe825014d9e9a0881233d9950bd43</td>\n",
       "      <td>68907</td>\n",
       "    </tr>\n",
       "    <tr>\n",
       "      <th>3</th>\n",
       "      <td>Beverage</td>\n",
       "      <td>bcf3ad5ca68792826b1792aaf3a2d630</td>\n",
       "      <td>73001</td>\n",
       "    </tr>\n",
       "    <tr>\n",
       "      <th>1</th>\n",
       "      <td>Beverage</td>\n",
       "      <td>97fc187415fe1785d5ee02bfd348968e</td>\n",
       "      <td>99596</td>\n",
       "    </tr>\n",
       "    <tr>\n",
       "      <th>14</th>\n",
       "      <td>Car</td>\n",
       "      <td>ea875acb76e0a806a7837174528f62d9</td>\n",
       "      <td>116333</td>\n",
       "    </tr>\n",
       "    <tr>\n",
       "      <th>22</th>\n",
       "      <td>Jewelry</td>\n",
       "      <td>5b2ae85128137e449eb015f6de78add5</td>\n",
       "      <td>131093</td>\n",
       "    </tr>\n",
       "    <tr>\n",
       "      <th>16</th>\n",
       "      <td>Cosmetrics</td>\n",
       "      <td>0d82161270febc99f7defb653e339113</td>\n",
       "      <td>144940</td>\n",
       "    </tr>\n",
       "    <tr>\n",
       "      <th>15</th>\n",
       "      <td>Clothes</td>\n",
       "      <td>1e4fb0d22340fdf9ee02b6ae4a7d9a83</td>\n",
       "      <td>200000</td>\n",
       "    </tr>\n",
       "  </tbody>\n",
       "</table>\n",
       "</div>"
      ],
      "text/plain": [
       "      category                              adid    user\n",
       "7          Car  6c21f585e63dd03012e9861bb501cbbc      37\n",
       "11         Car  d446c604f22574f2d1f523a62091eb66      48\n",
       "13         Car  e8ec07aa185dbcd55765628fc481942c     133\n",
       "5          Car  1eeceb49bb35ba4f4127eb028767edc0     238\n",
       "8          Car  88f460420dabe937becac2c4df5f9192     396\n",
       "10         Car  c67481e9b64f1637e9b8ebe9b891fdae     535\n",
       "2     Beverage  aba26e1c9dbe64e83550df881e84bddb    1769\n",
       "20  Cosmetrics  54e1b7101869b70d061fbc5173f6ad53    2229\n",
       "6          Car  216249750986b9a1ca17853f4e77d4ec    2324\n",
       "9          Car  a16cdc60bdb8bffc25b9d02c525d5478    6473\n",
       "18  Cosmetrics  3b97e8d3682a72159f4a6bccee86ac1c    9592\n",
       "12         Car  e2a99e04da97a6103127931f3ce7aa01   12551\n",
       "19  Cosmetrics  4b1e5c31834e0fd5a30640d96ad20a6f   14883\n",
       "0     Beverage  976aabce935794606f1ba9abd0f04ace   25634\n",
       "17  Cosmetrics  26ff0b4edf5c7f38fb44b7fac8af0209   28356\n",
       "4          Car  0b0fa14b56d3741178196daaa92e6a1e   60932\n",
       "21     Jewelry  1f1fe825014d9e9a0881233d9950bd43   68907\n",
       "3     Beverage  bcf3ad5ca68792826b1792aaf3a2d630   73001\n",
       "1     Beverage  97fc187415fe1785d5ee02bfd348968e   99596\n",
       "14         Car  ea875acb76e0a806a7837174528f62d9  116333\n",
       "22     Jewelry  5b2ae85128137e449eb015f6de78add5  131093\n",
       "16  Cosmetrics  0d82161270febc99f7defb653e339113  144940\n",
       "15     Clothes  1e4fb0d22340fdf9ee02b6ae4a7d9a83  200000"
      ]
     },
     "execution_count": 16,
     "metadata": {},
     "output_type": "execute_result"
    }
   ],
   "source": [
    "df.groupby(['category','adid'])['user'].count().reset_index().sort_values(by= 'user')"
   ]
  },
  {
   "cell_type": "code",
   "execution_count": 17,
   "id": "a2ea6b37",
   "metadata": {},
   "outputs": [
    {
     "data": {
      "text/html": [
       "<div>\n",
       "<style scoped>\n",
       "    .dataframe tbody tr th:only-of-type {\n",
       "        vertical-align: middle;\n",
       "    }\n",
       "\n",
       "    .dataframe tbody tr th {\n",
       "        vertical-align: top;\n",
       "    }\n",
       "\n",
       "    .dataframe thead th {\n",
       "        text-align: right;\n",
       "    }\n",
       "</style>\n",
       "<table border=\"1\" class=\"dataframe\">\n",
       "  <thead>\n",
       "    <tr style=\"text-align: right;\">\n",
       "      <th></th>\n",
       "      <th>category</th>\n",
       "      <th>count</th>\n",
       "      <th>nunique</th>\n",
       "    </tr>\n",
       "  </thead>\n",
       "  <tbody>\n",
       "    <tr>\n",
       "      <th>0</th>\n",
       "      <td>Beverage</td>\n",
       "      <td>200000</td>\n",
       "      <td>4</td>\n",
       "    </tr>\n",
       "    <tr>\n",
       "      <th>1</th>\n",
       "      <td>Car</td>\n",
       "      <td>200000</td>\n",
       "      <td>11</td>\n",
       "    </tr>\n",
       "    <tr>\n",
       "      <th>2</th>\n",
       "      <td>Clothes</td>\n",
       "      <td>200000</td>\n",
       "      <td>1</td>\n",
       "    </tr>\n",
       "    <tr>\n",
       "      <th>3</th>\n",
       "      <td>Cosmetrics</td>\n",
       "      <td>200000</td>\n",
       "      <td>5</td>\n",
       "    </tr>\n",
       "    <tr>\n",
       "      <th>4</th>\n",
       "      <td>Jewelry</td>\n",
       "      <td>200000</td>\n",
       "      <td>2</td>\n",
       "    </tr>\n",
       "  </tbody>\n",
       "</table>\n",
       "</div>"
      ],
      "text/plain": [
       "     category   count  nunique\n",
       "0    Beverage  200000        4\n",
       "1         Car  200000       11\n",
       "2     Clothes  200000        1\n",
       "3  Cosmetrics  200000        5\n",
       "4     Jewelry  200000        2"
      ]
     },
     "execution_count": 17,
     "metadata": {},
     "output_type": "execute_result"
    }
   ],
   "source": [
    "df.groupby(['category'])['adid'].agg(['count','nunique']).reset_index()\n",
    "#.sort_values(by= 'adid')"
   ]
  },
  {
   "cell_type": "markdown",
   "id": "d5b012c3",
   "metadata": {},
   "source": [
    "- ols without cluster, standard error = 0.0005 \n",
    "- ols with user as cluster, no difference\n",
    "- ols with ad as cluster, standard error = 0.0012\n",
    "- all of them has little effect on p-value"
   ]
  },
  {
   "cell_type": "markdown",
   "id": "d8c52c69",
   "metadata": {},
   "source": [
    "### **2. CUPED**"
   ]
  },
  {
   "cell_type": "markdown",
   "id": "81324bd6",
   "metadata": {},
   "source": [
    "#### 2.1 Define CUPED"
   ]
  },
  {
   "cell_type": "code",
   "execution_count": 18,
   "id": "625cb642",
   "metadata": {},
   "outputs": [
    {
     "data": {
      "text/plain": [
       "Index(['user', 'adid', 'week', 'expid', 'if_click', 'real_like_cnt',\n",
       "       'category', 'brand_effect', 'experience', 'status', 'user_age',\n",
       "       'friend_age', 'user_gender', 'friend_gender', 'user_city',\n",
       "       'friend_city', 'user_degree', 'friend_degree', 'user_sns_like_cnt',\n",
       "       'user_sns_comment_cnt'],\n",
       "      dtype='object')"
      ]
     },
     "execution_count": 18,
     "metadata": {},
     "output_type": "execute_result"
    }
   ],
   "source": [
    "df.columns"
   ]
  },
  {
   "cell_type": "code",
   "execution_count": 19,
   "id": "ad456074",
   "metadata": {},
   "outputs": [],
   "source": [
    "con_variants= ['if_click','real_like_cnt','brand_effect', 'experience', 'status','user_age', 'friend_age', 'user_gender', 'friend_gender', 'user_city',\n",
    "       'friend_city','user_degree', 'friend_degree', 'user_sns_like_cnt',\n",
    "       'user_sns_comment_cnt']"
   ]
  },
  {
   "cell_type": "code",
   "execution_count": 20,
   "id": "cb8bf8e0",
   "metadata": {},
   "outputs": [
    {
     "data": {
      "text/html": [
       "<div>\n",
       "<style scoped>\n",
       "    .dataframe tbody tr th:only-of-type {\n",
       "        vertical-align: middle;\n",
       "    }\n",
       "\n",
       "    .dataframe tbody tr th {\n",
       "        vertical-align: top;\n",
       "    }\n",
       "\n",
       "    .dataframe thead th {\n",
       "        text-align: right;\n",
       "    }\n",
       "</style>\n",
       "<table border=\"1\" class=\"dataframe\">\n",
       "  <thead>\n",
       "    <tr style=\"text-align: right;\">\n",
       "      <th></th>\n",
       "      <th>if_click</th>\n",
       "      <th>real_like_cnt</th>\n",
       "      <th>brand_effect</th>\n",
       "      <th>experience</th>\n",
       "      <th>status</th>\n",
       "      <th>user_age</th>\n",
       "      <th>friend_age</th>\n",
       "      <th>user_degree</th>\n",
       "      <th>friend_degree</th>\n",
       "      <th>user_sns_like_cnt</th>\n",
       "      <th>user_sns_comment_cnt</th>\n",
       "    </tr>\n",
       "  </thead>\n",
       "  <tbody>\n",
       "    <tr>\n",
       "      <th>if_click</th>\n",
       "      <td>1.000000</td>\n",
       "      <td>-0.002265</td>\n",
       "      <td>-0.014866</td>\n",
       "      <td>-0.027018</td>\n",
       "      <td>0.003186</td>\n",
       "      <td>0.004155</td>\n",
       "      <td>0.005996</td>\n",
       "      <td>0.008933</td>\n",
       "      <td>0.002936</td>\n",
       "      <td>0.002621</td>\n",
       "      <td>0.001086</td>\n",
       "    </tr>\n",
       "    <tr>\n",
       "      <th>real_like_cnt</th>\n",
       "      <td>-0.002265</td>\n",
       "      <td>1.000000</td>\n",
       "      <td>0.129271</td>\n",
       "      <td>0.024628</td>\n",
       "      <td>0.082673</td>\n",
       "      <td>-0.027331</td>\n",
       "      <td>-0.021665</td>\n",
       "      <td>0.279015</td>\n",
       "      <td>0.036452</td>\n",
       "      <td>0.090216</td>\n",
       "      <td>0.131973</td>\n",
       "    </tr>\n",
       "    <tr>\n",
       "      <th>brand_effect</th>\n",
       "      <td>-0.014866</td>\n",
       "      <td>0.129271</td>\n",
       "      <td>1.000000</td>\n",
       "      <td>-0.139926</td>\n",
       "      <td>0.427389</td>\n",
       "      <td>-0.050047</td>\n",
       "      <td>-0.043761</td>\n",
       "      <td>-0.045729</td>\n",
       "      <td>-0.028427</td>\n",
       "      <td>-0.026145</td>\n",
       "      <td>-0.025995</td>\n",
       "    </tr>\n",
       "    <tr>\n",
       "      <th>experience</th>\n",
       "      <td>-0.027018</td>\n",
       "      <td>0.024628</td>\n",
       "      <td>-0.139926</td>\n",
       "      <td>1.000000</td>\n",
       "      <td>-0.059803</td>\n",
       "      <td>-0.119116</td>\n",
       "      <td>-0.126880</td>\n",
       "      <td>-0.021956</td>\n",
       "      <td>-0.032770</td>\n",
       "      <td>0.006689</td>\n",
       "      <td>0.029606</td>\n",
       "    </tr>\n",
       "    <tr>\n",
       "      <th>status</th>\n",
       "      <td>0.003186</td>\n",
       "      <td>0.082673</td>\n",
       "      <td>0.427389</td>\n",
       "      <td>-0.059803</td>\n",
       "      <td>1.000000</td>\n",
       "      <td>0.158592</td>\n",
       "      <td>0.177741</td>\n",
       "      <td>-0.055248</td>\n",
       "      <td>-0.055169</td>\n",
       "      <td>-0.051431</td>\n",
       "      <td>-0.062871</td>\n",
       "    </tr>\n",
       "    <tr>\n",
       "      <th>user_age</th>\n",
       "      <td>0.004155</td>\n",
       "      <td>-0.027331</td>\n",
       "      <td>-0.050047</td>\n",
       "      <td>-0.119116</td>\n",
       "      <td>0.158592</td>\n",
       "      <td>1.000000</td>\n",
       "      <td>0.332870</td>\n",
       "      <td>0.055050</td>\n",
       "      <td>0.049221</td>\n",
       "      <td>-0.021033</td>\n",
       "      <td>-0.040419</td>\n",
       "    </tr>\n",
       "    <tr>\n",
       "      <th>friend_age</th>\n",
       "      <td>0.005996</td>\n",
       "      <td>-0.021665</td>\n",
       "      <td>-0.043761</td>\n",
       "      <td>-0.126880</td>\n",
       "      <td>0.177741</td>\n",
       "      <td>0.332870</td>\n",
       "      <td>1.000000</td>\n",
       "      <td>0.029959</td>\n",
       "      <td>0.083300</td>\n",
       "      <td>-0.027544</td>\n",
       "      <td>-0.033944</td>\n",
       "    </tr>\n",
       "    <tr>\n",
       "      <th>user_degree</th>\n",
       "      <td>0.008933</td>\n",
       "      <td>0.279015</td>\n",
       "      <td>-0.045729</td>\n",
       "      <td>-0.021956</td>\n",
       "      <td>-0.055248</td>\n",
       "      <td>0.055050</td>\n",
       "      <td>0.029959</td>\n",
       "      <td>1.000000</td>\n",
       "      <td>0.188220</td>\n",
       "      <td>0.201767</td>\n",
       "      <td>0.257600</td>\n",
       "    </tr>\n",
       "    <tr>\n",
       "      <th>friend_degree</th>\n",
       "      <td>0.002936</td>\n",
       "      <td>0.036452</td>\n",
       "      <td>-0.028427</td>\n",
       "      <td>-0.032770</td>\n",
       "      <td>-0.055169</td>\n",
       "      <td>0.049221</td>\n",
       "      <td>0.083300</td>\n",
       "      <td>0.188220</td>\n",
       "      <td>1.000000</td>\n",
       "      <td>0.034198</td>\n",
       "      <td>0.026263</td>\n",
       "    </tr>\n",
       "    <tr>\n",
       "      <th>user_sns_like_cnt</th>\n",
       "      <td>0.002621</td>\n",
       "      <td>0.090216</td>\n",
       "      <td>-0.026145</td>\n",
       "      <td>0.006689</td>\n",
       "      <td>-0.051431</td>\n",
       "      <td>-0.021033</td>\n",
       "      <td>-0.027544</td>\n",
       "      <td>0.201767</td>\n",
       "      <td>0.034198</td>\n",
       "      <td>1.000000</td>\n",
       "      <td>0.377225</td>\n",
       "    </tr>\n",
       "    <tr>\n",
       "      <th>user_sns_comment_cnt</th>\n",
       "      <td>0.001086</td>\n",
       "      <td>0.131973</td>\n",
       "      <td>-0.025995</td>\n",
       "      <td>0.029606</td>\n",
       "      <td>-0.062871</td>\n",
       "      <td>-0.040419</td>\n",
       "      <td>-0.033944</td>\n",
       "      <td>0.257600</td>\n",
       "      <td>0.026263</td>\n",
       "      <td>0.377225</td>\n",
       "      <td>1.000000</td>\n",
       "    </tr>\n",
       "  </tbody>\n",
       "</table>\n",
       "</div>"
      ],
      "text/plain": [
       "                      if_click  real_like_cnt  brand_effect  experience  \\\n",
       "if_click              1.000000      -0.002265     -0.014866   -0.027018   \n",
       "real_like_cnt        -0.002265       1.000000      0.129271    0.024628   \n",
       "brand_effect         -0.014866       0.129271      1.000000   -0.139926   \n",
       "experience           -0.027018       0.024628     -0.139926    1.000000   \n",
       "status                0.003186       0.082673      0.427389   -0.059803   \n",
       "user_age              0.004155      -0.027331     -0.050047   -0.119116   \n",
       "friend_age            0.005996      -0.021665     -0.043761   -0.126880   \n",
       "user_degree           0.008933       0.279015     -0.045729   -0.021956   \n",
       "friend_degree         0.002936       0.036452     -0.028427   -0.032770   \n",
       "user_sns_like_cnt     0.002621       0.090216     -0.026145    0.006689   \n",
       "user_sns_comment_cnt  0.001086       0.131973     -0.025995    0.029606   \n",
       "\n",
       "                        status  user_age  friend_age  user_degree  \\\n",
       "if_click              0.003186  0.004155    0.005996     0.008933   \n",
       "real_like_cnt         0.082673 -0.027331   -0.021665     0.279015   \n",
       "brand_effect          0.427389 -0.050047   -0.043761    -0.045729   \n",
       "experience           -0.059803 -0.119116   -0.126880    -0.021956   \n",
       "status                1.000000  0.158592    0.177741    -0.055248   \n",
       "user_age              0.158592  1.000000    0.332870     0.055050   \n",
       "friend_age            0.177741  0.332870    1.000000     0.029959   \n",
       "user_degree          -0.055248  0.055050    0.029959     1.000000   \n",
       "friend_degree        -0.055169  0.049221    0.083300     0.188220   \n",
       "user_sns_like_cnt    -0.051431 -0.021033   -0.027544     0.201767   \n",
       "user_sns_comment_cnt -0.062871 -0.040419   -0.033944     0.257600   \n",
       "\n",
       "                      friend_degree  user_sns_like_cnt  user_sns_comment_cnt  \n",
       "if_click                   0.002936           0.002621              0.001086  \n",
       "real_like_cnt              0.036452           0.090216              0.131973  \n",
       "brand_effect              -0.028427          -0.026145             -0.025995  \n",
       "experience                -0.032770           0.006689              0.029606  \n",
       "status                    -0.055169          -0.051431             -0.062871  \n",
       "user_age                   0.049221          -0.021033             -0.040419  \n",
       "friend_age                 0.083300          -0.027544             -0.033944  \n",
       "user_degree                0.188220           0.201767              0.257600  \n",
       "friend_degree              1.000000           0.034198              0.026263  \n",
       "user_sns_like_cnt          0.034198           1.000000              0.377225  \n",
       "user_sns_comment_cnt       0.026263           0.377225              1.000000  "
      ]
     },
     "execution_count": 20,
     "metadata": {},
     "output_type": "execute_result"
    }
   ],
   "source": [
    "# calculate correlation with if_click\n",
    "df[con_variants].corr()"
   ]
  },
  {
   "cell_type": "markdown",
   "id": "4e57f765",
   "metadata": {},
   "source": [
    "None of them has correlation larger than 0.5"
   ]
  },
  {
   "cell_type": "markdown",
   "id": "62182546",
   "metadata": {},
   "source": [
    "#### 1.2 T-test without CUPED"
   ]
  },
  {
   "cell_type": "code",
   "execution_count": 21,
   "id": "b5f681fe",
   "metadata": {},
   "outputs": [
    {
     "name": "stdout",
     "output_type": "stream",
     "text": [
      "0.007902000000000006\n",
      "0.0005120996492755023 (15.430590532876625, 1.0340426453463637e-53, 997326.0389910816)\n"
     ]
    }
   ],
   "source": [
    "d_0 = df[df['expid'] == 0]['if_click']\n",
    "d_1 = df[df['expid'] == 1]['if_click']\n",
    "diff = np.mean(d_1) - np.mean(d_0)\n",
    "print(diff)\n",
    "cm = sms.CompareMeans(sms.DescrStatsW(d_1), sms.DescrStatsW(d_0))\n",
    "ttest = cm.ttest_ind(alternative = 'two-sided', usevar = 'unequal')\n",
    "se0 = cm.std_meandiff_separatevar\n",
    "print(se0,ttest)"
   ]
  },
  {
   "cell_type": "markdown",
   "id": "d2c875df",
   "metadata": {},
   "source": [
    "#### 1.2 T-test with CUPED"
   ]
  },
  {
   "cell_type": "code",
   "execution_count": 22,
   "id": "911427ff",
   "metadata": {},
   "outputs": [],
   "source": [
    "def cuped(covariante):\n",
    "    #np.cov returns a var-cov metrix\n",
    "    cov_xy = np.cov(df[covariante],df.if_click, ddof=1)[0][1]\n",
    "    var_x=np.var(df[covariante], ddof=1)\n",
    "#     print('var_x',var_x)\n",
    "    theta = cov_xy/var_x\n",
    "#     print('theta',theta)\n",
    "    df['theta']=theta \n",
    "    df['click_cuped']=df.if_click - df[covariante]*theta\n",
    "    # t-test with cuped\n",
    "    d_0 = df[df['expid'] == 0]['click_cuped']\n",
    "    d_1 = df[df['expid'] == 1]['click_cuped']\n",
    "    diff = np.mean(d_1) - np.mean(d_0)\n",
    "#     print('diff',diff)\n",
    "    cm = sms.CompareMeans(sms.DescrStatsW(d_1), sms.DescrStatsW(d_0))\n",
    "    ttest = cm.ttest_ind(alternative = 'two-sided', usevar = 'unequal')\n",
    "    se = cm.std_meandiff_separatevar\n",
    "#     print('se and ttest:',se,ttest)\n",
    "    return cov_xy,var_x,theta,diff,se,ttest"
   ]
  },
  {
   "cell_type": "code",
   "execution_count": 23,
   "id": "43e18db4",
   "metadata": {},
   "outputs": [
    {
     "name": "stdout",
     "output_type": "stream",
     "text": [
      "Use EXPERIENCE as control variante:\n",
      "\n",
      "variance reduction: 0.07%\n",
      "cov_xy: -0.0007756945156945222\n",
      "var_x: 0.012569908746008314\n",
      "theta: -0.06171043333475678\n",
      "diff: 0.007920759971753788\n",
      "se: 0.0005119123752974531\n",
      "ttest: (15.472882379789361, 5.365669266928558e-54, 997326.9864321109)\n"
     ]
    }
   ],
   "source": [
    "covariante = 'experience'\n",
    "cov_xy,var_x,theta,diff,se,ttest = cuped(covariante)\n",
    "var_reduction = (se0**2-se**2)/se0**2\n",
    "print(f'Use {covariante.upper()} as control variante:')\n",
    "print()\n",
    "print(f'variance reduction: {round(var_reduction*100,2)}%')\n",
    "print('cov_xy:',cov_xy)\n",
    "print('var_x:',var_x)\n",
    "print('theta:',theta)\n",
    "print('diff:',diff)\n",
    "print('se:',se)\n",
    "print('ttest:',ttest)"
   ]
  },
  {
   "cell_type": "code",
   "execution_count": 24,
   "id": "f3961604",
   "metadata": {},
   "outputs": [
    {
     "name": "stdout",
     "output_type": "stream",
     "text": [
      "Use BRAND_EFFECT as control variante:\n",
      "\n",
      "variance reduction: 0.02%\n",
      "cov_xy: -0.001862674582674576\n",
      "var_x: 0.23941265259798586\n",
      "theta: -0.007780184390681808\n",
      "diff: 0.007901875516915471\n",
      "se: 0.0005120430498411305\n",
      "ttest: (15.432053065655873, 1.0108773162890724e-53, 997328.3654270597)\n"
     ]
    }
   ],
   "source": [
    "covariante = 'brand_effect'\n",
    "cov_xy,var_x,theta,diff,se,ttest = cuped(covariante)\n",
    "var_reduction = (se0**2-se**2)/se0**2\n",
    "print(f'Use {covariante.upper()} as control variante:')\n",
    "print()\n",
    "print(f'variance reduction: {round(var_reduction*100,2)}%')\n",
    "print('cov_xy:',cov_xy)\n",
    "print('var_x:',var_x)\n",
    "print('theta:',theta)\n",
    "print('diff:',diff)\n",
    "print('se:',se)\n",
    "print('ttest:',ttest)"
   ]
  },
  {
   "cell_type": "code",
   "execution_count": 25,
   "id": "2268227d",
   "metadata": {},
   "outputs": [
    {
     "name": "stdout",
     "output_type": "stream",
     "text": [
      "Use USER_AGE as control variante:\n",
      "\n",
      "variance reduction: 0.0%\n",
      "cov_xy: 0.007002178657178631\n",
      "var_x: 43.315133278677244\n",
      "theta: 0.0001616566342328582\n",
      "diff: 0.007900794364821738\n",
      "se: 0.0005120952470405101\n",
      "ttest: (15.42836886396042, 1.0702473447543241e-53, 997327.2349534295)\n"
     ]
    }
   ],
   "source": [
    "covariante = 'user_age'\n",
    "cov_xy,var_x,theta,diff,se,ttest = cuped(covariante)\n",
    "var_reduction = (se0**2-se**2)/se0**2\n",
    "print(f'Use {covariante.upper()} as control variante:')\n",
    "print()\n",
    "print(f'variance reduction: {round(var_reduction*100,2)}%')\n",
    "print('cov_xy:',cov_xy)\n",
    "print('var_x:',var_x)\n",
    "print('theta:',theta)\n",
    "print('diff:',diff)\n",
    "print('se:',se)\n",
    "print('ttest:',ttest)"
   ]
  },
  {
   "cell_type": "code",
   "execution_count": 26,
   "id": "f468997d",
   "metadata": {},
   "outputs": [
    {
     "name": "stdout",
     "output_type": "stream",
     "text": [
      "Use FRIEND_DEGREE as control variante:\n",
      "\n",
      "variance reduction: 0.0%\n",
      "cov_xy: 0.6452228209628188\n",
      "var_x: 736272.6950302899\n",
      "theta: 8.763367503887599e-07\n",
      "diff: 0.007906081135297824\n",
      "se: 0.0005120973779867574\n",
      "ttest: (15.438628423331805, 9.129516063058259e-54, 997325.1275208826)\n"
     ]
    }
   ],
   "source": [
    "covariante ='friend_degree'\n",
    "cov_xy,var_x,theta,diff,se,ttest = cuped(covariante)\n",
    "var_reduction = (se0**2-se**2)/se0**2\n",
    "print(f'Use {covariante.upper()} as control variante:')\n",
    "print()\n",
    "print(f'variance reduction: {round(var_reduction*100,2)}%')\n",
    "print('cov_xy:',cov_xy)\n",
    "print('var_x:',var_x)\n",
    "print('theta:',theta)\n",
    "print('diff:',diff)\n",
    "print('se:',se)\n",
    "print('ttest:',ttest)"
   ]
  },
  {
   "cell_type": "markdown",
   "id": "a6f88943",
   "metadata": {},
   "source": [
    "### **3. Regression**"
   ]
  },
  {
   "cell_type": "code",
   "execution_count": 27,
   "id": "41ab0f6d",
   "metadata": {},
   "outputs": [
    {
     "name": "stdout",
     "output_type": "stream",
     "text": [
      "                            OLS Regression Results                            \n",
      "==============================================================================\n",
      "Dep. Variable:               if_click   R-squared:                       0.000\n",
      "Model:                            OLS   Adj. R-squared:                  0.000\n",
      "Method:                 Least Squares   F-statistic:                     238.1\n",
      "Date:                Fri, 03 Mar 2023   Prob (F-statistic):           1.03e-53\n",
      "Time:                        20:25:55   Log-Likelihood:                -56554.\n",
      "No. Observations:             1000000   AIC:                         1.131e+05\n",
      "Df Residuals:                  999998   BIC:                         1.131e+05\n",
      "Df Model:                           1                                         \n",
      "Covariance Type:            nonrobust                                         \n",
      "==============================================================================\n",
      "                 coef    std err          t      P>|t|      [0.025      0.975]\n",
      "------------------------------------------------------------------------------\n",
      "Intercept      0.0666      0.000    183.933      0.000       0.066       0.067\n",
      "expid          0.0079      0.001     15.431      0.000       0.007       0.009\n",
      "==============================================================================\n",
      "Omnibus:                   665229.716   Durbin-Watson:                   2.000\n",
      "Prob(Omnibus):                  0.000   Jarque-Bera (JB):          5434667.037\n",
      "Skew:                           3.353   Prob(JB):                         0.00\n",
      "Kurtosis:                      12.245   Cond. No.                         2.62\n",
      "==============================================================================\n",
      "\n",
      "Notes:\n",
      "[1] Standard Errors assume that the covariance matrix of the errors is correctly specified.\n"
     ]
    }
   ],
   "source": [
    "mod = smf.ols(formula='if_click ~  expid', data=df)\n",
    "res = mod.fit()\n",
    "print(res.summary())"
   ]
  },
  {
   "cell_type": "code",
   "execution_count": 28,
   "id": "ab8149c3",
   "metadata": {},
   "outputs": [],
   "source": [
    "# relative friend status\n",
    "df['friends_relative_social_status']= np.log(df['friend_degree'])-np.log(df['user_degree'])\n",
    "# Z-Score using pandas\n",
    "df['friends_relative_social_status'] = (df['friends_relative_social_status'] - df['friends_relative_social_status'].mean()) / df['friends_relative_social_status'].std()"
   ]
  },
  {
   "cell_type": "code",
   "execution_count": 29,
   "id": "dd0f2332",
   "metadata": {},
   "outputs": [
    {
     "name": "stdout",
     "output_type": "stream",
     "text": [
      "                            OLS Regression Results                            \n",
      "==============================================================================\n",
      "Dep. Variable:               if_click   R-squared:                       0.000\n",
      "Model:                            OLS   Adj. R-squared:                  0.000\n",
      "Method:                 Least Squares   F-statistic:                     24.12\n",
      "Date:                Fri, 03 Mar 2023   Prob (F-statistic):           3.80e-07\n",
      "Time:                        20:25:57   Log-Likelihood:                -56548.\n",
      "No. Observations:             1000000   AIC:                         1.131e+05\n",
      "Df Residuals:                  999996   BIC:                         1.132e+05\n",
      "Df Model:                           3                                         \n",
      "Covariance Type:              cluster                                         \n",
      "========================================================================================================\n",
      "                                           coef    std err          z      P>|z|      [0.025      0.975]\n",
      "--------------------------------------------------------------------------------------------------------\n",
      "Intercept                                0.0666      0.005     14.380      0.000       0.058       0.076\n",
      "expid                                    0.0079      0.001      6.845      0.000       0.006       0.010\n",
      "friends_relative_social_status          -0.0013      0.001     -1.986      0.047      -0.003   -1.71e-05\n",
      "expid:friends_relative_social_status     0.0011      0.001      1.856      0.063   -5.88e-05       0.002\n",
      "==============================================================================\n",
      "Omnibus:                   665217.739   Durbin-Watson:                   2.000\n",
      "Prob(Omnibus):                  0.000   Jarque-Bera (JB):          5434393.211\n",
      "Skew:                           3.353   Prob(JB):                         0.00\n",
      "Kurtosis:                      12.245   Cond. No.                         2.62\n",
      "==============================================================================\n",
      "\n",
      "Notes:\n",
      "[1] Standard Errors are robust to cluster correlation (cluster)\n"
     ]
    }
   ],
   "source": [
    "# with clustered standard error\n",
    "mod = smf.ols(formula='if_click ~  expid + expid*friends_relative_social_status', data=df)\n",
    "res = mod.fit(cov_type='cluster', cov_kwds = {'groups': df.adid})\n",
    "print(res.summary())"
   ]
  },
  {
   "cell_type": "code",
   "execution_count": 30,
   "id": "7b263688",
   "metadata": {},
   "outputs": [
    {
     "name": "stdout",
     "output_type": "stream",
     "text": [
      "                            OLS Regression Results                            \n",
      "==============================================================================\n",
      "Dep. Variable:               if_click   R-squared:                       0.000\n",
      "Model:                            OLS   Adj. R-squared:                  0.000\n",
      "Method:                 Least Squares   F-statistic:                     83.80\n",
      "Date:                Fri, 03 Mar 2023   Prob (F-statistic):           3.29e-54\n",
      "Time:                        20:25:58   Log-Likelihood:                -56548.\n",
      "No. Observations:             1000000   AIC:                         1.131e+05\n",
      "Df Residuals:                  999996   BIC:                         1.132e+05\n",
      "Df Model:                           3                                         \n",
      "Covariance Type:            nonrobust                                         \n",
      "========================================================================================================\n",
      "                                           coef    std err          t      P>|t|      [0.025      0.975]\n",
      "--------------------------------------------------------------------------------------------------------\n",
      "Intercept                                0.0666      0.000    183.939      0.000       0.066       0.067\n",
      "expid                                    0.0079      0.001     15.427      0.000       0.007       0.009\n",
      "friends_relative_social_status          -0.0013      0.000     -3.585      0.000      -0.002      -0.001\n",
      "expid:friends_relative_social_status     0.0011      0.001      2.055      0.040    4.89e-05       0.002\n",
      "==============================================================================\n",
      "Omnibus:                   665217.739   Durbin-Watson:                   2.000\n",
      "Prob(Omnibus):                  0.000   Jarque-Bera (JB):          5434393.211\n",
      "Skew:                           3.353   Prob(JB):                         0.00\n",
      "Kurtosis:                      12.245   Cond. No.                         2.62\n",
      "==============================================================================\n",
      "\n",
      "Notes:\n",
      "[1] Standard Errors assume that the covariance matrix of the errors is correctly specified.\n"
     ]
    }
   ],
   "source": [
    "# without clustered standard error\n",
    "mod = smf.ols(formula='if_click ~  expid + expid*friends_relative_social_status', data=df)\n",
    "res = mod.fit()\n",
    "print(res.summary())"
   ]
  },
  {
   "cell_type": "code",
   "execution_count": 31,
   "id": "115e0bd9",
   "metadata": {},
   "outputs": [
    {
     "name": "stdout",
     "output_type": "stream",
     "text": [
      "                            OLS Regression Results                            \n",
      "==============================================================================\n",
      "Dep. Variable:               if_click   R-squared:                       0.000\n",
      "Model:                            OLS   Adj. R-squared:                  0.000\n",
      "Method:                 Least Squares   F-statistic:                     23.65\n",
      "Date:                Fri, 03 Mar 2023   Prob (F-statistic):           3.30e-06\n",
      "Time:                        20:26:00   Log-Likelihood:                -56550.\n",
      "No. Observations:             1000000   AIC:                         1.131e+05\n",
      "Df Residuals:                  999997   BIC:                         1.131e+05\n",
      "Df Model:                           2                                         \n",
      "Covariance Type:              cluster                                         \n",
      "==================================================================================================\n",
      "                                     coef    std err          z      P>|z|      [0.025      0.975]\n",
      "--------------------------------------------------------------------------------------------------\n",
      "Intercept                          0.0666      0.005     14.386      0.000       0.058       0.076\n",
      "expid                              0.0079      0.001      6.826      0.000       0.006       0.010\n",
      "friends_relative_social_status    -0.0008      0.001     -1.335      0.182      -0.002       0.000\n",
      "==============================================================================\n",
      "Omnibus:                   665221.607   Durbin-Watson:                   2.000\n",
      "Prob(Omnibus):                  0.000   Jarque-Bera (JB):          5434483.326\n",
      "Skew:                           3.353   Prob(JB):                         0.00\n",
      "Kurtosis:                      12.245   Cond. No.                         2.62\n",
      "==============================================================================\n",
      "\n",
      "Notes:\n",
      "[1] Standard Errors are robust to cluster correlation (cluster)\n"
     ]
    }
   ],
   "source": [
    "# with clustered standard error\n",
    "mod = smf.ols(formula='if_click ~  expid + friends_relative_social_status', data=df)\n",
    "res = mod.fit(cov_type='cluster', cov_kwds = {'groups': df.adid})\n",
    "print(res.summary())"
   ]
  },
  {
   "cell_type": "code",
   "execution_count": 32,
   "id": "e92413fd",
   "metadata": {},
   "outputs": [
    {
     "name": "stdout",
     "output_type": "stream",
     "text": [
      "                            OLS Regression Results                            \n",
      "==============================================================================\n",
      "Dep. Variable:               if_click   R-squared:                       0.000\n",
      "Model:                            OLS   Adj. R-squared:                  0.000\n",
      "Method:                 Least Squares   F-statistic:                     123.6\n",
      "Date:                Fri, 03 Mar 2023   Prob (F-statistic):           2.14e-54\n",
      "Time:                        20:26:00   Log-Likelihood:                -56550.\n",
      "No. Observations:             1000000   AIC:                         1.131e+05\n",
      "Df Residuals:                  999997   BIC:                         1.131e+05\n",
      "Df Model:                           2                                         \n",
      "Covariance Type:            nonrobust                                         \n",
      "==================================================================================================\n",
      "                                     coef    std err          t      P>|t|      [0.025      0.975]\n",
      "--------------------------------------------------------------------------------------------------\n",
      "Intercept                          0.0666      0.000    183.937      0.000       0.066       0.067\n",
      "expid                              0.0079      0.001     15.427      0.000       0.007       0.009\n",
      "friends_relative_social_status    -0.0008      0.000     -3.014      0.003      -0.001      -0.000\n",
      "==============================================================================\n",
      "Omnibus:                   665221.607   Durbin-Watson:                   2.000\n",
      "Prob(Omnibus):                  0.000   Jarque-Bera (JB):          5434483.326\n",
      "Skew:                           3.353   Prob(JB):                         0.00\n",
      "Kurtosis:                      12.245   Cond. No.                         2.62\n",
      "==============================================================================\n",
      "\n",
      "Notes:\n",
      "[1] Standard Errors assume that the covariance matrix of the errors is correctly specified.\n"
     ]
    }
   ],
   "source": [
    "# without clustered standard error\n",
    "mod = smf.ols(formula='if_click ~  expid + friends_relative_social_status', data=df)\n",
    "res = mod.fit()\n",
    "print(res.summary())"
   ]
  },
  {
   "cell_type": "markdown",
   "id": "43334bae",
   "metadata": {},
   "source": [
    "Relative social status has a positive effect for adding social cue to social ads, so the platform can display the friends that has higher social status as social cues."
   ]
  },
  {
   "cell_type": "markdown",
   "id": "7e18375a",
   "metadata": {},
   "source": [
    "### **4. Lift Effect**"
   ]
  },
  {
   "cell_type": "code",
   "execution_count": 33,
   "id": "5c8d3940",
   "metadata": {},
   "outputs": [
    {
     "name": "stdout",
     "output_type": "stream",
     "text": [
      "1.1186415230316498\n"
     ]
    }
   ],
   "source": [
    "n = 1000000\n",
    "d_0 = df[df['expid'] == 0]['if_click']\n",
    "d_1 = df[df['expid'] == 1]['if_click']\n",
    "m0 = np.mean(d_0)\n",
    "m1 = np.mean(d_1)\n",
    "lift = m1/m0\n",
    "print(lift)"
   ]
  },
  {
   "cell_type": "code",
   "execution_count": 34,
   "id": "328ecc58",
   "metadata": {},
   "outputs": [],
   "source": [
    "var0 = np.var(d_0,ddof=1)\n",
    "var1 = np.var(d_1,ddof=1)\n",
    "var_m0 = var0/500000\n",
    "var_m1 = var1/500000"
   ]
  },
  {
   "cell_type": "markdown",
   "id": "ffc6d388",
   "metadata": {},
   "source": [
    "##### Delta method"
   ]
  },
  {
   "cell_type": "code",
   "execution_count": 35,
   "id": "d90b3a94",
   "metadata": {},
   "outputs": [
    {
     "name": "stdout",
     "output_type": "stream",
     "text": [
      "6.61616051913808e-05 0.008133978435635344\n"
     ]
    }
   ],
   "source": [
    "var_lift = 1/(m0**2)*var_m1 + (m1**2)/(m0**4)*var_m0\n",
    "se_lift = np.sqrt(var_lift)\n",
    "print(var_lift,se_lift)"
   ]
  },
  {
   "cell_type": "code",
   "execution_count": 36,
   "id": "873c8792",
   "metadata": {},
   "outputs": [
    {
     "name": "stdout",
     "output_type": "stream",
     "text": [
      "[1.1026989252978046, 1.134584120765495]\n"
     ]
    }
   ],
   "source": [
    "CI = [lift- 1.96*se_lift,lift+1.96*se_lift]\n",
    "print(CI)"
   ]
  },
  {
   "cell_type": "code",
   "execution_count": 37,
   "id": "434738b4",
   "metadata": {},
   "outputs": [
    {
     "name": "stdout",
     "output_type": "stream",
     "text": [
      "14.585915609497517\n"
     ]
    }
   ],
   "source": [
    "# null hypothesis is there is no difference in click through rate, so lift0 = 1\n",
    "t_stat = (lift-1)/se_lift\n",
    "print(t_stat)"
   ]
  },
  {
   "cell_type": "code",
   "execution_count": 38,
   "id": "b983adf7",
   "metadata": {},
   "outputs": [
    {
     "name": "stdout",
     "output_type": "stream",
     "text": [
      "t-statistic = 14.586 pvalue = 0.0000\n"
     ]
    }
   ],
   "source": [
    "from scipy.stats import t\n",
    "pval = t.sf(np.abs(t_stat), n-1)*2  # two-sided pvalue = Prob(abs(t)>tt)\n",
    "print('t-statistic = %6.3f pvalue = %6.4f' % (t_stat, pval))"
   ]
  },
  {
   "cell_type": "markdown",
   "id": "b2ac7dc0",
   "metadata": {},
   "source": [
    "##### Bootstramp\n",
    "I trie to use bootstrap method to calculate CI for lift, but if failed on my computer"
   ]
  },
  {
   "cell_type": "code",
   "execution_count": 39,
   "id": "a4bd9aa2",
   "metadata": {},
   "outputs": [],
   "source": [
    "# import bootstrapped.bootstrap as bs\n",
    "# import bootstrapped.compare_functions as bs_compare\n",
    "# import bootstrapped.stats_functions as bs_stats"
   ]
  },
  {
   "cell_type": "code",
   "execution_count": 40,
   "id": "98a6f695",
   "metadata": {},
   "outputs": [],
   "source": [
    "# print(bs.bootstrap_ab(\n",
    "#     np.array(d_1), \n",
    "#     np.array(d_0), \n",
    "#     stat_func=bs_stats.mean,\n",
    "#     compare_func=bs_compare.percent_change,\n",
    "#     alpha=0.05))"
   ]
  },
  {
   "cell_type": "markdown",
   "id": "c6367e70",
   "metadata": {},
   "source": [
    "### **5. heterogeneous effect of dyadic similarities between friends and ad viewers**"
   ]
  },
  {
   "cell_type": "markdown",
   "id": "3b8a9302",
   "metadata": {},
   "source": [
    "##### Data Preprocessing "
   ]
  },
  {
   "cell_type": "code",
   "execution_count": 41,
   "id": "b8c1914d",
   "metadata": {},
   "outputs": [],
   "source": [
    " def week_trans(x):\n",
    "    if x==\"w_1\":\n",
    "        return 1\n",
    "    if x==\"w_2\":\n",
    "        return 2\n",
    "    if x==\"w_3\":\n",
    "        return 3\n",
    "    else :\n",
    "        return x"
   ]
  },
  {
   "cell_type": "code",
   "execution_count": 42,
   "id": "5b5ab113",
   "metadata": {},
   "outputs": [],
   "source": [
    "def city_trans(x):\n",
    "    if x==\"level_1\":\n",
    "        return 1\n",
    "    if x==\"level_2\":\n",
    "        return 2\n",
    "    if x==\"level_3\":\n",
    "        return 3\n",
    "    else :\n",
    "        return x"
   ]
  },
  {
   "cell_type": "code",
   "execution_count": 43,
   "id": "8ab6d3b4",
   "metadata": {},
   "outputs": [],
   "source": [
    "df['user_gender'] = df['user_gender'].apply( lambda x:1 if x=='male' else 0)\n",
    "df['friend_gender'] = df['friend_gender'].apply( lambda x:1 if x=='male' else 0)\n",
    "df['week'] = df['week'].apply(week_trans)\n",
    "df['user_city']= df['user_city'].apply(city_trans)\n",
    "df['friend_city']=df['friend_city'].apply(city_trans)"
   ]
  },
  {
   "cell_type": "code",
   "execution_count": 44,
   "id": "4e992fed",
   "metadata": {},
   "outputs": [],
   "source": [
    "# same 1 not same 0 \n",
    "def dummy(a, b):\n",
    "    if a == b:\n",
    "        return 1\n",
    "    else:\n",
    "        return 0"
   ]
  },
  {
   "cell_type": "code",
   "execution_count": 45,
   "id": "85b3cd78",
   "metadata": {},
   "outputs": [],
   "source": [
    "df['same_gender'] = df.apply(lambda x : dummy(x['user_gender'],x['friend_gender']),axis = 1)"
   ]
  },
  {
   "cell_type": "code",
   "execution_count": 46,
   "id": "7a77f2c2",
   "metadata": {},
   "outputs": [
    {
     "data": {
      "text/html": [
       "<div>\n",
       "<style scoped>\n",
       "    .dataframe tbody tr th:only-of-type {\n",
       "        vertical-align: middle;\n",
       "    }\n",
       "\n",
       "    .dataframe tbody tr th {\n",
       "        vertical-align: top;\n",
       "    }\n",
       "\n",
       "    .dataframe thead th {\n",
       "        text-align: right;\n",
       "    }\n",
       "</style>\n",
       "<table border=\"1\" class=\"dataframe\">\n",
       "  <thead>\n",
       "    <tr style=\"text-align: right;\">\n",
       "      <th></th>\n",
       "      <th>user_gender</th>\n",
       "      <th>friend_gender</th>\n",
       "      <th>same_gender</th>\n",
       "    </tr>\n",
       "  </thead>\n",
       "  <tbody>\n",
       "    <tr>\n",
       "      <th>0</th>\n",
       "      <td>0</td>\n",
       "      <td>1</td>\n",
       "      <td>0</td>\n",
       "    </tr>\n",
       "    <tr>\n",
       "      <th>1</th>\n",
       "      <td>0</td>\n",
       "      <td>0</td>\n",
       "      <td>1</td>\n",
       "    </tr>\n",
       "    <tr>\n",
       "      <th>2</th>\n",
       "      <td>0</td>\n",
       "      <td>1</td>\n",
       "      <td>0</td>\n",
       "    </tr>\n",
       "    <tr>\n",
       "      <th>3</th>\n",
       "      <td>1</td>\n",
       "      <td>1</td>\n",
       "      <td>1</td>\n",
       "    </tr>\n",
       "    <tr>\n",
       "      <th>4</th>\n",
       "      <td>0</td>\n",
       "      <td>0</td>\n",
       "      <td>1</td>\n",
       "    </tr>\n",
       "  </tbody>\n",
       "</table>\n",
       "</div>"
      ],
      "text/plain": [
       "   user_gender  friend_gender  same_gender\n",
       "0            0              1            0\n",
       "1            0              0            1\n",
       "2            0              1            0\n",
       "3            1              1            1\n",
       "4            0              0            1"
      ]
     },
     "execution_count": 46,
     "metadata": {},
     "output_type": "execute_result"
    }
   ],
   "source": [
    "df[['user_gender','friend_gender','same_gender']].head()"
   ]
  },
  {
   "cell_type": "code",
   "execution_count": 47,
   "id": "a5f137c9",
   "metadata": {},
   "outputs": [],
   "source": [
    "df['same_city'] = df.apply(lambda x : dummy(x['user_city'],x['friend_city']),axis = 1)"
   ]
  },
  {
   "cell_type": "code",
   "execution_count": 48,
   "id": "27c25fe9",
   "metadata": {},
   "outputs": [
    {
     "data": {
      "text/html": [
       "<div>\n",
       "<style scoped>\n",
       "    .dataframe tbody tr th:only-of-type {\n",
       "        vertical-align: middle;\n",
       "    }\n",
       "\n",
       "    .dataframe tbody tr th {\n",
       "        vertical-align: top;\n",
       "    }\n",
       "\n",
       "    .dataframe thead th {\n",
       "        text-align: right;\n",
       "    }\n",
       "</style>\n",
       "<table border=\"1\" class=\"dataframe\">\n",
       "  <thead>\n",
       "    <tr style=\"text-align: right;\">\n",
       "      <th></th>\n",
       "      <th>user_city</th>\n",
       "      <th>friend_city</th>\n",
       "      <th>same_city</th>\n",
       "    </tr>\n",
       "  </thead>\n",
       "  <tbody>\n",
       "    <tr>\n",
       "      <th>0</th>\n",
       "      <td>1</td>\n",
       "      <td>1</td>\n",
       "      <td>1</td>\n",
       "    </tr>\n",
       "    <tr>\n",
       "      <th>1</th>\n",
       "      <td>3</td>\n",
       "      <td>2</td>\n",
       "      <td>0</td>\n",
       "    </tr>\n",
       "    <tr>\n",
       "      <th>2</th>\n",
       "      <td>2</td>\n",
       "      <td>1</td>\n",
       "      <td>0</td>\n",
       "    </tr>\n",
       "    <tr>\n",
       "      <th>3</th>\n",
       "      <td>1</td>\n",
       "      <td>1</td>\n",
       "      <td>1</td>\n",
       "    </tr>\n",
       "    <tr>\n",
       "      <th>4</th>\n",
       "      <td>1</td>\n",
       "      <td>2</td>\n",
       "      <td>0</td>\n",
       "    </tr>\n",
       "  </tbody>\n",
       "</table>\n",
       "</div>"
      ],
      "text/plain": [
       "   user_city  friend_city  same_city\n",
       "0          1            1          1\n",
       "1          3            2          0\n",
       "2          2            1          0\n",
       "3          1            1          1\n",
       "4          1            2          0"
      ]
     },
     "execution_count": 48,
     "metadata": {},
     "output_type": "execute_result"
    }
   ],
   "source": [
    "df[['user_city','friend_city','same_city']].head()"
   ]
  },
  {
   "cell_type": "markdown",
   "id": "86c14aa9",
   "metadata": {},
   "source": [
    "##### Gender similarity between user and friend"
   ]
  },
  {
   "cell_type": "code",
   "execution_count": 49,
   "id": "d11e64e3",
   "metadata": {},
   "outputs": [
    {
     "name": "stdout",
     "output_type": "stream",
     "text": [
      "[[1, 0.006727231919533144, (0.0053087625166157275, 0.008145701322450561)], [0, 0.009073783783327738, (0.0076533711229696865, 0.01049419644368579)]]\n"
     ]
    }
   ],
   "source": [
    "# Across gender similarity\n",
    "gender_list = [1, 0]\n",
    "gender_res = []\n",
    "for x in gender_list:\n",
    "    tmp_d_0 = df[(df['expid'] == 0) & (df['same_gender'] == x)]['if_click']\n",
    "    tmp_d_1 = df[(df['expid'] == 1) & (df['same_gender'] == x)]['if_click']\n",
    "    tmp_diff = np.mean(tmp_d_1) - np.mean(tmp_d_0)\n",
    "    tmp_cm = sms.CompareMeans(sms.DescrStatsW(tmp_d_1), sms.DescrStatsW(tmp_d_0))\n",
    "    tmp_ci = tmp_cm.tconfint_diff(alpha = 0.05, alternative = 'two-sided', usevar = 'unequal')\n",
    "    gender_res.append([x, tmp_diff, tmp_ci])\n",
    "print(gender_res) "
   ]
  },
  {
   "cell_type": "code",
   "execution_count": 50,
   "id": "a2be1532",
   "metadata": {},
   "outputs": [
    {
     "data": {
      "text/plain": [
       "[Text(0, 0, 'same gender'), Text(1, 0, 'opposite gender')]"
      ]
     },
     "execution_count": 50,
     "metadata": {},
     "output_type": "execute_result"
    },
    {
     "data": {
      "image/png": "[encoded data removed]",
      "text/plain": [
       "<Figure size 432x288 with 1 Axes>"
      ]
     },
     "metadata": {
      "needs_background": "light"
     },
     "output_type": "display_data"
    }
   ],
   "source": [
    "# Plot CATE for gender similarity\n",
    "for i in range(len(gender_res)):\n",
    "    diff = gender_res[i][1]\n",
    "    ci = gender_res[i][2]\n",
    "    plt.plot([i, i], [diff, diff], \"or\")\n",
    "    plt.plot([i, i], [ci[0], ci[1]], \":b\")\n",
    "f = plt.gca()\n",
    "f.set_xticks(range(len(gender_res)))\n",
    "f.set_xticklabels(['same gender','opposite gender'])"
   ]
  },
  {
   "cell_type": "markdown",
   "id": "c14024b0",
   "metadata": {},
   "source": [
    "#### city level similarity between user and friend"
   ]
  },
  {
   "cell_type": "code",
   "execution_count": 51,
   "id": "ccd1b162",
   "metadata": {},
   "outputs": [
    {
     "name": "stdout",
     "output_type": "stream",
     "text": [
      "[[1, 0.0077468482146353795, (0.006289129551123854, 0.009204566878146905)], [0, 0.00804202069429455, (0.006657985733034827, 0.009426055655554271)]]\n"
     ]
    }
   ],
   "source": [
    "# Across city level similarity\n",
    "city_list = [1, 0]\n",
    "city_res = []\n",
    "for x in city_list:\n",
    "    tmp_d_0 = df[(df['expid'] == 0) & (df['same_city'] == x)]['if_click']\n",
    "    tmp_d_1 = df[(df['expid'] == 1) & (df['same_city'] == x)]['if_click']\n",
    "    tmp_diff = np.mean(tmp_d_1) - np.mean(tmp_d_0)\n",
    "    tmp_cm = sms.CompareMeans(sms.DescrStatsW(tmp_d_1), sms.DescrStatsW(tmp_d_0))\n",
    "    tmp_ci = tmp_cm.tconfint_diff(alpha = 0.05, alternative = 'two-sided', usevar = 'unequal')\n",
    "    city_res.append([x, tmp_diff, tmp_ci])\n",
    "print(city_res) "
   ]
  },
  {
   "cell_type": "code",
   "execution_count": 52,
   "id": "1e71f9e3",
   "metadata": {},
   "outputs": [
    {
     "data": {
      "text/plain": [
       "[Text(0, 0, 'same city level'), Text(1, 0, 'different city level')]"
      ]
     },
     "execution_count": 52,
     "metadata": {},
     "output_type": "execute_result"
    },
    {
     "data": {
      "image/png": "[encoded data removed]",
      "text/plain": [
       "<Figure size 432x288 with 1 Axes>"
      ]
     },
     "metadata": {
      "needs_background": "light"
     },
     "output_type": "display_data"
    }
   ],
   "source": [
    "# Plot CATE for city level similarity\n",
    "for i in range(len(city_res)):\n",
    "    diff = city_res[i][1]\n",
    "    ci = city_res[i][2]\n",
    "    plt.plot([i, i], [diff, diff], \"or\")\n",
    "    plt.plot([i, i], [ci[0], ci[1]], \":b\")\n",
    "f = plt.gca()\n",
    "f.set_xticks(range(len(city_res)))\n",
    "f.set_xticklabels(['same city level','different city level'])"
   ]
  }
 ],
 "metadata": {
  "kernelspec": {
   "display_name": "Python 3 (ipykernel)",
   "language": "python",
   "name": "python3"
  },
  "language_info": {
   "codemirror_mode": {
    "name": "ipython",
    "version": 3
   },
   "file_extension": ".py",
   "mimetype": "text/x-python",
   "name": "python",
   "nbconvert_exporter": "python",
   "pygments_lexer": "ipython3",
   "version": "3.9.12"
  }
 },
 "nbformat": 4,
 "nbformat_minor": 5
}
