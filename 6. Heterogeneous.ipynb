{
 "cells": [
  {
   "cell_type": "markdown",
   "id": "4aeed812",
   "metadata": {},
   "source": [
    "## Heterogeneous\n",
    "### Author: FENG Zhiqin 3036012011"
   ]
  },
  {
   "cell_type": "code",
   "execution_count": 46,
   "id": "c0a1171d",
   "metadata": {},
   "outputs": [],
   "source": [
    "import numpy as np\n",
    "import pandas as pd\n",
    "import statsmodels.stats.api as sms\n",
    "import matplotlib.pyplot as plt\n",
    "import statsmodels.formula.api as smf"
   ]
  },
  {
   "cell_type": "code",
   "execution_count": 47,
   "id": "593fd82e",
   "metadata": {},
   "outputs": [],
   "source": [
    "data=pd.read_csv('project_data.csv')"
   ]
  },
  {
   "cell_type": "code",
   "execution_count": 48,
   "id": "a53067af",
   "metadata": {},
   "outputs": [
    {
     "name": "stdout",
     "output_type": "stream",
     "text": [
      "(1000000, 20)\n"
     ]
    },
    {
     "data": {
      "text/html": [
       "<div>\n",
       "<style scoped>\n",
       "    .dataframe tbody tr th:only-of-type {\n",
       "        vertical-align: middle;\n",
       "    }\n",
       "\n",
       "    .dataframe tbody tr th {\n",
       "        vertical-align: top;\n",
       "    }\n",
       "\n",
       "    .dataframe thead th {\n",
       "        text-align: right;\n",
       "    }\n",
       "</style>\n",
       "<table border=\"1\" class=\"dataframe\">\n",
       "  <thead>\n",
       "    <tr style=\"text-align: right;\">\n",
       "      <th></th>\n",
       "      <th>user</th>\n",
       "      <th>adid</th>\n",
       "      <th>week</th>\n",
       "      <th>expid</th>\n",
       "      <th>if_click</th>\n",
       "      <th>real_like_cnt</th>\n",
       "      <th>category</th>\n",
       "      <th>brand_effect</th>\n",
       "      <th>experience</th>\n",
       "      <th>status</th>\n",
       "      <th>user_age</th>\n",
       "      <th>friend_age</th>\n",
       "      <th>user_gender</th>\n",
       "      <th>friend_gender</th>\n",
       "      <th>user_city</th>\n",
       "      <th>friend_city</th>\n",
       "      <th>user_degree</th>\n",
       "      <th>friend_degree</th>\n",
       "      <th>user_sns_like_cnt</th>\n",
       "      <th>user_sns_comment_cnt</th>\n",
       "    </tr>\n",
       "  </thead>\n",
       "  <tbody>\n",
       "    <tr>\n",
       "      <th>0</th>\n",
       "      <td>297353</td>\n",
       "      <td>0b0fa14b56d3741178196daaa92e6a1e</td>\n",
       "      <td>w_2</td>\n",
       "      <td>1</td>\n",
       "      <td>0</td>\n",
       "      <td>3</td>\n",
       "      <td>Car</td>\n",
       "      <td>1</td>\n",
       "      <td>1</td>\n",
       "      <td>1</td>\n",
       "      <td>48</td>\n",
       "      <td>37</td>\n",
       "      <td>female</td>\n",
       "      <td>male</td>\n",
       "      <td>level_1</td>\n",
       "      <td>level_1</td>\n",
       "      <td>495</td>\n",
       "      <td>436</td>\n",
       "      <td>162</td>\n",
       "      <td>138</td>\n",
       "    </tr>\n",
       "    <tr>\n",
       "      <th>1</th>\n",
       "      <td>98719</td>\n",
       "      <td>ea875acb76e0a806a7837174528f62d9</td>\n",
       "      <td>w_3</td>\n",
       "      <td>1</td>\n",
       "      <td>0</td>\n",
       "      <td>3</td>\n",
       "      <td>Car</td>\n",
       "      <td>1</td>\n",
       "      <td>1</td>\n",
       "      <td>1</td>\n",
       "      <td>29</td>\n",
       "      <td>34</td>\n",
       "      <td>female</td>\n",
       "      <td>female</td>\n",
       "      <td>level_3</td>\n",
       "      <td>level_2</td>\n",
       "      <td>479</td>\n",
       "      <td>3911</td>\n",
       "      <td>212</td>\n",
       "      <td>312</td>\n",
       "    </tr>\n",
       "    <tr>\n",
       "      <th>2</th>\n",
       "      <td>205144</td>\n",
       "      <td>1f1fe825014d9e9a0881233d9950bd43</td>\n",
       "      <td>w_2</td>\n",
       "      <td>1</td>\n",
       "      <td>0</td>\n",
       "      <td>1</td>\n",
       "      <td>Jewelry</td>\n",
       "      <td>0</td>\n",
       "      <td>1</td>\n",
       "      <td>1</td>\n",
       "      <td>24</td>\n",
       "      <td>24</td>\n",
       "      <td>female</td>\n",
       "      <td>male</td>\n",
       "      <td>level_2</td>\n",
       "      <td>level_1</td>\n",
       "      <td>682</td>\n",
       "      <td>470</td>\n",
       "      <td>95</td>\n",
       "      <td>336</td>\n",
       "    </tr>\n",
       "    <tr>\n",
       "      <th>3</th>\n",
       "      <td>559194</td>\n",
       "      <td>1f1fe825014d9e9a0881233d9950bd43</td>\n",
       "      <td>w_2</td>\n",
       "      <td>1</td>\n",
       "      <td>0</td>\n",
       "      <td>5</td>\n",
       "      <td>Jewelry</td>\n",
       "      <td>0</td>\n",
       "      <td>1</td>\n",
       "      <td>1</td>\n",
       "      <td>26</td>\n",
       "      <td>41</td>\n",
       "      <td>male</td>\n",
       "      <td>male</td>\n",
       "      <td>level_1</td>\n",
       "      <td>level_1</td>\n",
       "      <td>340</td>\n",
       "      <td>602</td>\n",
       "      <td>35</td>\n",
       "      <td>138</td>\n",
       "    </tr>\n",
       "    <tr>\n",
       "      <th>4</th>\n",
       "      <td>11888</td>\n",
       "      <td>0d82161270febc99f7defb653e339113</td>\n",
       "      <td>w_3</td>\n",
       "      <td>0</td>\n",
       "      <td>0</td>\n",
       "      <td>1</td>\n",
       "      <td>Cosmetrics</td>\n",
       "      <td>0</td>\n",
       "      <td>1</td>\n",
       "      <td>1</td>\n",
       "      <td>40</td>\n",
       "      <td>34</td>\n",
       "      <td>female</td>\n",
       "      <td>female</td>\n",
       "      <td>level_1</td>\n",
       "      <td>level_2</td>\n",
       "      <td>95</td>\n",
       "      <td>836</td>\n",
       "      <td>50</td>\n",
       "      <td>38</td>\n",
       "    </tr>\n",
       "  </tbody>\n",
       "</table>\n",
       "</div>"
      ],
      "text/plain": [
       "     user                              adid week  expid  if_click  \\\n",
       "0  297353  0b0fa14b56d3741178196daaa92e6a1e  w_2      1         0   \n",
       "1   98719  ea875acb76e0a806a7837174528f62d9  w_3      1         0   \n",
       "2  205144  1f1fe825014d9e9a0881233d9950bd43  w_2      1         0   \n",
       "3  559194  1f1fe825014d9e9a0881233d9950bd43  w_2      1         0   \n",
       "4   11888  0d82161270febc99f7defb653e339113  w_3      0         0   \n",
       "\n",
       "   real_like_cnt    category  brand_effect  experience  status  user_age  \\\n",
       "0              3         Car             1           1       1        48   \n",
       "1              3         Car             1           1       1        29   \n",
       "2              1     Jewelry             0           1       1        24   \n",
       "3              5     Jewelry             0           1       1        26   \n",
       "4              1  Cosmetrics             0           1       1        40   \n",
       "\n",
       "   friend_age user_gender friend_gender user_city friend_city  user_degree  \\\n",
       "0          37      female          male   level_1     level_1          495   \n",
       "1          34      female        female   level_3     level_2          479   \n",
       "2          24      female          male   level_2     level_1          682   \n",
       "3          41        male          male   level_1     level_1          340   \n",
       "4          34      female        female   level_1     level_2           95   \n",
       "\n",
       "   friend_degree  user_sns_like_cnt  user_sns_comment_cnt  \n",
       "0            436                162                   138  \n",
       "1           3911                212                   312  \n",
       "2            470                 95                   336  \n",
       "3            602                 35                   138  \n",
       "4            836                 50                    38  "
      ]
     },
     "execution_count": 48,
     "metadata": {},
     "output_type": "execute_result"
    }
   ],
   "source": [
    "print(data.shape)\n",
    "data.head()"
   ]
  },
  {
   "cell_type": "code",
   "execution_count": 49,
   "id": "0a36fd5d",
   "metadata": {},
   "outputs": [
    {
     "data": {
      "text/plain": [
       "Car           200000\n",
       "Jewelry       200000\n",
       "Cosmetrics    200000\n",
       "Beverage      200000\n",
       "Clothes       200000\n",
       "Name: category, dtype: int64"
      ]
     },
     "execution_count": 49,
     "metadata": {},
     "output_type": "execute_result"
    }
   ],
   "source": [
    "data['category'].value_counts()"
   ]
  },
  {
   "cell_type": "code",
   "execution_count": 50,
   "id": "89434009",
   "metadata": {},
   "outputs": [],
   "source": [
    "# Construct Age Groups:\n",
    "def get_age(age):\n",
    "    if age <= 20:\n",
    "        age_x = '1_20'\n",
    "    elif age <= 30:\n",
    "        age_x = '21_30'\n",
    "    elif age <= 40:\n",
    "        age_x = '31_40'\n",
    "    else:\n",
    "        age_x = '40+'\n",
    "    return age_x"
   ]
  },
  {
   "cell_type": "code",
   "execution_count": 51,
   "id": "57b81f78",
   "metadata": {
    "scrolled": true
   },
   "outputs": [
    {
     "data": {
      "text/html": [
       "<div>\n",
       "<style scoped>\n",
       "    .dataframe tbody tr th:only-of-type {\n",
       "        vertical-align: middle;\n",
       "    }\n",
       "\n",
       "    .dataframe tbody tr th {\n",
       "        vertical-align: top;\n",
       "    }\n",
       "\n",
       "    .dataframe thead th {\n",
       "        text-align: right;\n",
       "    }\n",
       "</style>\n",
       "<table border=\"1\" class=\"dataframe\">\n",
       "  <thead>\n",
       "    <tr style=\"text-align: right;\">\n",
       "      <th></th>\n",
       "      <th>user</th>\n",
       "      <th>adid</th>\n",
       "      <th>week</th>\n",
       "      <th>expid</th>\n",
       "      <th>if_click</th>\n",
       "      <th>real_like_cnt</th>\n",
       "      <th>category</th>\n",
       "      <th>brand_effect</th>\n",
       "      <th>experience</th>\n",
       "      <th>status</th>\n",
       "      <th>...</th>\n",
       "      <th>user_gender</th>\n",
       "      <th>friend_gender</th>\n",
       "      <th>user_city</th>\n",
       "      <th>friend_city</th>\n",
       "      <th>user_degree</th>\n",
       "      <th>friend_degree</th>\n",
       "      <th>user_sns_like_cnt</th>\n",
       "      <th>user_sns_comment_cnt</th>\n",
       "      <th>age_level</th>\n",
       "      <th>friend_age_level</th>\n",
       "    </tr>\n",
       "  </thead>\n",
       "  <tbody>\n",
       "    <tr>\n",
       "      <th>0</th>\n",
       "      <td>297353</td>\n",
       "      <td>0b0fa14b56d3741178196daaa92e6a1e</td>\n",
       "      <td>w_2</td>\n",
       "      <td>1</td>\n",
       "      <td>0</td>\n",
       "      <td>3</td>\n",
       "      <td>Car</td>\n",
       "      <td>1</td>\n",
       "      <td>1</td>\n",
       "      <td>1</td>\n",
       "      <td>...</td>\n",
       "      <td>female</td>\n",
       "      <td>male</td>\n",
       "      <td>level_1</td>\n",
       "      <td>level_1</td>\n",
       "      <td>495</td>\n",
       "      <td>436</td>\n",
       "      <td>162</td>\n",
       "      <td>138</td>\n",
       "      <td>40+</td>\n",
       "      <td>31_40</td>\n",
       "    </tr>\n",
       "    <tr>\n",
       "      <th>1</th>\n",
       "      <td>98719</td>\n",
       "      <td>ea875acb76e0a806a7837174528f62d9</td>\n",
       "      <td>w_3</td>\n",
       "      <td>1</td>\n",
       "      <td>0</td>\n",
       "      <td>3</td>\n",
       "      <td>Car</td>\n",
       "      <td>1</td>\n",
       "      <td>1</td>\n",
       "      <td>1</td>\n",
       "      <td>...</td>\n",
       "      <td>female</td>\n",
       "      <td>female</td>\n",
       "      <td>level_3</td>\n",
       "      <td>level_2</td>\n",
       "      <td>479</td>\n",
       "      <td>3911</td>\n",
       "      <td>212</td>\n",
       "      <td>312</td>\n",
       "      <td>21_30</td>\n",
       "      <td>31_40</td>\n",
       "    </tr>\n",
       "    <tr>\n",
       "      <th>2</th>\n",
       "      <td>205144</td>\n",
       "      <td>1f1fe825014d9e9a0881233d9950bd43</td>\n",
       "      <td>w_2</td>\n",
       "      <td>1</td>\n",
       "      <td>0</td>\n",
       "      <td>1</td>\n",
       "      <td>Jewelry</td>\n",
       "      <td>0</td>\n",
       "      <td>1</td>\n",
       "      <td>1</td>\n",
       "      <td>...</td>\n",
       "      <td>female</td>\n",
       "      <td>male</td>\n",
       "      <td>level_2</td>\n",
       "      <td>level_1</td>\n",
       "      <td>682</td>\n",
       "      <td>470</td>\n",
       "      <td>95</td>\n",
       "      <td>336</td>\n",
       "      <td>21_30</td>\n",
       "      <td>21_30</td>\n",
       "    </tr>\n",
       "    <tr>\n",
       "      <th>3</th>\n",
       "      <td>559194</td>\n",
       "      <td>1f1fe825014d9e9a0881233d9950bd43</td>\n",
       "      <td>w_2</td>\n",
       "      <td>1</td>\n",
       "      <td>0</td>\n",
       "      <td>5</td>\n",
       "      <td>Jewelry</td>\n",
       "      <td>0</td>\n",
       "      <td>1</td>\n",
       "      <td>1</td>\n",
       "      <td>...</td>\n",
       "      <td>male</td>\n",
       "      <td>male</td>\n",
       "      <td>level_1</td>\n",
       "      <td>level_1</td>\n",
       "      <td>340</td>\n",
       "      <td>602</td>\n",
       "      <td>35</td>\n",
       "      <td>138</td>\n",
       "      <td>21_30</td>\n",
       "      <td>40+</td>\n",
       "    </tr>\n",
       "    <tr>\n",
       "      <th>4</th>\n",
       "      <td>11888</td>\n",
       "      <td>0d82161270febc99f7defb653e339113</td>\n",
       "      <td>w_3</td>\n",
       "      <td>0</td>\n",
       "      <td>0</td>\n",
       "      <td>1</td>\n",
       "      <td>Cosmetrics</td>\n",
       "      <td>0</td>\n",
       "      <td>1</td>\n",
       "      <td>1</td>\n",
       "      <td>...</td>\n",
       "      <td>female</td>\n",
       "      <td>female</td>\n",
       "      <td>level_1</td>\n",
       "      <td>level_2</td>\n",
       "      <td>95</td>\n",
       "      <td>836</td>\n",
       "      <td>50</td>\n",
       "      <td>38</td>\n",
       "      <td>31_40</td>\n",
       "      <td>31_40</td>\n",
       "    </tr>\n",
       "  </tbody>\n",
       "</table>\n",
       "<p>5 rows × 22 columns</p>\n",
       "</div>"
      ],
      "text/plain": [
       "     user                              adid week  expid  if_click  \\\n",
       "0  297353  0b0fa14b56d3741178196daaa92e6a1e  w_2      1         0   \n",
       "1   98719  ea875acb76e0a806a7837174528f62d9  w_3      1         0   \n",
       "2  205144  1f1fe825014d9e9a0881233d9950bd43  w_2      1         0   \n",
       "3  559194  1f1fe825014d9e9a0881233d9950bd43  w_2      1         0   \n",
       "4   11888  0d82161270febc99f7defb653e339113  w_3      0         0   \n",
       "\n",
       "   real_like_cnt    category  brand_effect  experience  status  ...  \\\n",
       "0              3         Car             1           1       1  ...   \n",
       "1              3         Car             1           1       1  ...   \n",
       "2              1     Jewelry             0           1       1  ...   \n",
       "3              5     Jewelry             0           1       1  ...   \n",
       "4              1  Cosmetrics             0           1       1  ...   \n",
       "\n",
       "   user_gender  friend_gender user_city friend_city user_degree friend_degree  \\\n",
       "0       female           male   level_1     level_1         495           436   \n",
       "1       female         female   level_3     level_2         479          3911   \n",
       "2       female           male   level_2     level_1         682           470   \n",
       "3         male           male   level_1     level_1         340           602   \n",
       "4       female         female   level_1     level_2          95           836   \n",
       "\n",
       "   user_sns_like_cnt  user_sns_comment_cnt  age_level  friend_age_level  \n",
       "0                162                   138        40+             31_40  \n",
       "1                212                   312      21_30             31_40  \n",
       "2                 95                   336      21_30             21_30  \n",
       "3                 35                   138      21_30               40+  \n",
       "4                 50                    38      31_40             31_40  \n",
       "\n",
       "[5 rows x 22 columns]"
      ]
     },
     "execution_count": 51,
     "metadata": {},
     "output_type": "execute_result"
    }
   ],
   "source": [
    "age_level = data.user_age.apply(get_age).rename('age_level')\n",
    "friend_age_level = data.friend_age.apply(get_age).rename('friend_age_level')\n",
    "df = pd.concat([data, age_level,friend_age_level], axis = 1)\n",
    "df.head()"
   ]
  },
  {
   "cell_type": "code",
   "execution_count": 7,
   "id": "08ff6294",
   "metadata": {},
   "outputs": [
    {
     "name": "stdout",
     "output_type": "stream",
     "text": [
      "0.007902000000000006\n",
      "(15.43059053287648, 1.0340426453487385e-53, 997326.0389910908) (0.006898301912826558, 0.008905698087173454)\n"
     ]
    }
   ],
   "source": [
    "# Average treatment-effect of click\n",
    "\n",
    "#ATE across all the users\n",
    "d_0 = df[df['expid'] == 0]['if_click']\n",
    "d_1 = df[df['expid'] == 1]['if_click']\n",
    "diff = np.mean(d_1) - np.mean(d_0)\n",
    "print(diff)\n",
    "cm = sms.CompareMeans(sms.DescrStatsW(d_1), sms.DescrStatsW(d_0))\n",
    "ttest = cm.ttest_ind(alternative = 'two-sided', usevar = 'unequal') \n",
    "ci=cm.tconfint_diff(alternative = 'two-sided', usevar = 'unequal')\n",
    "print(ttest,ci)  "
   ]
  },
  {
   "cell_type": "markdown",
   "id": "2f5d3473",
   "metadata": {},
   "source": [
    "The p-value is statistically significant, indicating a notable difference in the click-through rates between the experimental and control groups."
   ]
  },
  {
   "cell_type": "code",
   "execution_count": 8,
   "id": "8ddcc089",
   "metadata": {},
   "outputs": [
    {
     "name": "stdout",
     "output_type": "stream",
     "text": [
      "                            OLS Regression Results                            \n",
      "==============================================================================\n",
      "Dep. Variable:               if_click   R-squared:                       0.000\n",
      "Model:                            OLS   Adj. R-squared:                  0.000\n",
      "Method:                 Least Squares   F-statistic:                     238.1\n",
      "Date:                Thu, 02 Mar 2023   Prob (F-statistic):           1.03e-53\n",
      "Time:                        20:01:07   Log-Likelihood:                -56554.\n",
      "No. Observations:             1000000   AIC:                         1.131e+05\n",
      "Df Residuals:                  999998   BIC:                         1.131e+05\n",
      "Df Model:                           1                                         \n",
      "Covariance Type:            nonrobust                                         \n",
      "==============================================================================\n",
      "                 coef    std err          t      P>|t|      [0.025      0.975]\n",
      "------------------------------------------------------------------------------\n",
      "Intercept      0.0666      0.000    183.933      0.000       0.066       0.067\n",
      "expid          0.0079      0.001     15.431      0.000       0.007       0.009\n",
      "==============================================================================\n",
      "Omnibus:                   665229.716   Durbin-Watson:                   2.000\n",
      "Prob(Omnibus):                  0.000   Jarque-Bera (JB):          5434667.037\n",
      "Skew:                           3.353   Prob(JB):                         0.00\n",
      "Kurtosis:                      12.245   Cond. No.                         2.62\n",
      "==============================================================================\n",
      "\n",
      "Notes:\n",
      "[1] Standard Errors assume that the covariance matrix of the errors is correctly specified.\n"
     ]
    }
   ],
   "source": [
    "mod = smf.ols(formula='if_click ~ expid', data=df)\n",
    "res = mod.fit()\n",
    "print(res.summary())"
   ]
  },
  {
   "cell_type": "markdown",
   "id": "acd87eee",
   "metadata": {},
   "source": [
    "The treatment effect regression experiment once again confirms a significant difference between the two groups."
   ]
  },
  {
   "cell_type": "markdown",
   "id": "ffd8fec6",
   "metadata": {},
   "source": [
    "### User Gender"
   ]
  },
  {
   "cell_type": "code",
   "execution_count": 9,
   "id": "48df096f",
   "metadata": {},
   "outputs": [
    {
     "name": "stdout",
     "output_type": "stream",
     "text": [
      "[['male', 0.007885571467497618, (0.006466607309882558, 0.009304535625112678)], ['female', 0.00791791097856262, (0.006497980732057981, 0.00933784122506726)]]\n"
     ]
    }
   ],
   "source": [
    "# Across genders (user)\n",
    "gender_list = ['male', 'female']\n",
    "gender_res = []\n",
    "for x in gender_list:\n",
    "    tmp_d_0 = df[(df['expid'] == 0) & (df['user_gender'] == x)]['if_click']\n",
    "    tmp_d_1 = df[(df['expid'] == 1) & (df['user_gender'] == x)]['if_click']\n",
    "    tmp_diff = np.mean(tmp_d_1) - np.mean(tmp_d_0)\n",
    "    tmp_cm = sms.CompareMeans(sms.DescrStatsW(tmp_d_1), sms.DescrStatsW(tmp_d_0))\n",
    "    tmp_ci = tmp_cm.tconfint_diff(alpha = 0.05, alternative = 'two-sided', usevar = 'unequal')\n",
    "    gender_res.append([x, tmp_diff, tmp_ci])\n",
    "print(gender_res) "
   ]
  },
  {
   "cell_type": "code",
   "execution_count": 10,
   "id": "6590902b",
   "metadata": {},
   "outputs": [
    {
     "data": {
      "text/plain": [
       "[Text(0, 0, 'male'), Text(1, 0, 'female')]"
      ]
     },
     "execution_count": 10,
     "metadata": {},
     "output_type": "execute_result"
    },
    {
     "data": {
      "image/png": "[encoded data removed]",
      "text/plain": [
       "<Figure size 640x480 with 1 Axes>"
      ]
     },
     "metadata": {},
     "output_type": "display_data"
    }
   ],
   "source": [
    "# Plot CATE for males and females\n",
    "for i in range(len(gender_res)):\n",
    "    diff = gender_res[i][1]\n",
    "    ci = gender_res[i][2]\n",
    "    plt.plot([i, i], [diff, diff], \"or\")\n",
    "    plt.plot([i, i], [ci[0], ci[1]], \":b\")\n",
    "f = plt.gca()\n",
    "f.set_xticks(range(len(gender_res)))\n",
    "f.set_xticklabels(gender_list)"
   ]
  },
  {
   "cell_type": "markdown",
   "id": "9dbd1862",
   "metadata": {},
   "source": [
    "Both (user) men and women show significant differences (confidence intervals do not include 0), but it is impossible to determine whether men or women have a higher click-through rate because their confidence intervals overlap too much."
   ]
  },
  {
   "cell_type": "markdown",
   "id": "35a6b748",
   "metadata": {},
   "source": [
    "### Friend Gender"
   ]
  },
  {
   "cell_type": "code",
   "execution_count": 11,
   "id": "1a16bd01",
   "metadata": {},
   "outputs": [
    {
     "name": "stdout",
     "output_type": "stream",
     "text": [
      "[['male', 0.0062495186027667765, (0.004833708248123318, 0.007665328957410235)], ['female', 0.00955542314716784, (0.008132347848872516, 0.010978498445463166)]]\n"
     ]
    },
    {
     "data": {
      "text/plain": [
       "[Text(0, 0, 'male'), Text(1, 0, 'female')]"
      ]
     },
     "execution_count": 11,
     "metadata": {},
     "output_type": "execute_result"
    },
    {
     "data": {
      "image/png": "[encoded data removed]",
      "text/plain": [
       "<Figure size 640x480 with 1 Axes>"
      ]
     },
     "metadata": {},
     "output_type": "display_data"
    }
   ],
   "source": [
    "# Across genders (Friend)\n",
    "gender_list = ['male', 'female']\n",
    "gender_res = []\n",
    "for x in gender_list:\n",
    "    tmp_d_0 = df[(df['expid'] == 0) & (df['friend_gender'] == x)]['if_click']\n",
    "    tmp_d_1 = df[(df['expid'] == 1) & (df['friend_gender'] == x)]['if_click']\n",
    "    tmp_diff = np.mean(tmp_d_1) - np.mean(tmp_d_0)\n",
    "    tmp_cm = sms.CompareMeans(sms.DescrStatsW(tmp_d_1), sms.DescrStatsW(tmp_d_0))\n",
    "    tmp_ci = tmp_cm.tconfint_diff(alpha = 0.05, alternative = 'two-sided', usevar = 'unequal')\n",
    "    gender_res.append([x, tmp_diff, tmp_ci])\n",
    "print(gender_res) \n",
    "\n",
    "# Plot CATE for males and females\n",
    "for i in range(len(gender_res)):\n",
    "    diff = gender_res[i][1]\n",
    "    ci = gender_res[i][2]\n",
    "    plt.plot([i, i], [diff, diff], \"or\")\n",
    "    plt.plot([i, i], [ci[0], ci[1]], \":b\")\n",
    "f = plt.gca()\n",
    "f.set_xticks(range(len(gender_res)))\n",
    "f.set_xticklabels(gender_list)"
   ]
  },
  {
   "cell_type": "code",
   "execution_count": 12,
   "id": "566822a9",
   "metadata": {},
   "outputs": [
    {
     "data": {
      "text/html": [
       "<div>\n",
       "<style scoped>\n",
       "    .dataframe tbody tr th:only-of-type {\n",
       "        vertical-align: middle;\n",
       "    }\n",
       "\n",
       "    .dataframe tbody tr th {\n",
       "        vertical-align: top;\n",
       "    }\n",
       "\n",
       "    .dataframe thead th {\n",
       "        text-align: right;\n",
       "    }\n",
       "</style>\n",
       "<table border=\"1\" class=\"dataframe\">\n",
       "  <thead>\n",
       "    <tr style=\"text-align: right;\">\n",
       "      <th></th>\n",
       "      <th>user</th>\n",
       "      <th>adid</th>\n",
       "      <th>week</th>\n",
       "      <th>expid</th>\n",
       "      <th>if_click</th>\n",
       "      <th>real_like_cnt</th>\n",
       "      <th>category</th>\n",
       "      <th>brand_effect</th>\n",
       "      <th>experience</th>\n",
       "      <th>status</th>\n",
       "      <th>...</th>\n",
       "      <th>friend_gender</th>\n",
       "      <th>user_city</th>\n",
       "      <th>friend_city</th>\n",
       "      <th>user_degree</th>\n",
       "      <th>friend_degree</th>\n",
       "      <th>user_sns_like_cnt</th>\n",
       "      <th>user_sns_comment_cnt</th>\n",
       "      <th>age_level</th>\n",
       "      <th>friend_age_level</th>\n",
       "      <th>friend_gender_code</th>\n",
       "    </tr>\n",
       "  </thead>\n",
       "  <tbody>\n",
       "    <tr>\n",
       "      <th>0</th>\n",
       "      <td>297353</td>\n",
       "      <td>0b0fa14b56d3741178196daaa92e6a1e</td>\n",
       "      <td>w_2</td>\n",
       "      <td>1</td>\n",
       "      <td>0</td>\n",
       "      <td>3</td>\n",
       "      <td>Car</td>\n",
       "      <td>1</td>\n",
       "      <td>1</td>\n",
       "      <td>1</td>\n",
       "      <td>...</td>\n",
       "      <td>male</td>\n",
       "      <td>level_1</td>\n",
       "      <td>level_1</td>\n",
       "      <td>495</td>\n",
       "      <td>436</td>\n",
       "      <td>162</td>\n",
       "      <td>138</td>\n",
       "      <td>40+</td>\n",
       "      <td>31_40</td>\n",
       "      <td>0</td>\n",
       "    </tr>\n",
       "    <tr>\n",
       "      <th>1</th>\n",
       "      <td>98719</td>\n",
       "      <td>ea875acb76e0a806a7837174528f62d9</td>\n",
       "      <td>w_3</td>\n",
       "      <td>1</td>\n",
       "      <td>0</td>\n",
       "      <td>3</td>\n",
       "      <td>Car</td>\n",
       "      <td>1</td>\n",
       "      <td>1</td>\n",
       "      <td>1</td>\n",
       "      <td>...</td>\n",
       "      <td>female</td>\n",
       "      <td>level_3</td>\n",
       "      <td>level_2</td>\n",
       "      <td>479</td>\n",
       "      <td>3911</td>\n",
       "      <td>212</td>\n",
       "      <td>312</td>\n",
       "      <td>21_30</td>\n",
       "      <td>31_40</td>\n",
       "      <td>1</td>\n",
       "    </tr>\n",
       "    <tr>\n",
       "      <th>2</th>\n",
       "      <td>205144</td>\n",
       "      <td>1f1fe825014d9e9a0881233d9950bd43</td>\n",
       "      <td>w_2</td>\n",
       "      <td>1</td>\n",
       "      <td>0</td>\n",
       "      <td>1</td>\n",
       "      <td>Jewelry</td>\n",
       "      <td>0</td>\n",
       "      <td>1</td>\n",
       "      <td>1</td>\n",
       "      <td>...</td>\n",
       "      <td>male</td>\n",
       "      <td>level_2</td>\n",
       "      <td>level_1</td>\n",
       "      <td>682</td>\n",
       "      <td>470</td>\n",
       "      <td>95</td>\n",
       "      <td>336</td>\n",
       "      <td>21_30</td>\n",
       "      <td>21_30</td>\n",
       "      <td>0</td>\n",
       "    </tr>\n",
       "    <tr>\n",
       "      <th>3</th>\n",
       "      <td>559194</td>\n",
       "      <td>1f1fe825014d9e9a0881233d9950bd43</td>\n",
       "      <td>w_2</td>\n",
       "      <td>1</td>\n",
       "      <td>0</td>\n",
       "      <td>5</td>\n",
       "      <td>Jewelry</td>\n",
       "      <td>0</td>\n",
       "      <td>1</td>\n",
       "      <td>1</td>\n",
       "      <td>...</td>\n",
       "      <td>male</td>\n",
       "      <td>level_1</td>\n",
       "      <td>level_1</td>\n",
       "      <td>340</td>\n",
       "      <td>602</td>\n",
       "      <td>35</td>\n",
       "      <td>138</td>\n",
       "      <td>21_30</td>\n",
       "      <td>40+</td>\n",
       "      <td>0</td>\n",
       "    </tr>\n",
       "    <tr>\n",
       "      <th>4</th>\n",
       "      <td>11888</td>\n",
       "      <td>0d82161270febc99f7defb653e339113</td>\n",
       "      <td>w_3</td>\n",
       "      <td>0</td>\n",
       "      <td>0</td>\n",
       "      <td>1</td>\n",
       "      <td>Cosmetrics</td>\n",
       "      <td>0</td>\n",
       "      <td>1</td>\n",
       "      <td>1</td>\n",
       "      <td>...</td>\n",
       "      <td>female</td>\n",
       "      <td>level_1</td>\n",
       "      <td>level_2</td>\n",
       "      <td>95</td>\n",
       "      <td>836</td>\n",
       "      <td>50</td>\n",
       "      <td>38</td>\n",
       "      <td>31_40</td>\n",
       "      <td>31_40</td>\n",
       "      <td>1</td>\n",
       "    </tr>\n",
       "  </tbody>\n",
       "</table>\n",
       "<p>5 rows × 23 columns</p>\n",
       "</div>"
      ],
      "text/plain": [
       "     user                              adid week  expid  if_click  \\\n",
       "0  297353  0b0fa14b56d3741178196daaa92e6a1e  w_2      1         0   \n",
       "1   98719  ea875acb76e0a806a7837174528f62d9  w_3      1         0   \n",
       "2  205144  1f1fe825014d9e9a0881233d9950bd43  w_2      1         0   \n",
       "3  559194  1f1fe825014d9e9a0881233d9950bd43  w_2      1         0   \n",
       "4   11888  0d82161270febc99f7defb653e339113  w_3      0         0   \n",
       "\n",
       "   real_like_cnt    category  brand_effect  experience  status  ...  \\\n",
       "0              3         Car             1           1       1  ...   \n",
       "1              3         Car             1           1       1  ...   \n",
       "2              1     Jewelry             0           1       1  ...   \n",
       "3              5     Jewelry             0           1       1  ...   \n",
       "4              1  Cosmetrics             0           1       1  ...   \n",
       "\n",
       "   friend_gender  user_city friend_city user_degree friend_degree  \\\n",
       "0           male    level_1     level_1         495           436   \n",
       "1         female    level_3     level_2         479          3911   \n",
       "2           male    level_2     level_1         682           470   \n",
       "3           male    level_1     level_1         340           602   \n",
       "4         female    level_1     level_2          95           836   \n",
       "\n",
       "  user_sns_like_cnt  user_sns_comment_cnt  age_level  friend_age_level  \\\n",
       "0               162                   138        40+             31_40   \n",
       "1               212                   312      21_30             31_40   \n",
       "2                95                   336      21_30             21_30   \n",
       "3                35                   138      21_30               40+   \n",
       "4                50                    38      31_40             31_40   \n",
       "\n",
       "   friend_gender_code  \n",
       "0                   0  \n",
       "1                   1  \n",
       "2                   0  \n",
       "3                   0  \n",
       "4                   1  \n",
       "\n",
       "[5 rows x 23 columns]"
      ]
     },
     "execution_count": 12,
     "metadata": {},
     "output_type": "execute_result"
    }
   ],
   "source": [
    "df['friend_gender_code'] = df['friend_gender'].replace({'male': 0, 'female': 1})\n",
    "df.head()"
   ]
  },
  {
   "cell_type": "code",
   "execution_count": 13,
   "id": "3ae89594",
   "metadata": {},
   "outputs": [
    {
     "name": "stdout",
     "output_type": "stream",
     "text": [
      "                            OLS Regression Results                            \n",
      "==============================================================================\n",
      "Dep. Variable:               if_click   R-squared:                       0.000\n",
      "Model:                            OLS   Adj. R-squared:                  0.000\n",
      "Method:                 Least Squares   F-statistic:                     83.65\n",
      "Date:                Thu, 02 Mar 2023   Prob (F-statistic):           4.17e-54\n",
      "Time:                        20:01:09   Log-Likelihood:                -56548.\n",
      "No. Observations:             1000000   AIC:                         1.131e+05\n",
      "Df Residuals:                  999996   BIC:                         1.132e+05\n",
      "Df Model:                           3                                         \n",
      "Covariance Type:            nonrobust                                         \n",
      "============================================================================================\n",
      "                               coef    std err          t      P>|t|      [0.025      0.975]\n",
      "--------------------------------------------------------------------------------------------\n",
      "Intercept                    0.0670      0.001    130.855      0.000       0.066       0.068\n",
      "friend_gender_code          -0.0009      0.001     -1.184      0.236      -0.002       0.001\n",
      "expid                        0.0062      0.001      8.629      0.000       0.005       0.008\n",
      "friend_gender_code:expid     0.0033      0.001      3.228      0.001       0.001       0.005\n",
      "==============================================================================\n",
      "Omnibus:                   665218.624   Durbin-Watson:                   2.000\n",
      "Prob(Omnibus):                  0.000   Jarque-Bera (JB):          5434419.985\n",
      "Skew:                           3.353   Prob(JB):                         0.00\n",
      "Kurtosis:                      12.245   Cond. No.                         6.85\n",
      "==============================================================================\n",
      "\n",
      "Notes:\n",
      "[1] Standard Errors assume that the covariance matrix of the errors is correctly specified.\n"
     ]
    }
   ],
   "source": [
    "# Test how friend gender impact the treatment effects\n",
    "mod_age = smf.ols(formula='if_click ~ friend_gender_code + expid + friend_gender_code*expid', data=df)\n",
    "res_age = mod_age.fit()\n",
    "print(res_age.summary())"
   ]
  },
  {
   "cell_type": "markdown",
   "id": "d51cec68",
   "metadata": {},
   "source": [
    "The comparison in the graph clearly shows that the mean value for females is significantly higher than that of males, and the confidence intervals for the two do not overlap. Furthermore, the results from OLS indicate that the coefficient for the interaction between friend gender and expid is positive and significant. Both of these findings suggest that when users see a female friend endorsing an ad, they are more likely to click on it compared to seeing a male friend endorse it."
   ]
  },
  {
   "cell_type": "markdown",
   "id": "4db3608f",
   "metadata": {},
   "source": [
    "### User Age"
   ]
  },
  {
   "cell_type": "code",
   "execution_count": 14,
   "id": "7f5cbf45",
   "metadata": {},
   "outputs": [
    {
     "data": {
      "text/html": [
       "<div>\n",
       "<style scoped>\n",
       "    .dataframe tbody tr th:only-of-type {\n",
       "        vertical-align: middle;\n",
       "    }\n",
       "\n",
       "    .dataframe tbody tr th {\n",
       "        vertical-align: top;\n",
       "    }\n",
       "\n",
       "    .dataframe thead th {\n",
       "        text-align: right;\n",
       "    }\n",
       "</style>\n",
       "<table border=\"1\" class=\"dataframe\">\n",
       "  <thead>\n",
       "    <tr style=\"text-align: right;\">\n",
       "      <th></th>\n",
       "      <th>0</th>\n",
       "      <th>1</th>\n",
       "      <th>2</th>\n",
       "    </tr>\n",
       "  </thead>\n",
       "  <tbody>\n",
       "    <tr>\n",
       "      <th>0</th>\n",
       "      <td>1_20</td>\n",
       "      <td>0.008970</td>\n",
       "      <td>(0.002565032910616708, 0.015374092998158263)</td>\n",
       "    </tr>\n",
       "    <tr>\n",
       "      <th>1</th>\n",
       "      <td>21_30</td>\n",
       "      <td>0.007161</td>\n",
       "      <td>(0.005492426357648324, 0.008829701892474449)</td>\n",
       "    </tr>\n",
       "    <tr>\n",
       "      <th>2</th>\n",
       "      <td>31_40</td>\n",
       "      <td>0.008112</td>\n",
       "      <td>(0.006695489144764064, 0.009528958393766686)</td>\n",
       "    </tr>\n",
       "    <tr>\n",
       "      <th>3</th>\n",
       "      <td>40+</td>\n",
       "      <td>0.009053</td>\n",
       "      <td>(0.00605490895237149, 0.012051784506846791)</td>\n",
       "    </tr>\n",
       "  </tbody>\n",
       "</table>\n",
       "</div>"
      ],
      "text/plain": [
       "       0         1                                             2\n",
       "0   1_20  0.008970  (0.002565032910616708, 0.015374092998158263)\n",
       "1  21_30  0.007161  (0.005492426357648324, 0.008829701892474449)\n",
       "2  31_40  0.008112  (0.006695489144764064, 0.009528958393766686)\n",
       "3    40+  0.009053   (0.00605490895237149, 0.012051784506846791)"
      ]
     },
     "execution_count": 14,
     "metadata": {},
     "output_type": "execute_result"
    }
   ],
   "source": [
    "#Across age groups\n",
    "age_list = ['1_20', '21_30', '31_40', '40+']\n",
    "age_res = []\n",
    "for x in age_list:\n",
    "    tmp_d_0 = df[(df['expid'] == 0) & (df['age_level'] == x)]['if_click']\n",
    "    tmp_d_1 = df[(df['expid'] == 1) & (df['age_level'] == x)]['if_click']\n",
    "    tmp_diff = np.mean(tmp_d_1) - np.mean(tmp_d_0)\n",
    "    tmp_cm = sms.CompareMeans(sms.DescrStatsW(tmp_d_1), sms.DescrStatsW(tmp_d_0))\n",
    "    tmp_ci = tmp_cm.tconfint_diff(alpha = 0.05, alternative = 'two-sided', usevar = 'pooled')\n",
    "    age_res.append([x, tmp_diff, tmp_ci])\n",
    "pd.DataFrame(age_res)"
   ]
  },
  {
   "cell_type": "code",
   "execution_count": 15,
   "id": "c1250973",
   "metadata": {},
   "outputs": [
    {
     "data": {
      "text/plain": [
       "[Text(0, 0, '1_20'),\n",
       " Text(1, 0, '21_30'),\n",
       " Text(2, 0, '31_40'),\n",
       " Text(3, 0, '40+')]"
      ]
     },
     "execution_count": 15,
     "metadata": {},
     "output_type": "execute_result"
    },
    {
     "data": {
      "image/png": "[encoded data removed]",
      "text/plain": [
       "<Figure size 640x480 with 1 Axes>"
      ]
     },
     "metadata": {},
     "output_type": "display_data"
    }
   ],
   "source": [
    "for i in range(len(age_res)):\n",
    "    diff = age_res[i][1]\n",
    "    ci = age_res[i][2]\n",
    "    plt.plot([i, i], [diff, diff], \"or\")\n",
    "    plt.plot([i, i], [ci[0], ci[1]], \":b\")\n",
    "f = plt.gca()\n",
    "f.set_xticks(range(len(age_res)))\n",
    "f.set_xticklabels(age_list)"
   ]
  },
  {
   "cell_type": "code",
   "execution_count": 16,
   "id": "f493aef5",
   "metadata": {},
   "outputs": [
    {
     "name": "stdout",
     "output_type": "stream",
     "text": [
      "                            OLS Regression Results                            \n",
      "==============================================================================\n",
      "Dep. Variable:               if_click   R-squared:                       0.000\n",
      "Model:                            OLS   Adj. R-squared:                  0.000\n",
      "Method:                 Least Squares   F-statistic:                     85.85\n",
      "Date:                Thu, 02 Mar 2023   Prob (F-statistic):           1.54e-55\n",
      "Time:                        20:01:10   Log-Likelihood:                -56545.\n",
      "No. Observations:             1000000   AIC:                         1.131e+05\n",
      "Df Residuals:                  999996   BIC:                         1.131e+05\n",
      "Df Model:                           3                                         \n",
      "Covariance Type:            nonrobust                                         \n",
      "==================================================================================\n",
      "                     coef    std err          t      P>|t|      [0.025      0.975]\n",
      "----------------------------------------------------------------------------------\n",
      "Intercept          0.0632      0.002     34.520      0.000       0.060       0.067\n",
      "user_age           0.0001    5.5e-05      1.868      0.062   -5.08e-06       0.000\n",
      "expid              0.0041      0.003      1.575      0.115      -0.001       0.009\n",
      "user_age:expid     0.0001   7.78e-05      1.504      0.133   -3.55e-05       0.000\n",
      "==============================================================================\n",
      "Omnibus:                   665212.957   Durbin-Watson:                   2.000\n",
      "Prob(Omnibus):                  0.000   Jarque-Bera (JB):          5434293.914\n",
      "Skew:                           3.353   Prob(JB):                         0.00\n",
      "Kurtosis:                      12.244   Cond. No.                         442.\n",
      "==============================================================================\n",
      "\n",
      "Notes:\n",
      "[1] Standard Errors assume that the covariance matrix of the errors is correctly specified.\n"
     ]
    }
   ],
   "source": [
    "# Age is a continous variance - test how age impact the treatment effects\n",
    "mod_age = smf.ols(formula='if_click ~ user_age + expid + user_age*expid', data=df)\n",
    "res_age = mod_age.fit()\n",
    "print(res_age.summary())"
   ]
  },
  {
   "cell_type": "markdown",
   "id": "778a21d7",
   "metadata": {},
   "source": [
    "Regardless of the perspective, whether from the overlapping confidence intervals of different age groups in the graph or from the results of OLS analysis showing a p-value greater than 0.05 for the interaction between user_age and expid, it is difficult to claim the existence of differential treatment effects among users of different ages."
   ]
  },
  {
   "cell_type": "markdown",
   "id": "9e23561f",
   "metadata": {},
   "source": [
    "### Friend Age"
   ]
  },
  {
   "cell_type": "code",
   "execution_count": 17,
   "id": "c54071eb",
   "metadata": {},
   "outputs": [
    {
     "data": {
      "text/html": [
       "<div>\n",
       "<style scoped>\n",
       "    .dataframe tbody tr th:only-of-type {\n",
       "        vertical-align: middle;\n",
       "    }\n",
       "\n",
       "    .dataframe tbody tr th {\n",
       "        vertical-align: top;\n",
       "    }\n",
       "\n",
       "    .dataframe thead th {\n",
       "        text-align: right;\n",
       "    }\n",
       "</style>\n",
       "<table border=\"1\" class=\"dataframe\">\n",
       "  <thead>\n",
       "    <tr style=\"text-align: right;\">\n",
       "      <th></th>\n",
       "      <th>0</th>\n",
       "      <th>1</th>\n",
       "      <th>2</th>\n",
       "    </tr>\n",
       "  </thead>\n",
       "  <tbody>\n",
       "    <tr>\n",
       "      <th>0</th>\n",
       "      <td>1_20</td>\n",
       "      <td>0.008970</td>\n",
       "      <td>(0.002565032910616708, 0.015374092998158263)</td>\n",
       "    </tr>\n",
       "    <tr>\n",
       "      <th>1</th>\n",
       "      <td>21_30</td>\n",
       "      <td>0.007161</td>\n",
       "      <td>(0.005492426357648324, 0.008829701892474449)</td>\n",
       "    </tr>\n",
       "    <tr>\n",
       "      <th>2</th>\n",
       "      <td>31_40</td>\n",
       "      <td>0.008112</td>\n",
       "      <td>(0.006695489144764064, 0.009528958393766686)</td>\n",
       "    </tr>\n",
       "    <tr>\n",
       "      <th>3</th>\n",
       "      <td>40+</td>\n",
       "      <td>0.009053</td>\n",
       "      <td>(0.00605490895237149, 0.012051784506846791)</td>\n",
       "    </tr>\n",
       "  </tbody>\n",
       "</table>\n",
       "</div>"
      ],
      "text/plain": [
       "       0         1                                             2\n",
       "0   1_20  0.008970  (0.002565032910616708, 0.015374092998158263)\n",
       "1  21_30  0.007161  (0.005492426357648324, 0.008829701892474449)\n",
       "2  31_40  0.008112  (0.006695489144764064, 0.009528958393766686)\n",
       "3    40+  0.009053   (0.00605490895237149, 0.012051784506846791)"
      ]
     },
     "execution_count": 17,
     "metadata": {},
     "output_type": "execute_result"
    }
   ],
   "source": [
    "pd.DataFrame(age_res)"
   ]
  },
  {
   "cell_type": "code",
   "execution_count": 18,
   "id": "a50e9f7e",
   "metadata": {},
   "outputs": [
    {
     "name": "stdout",
     "output_type": "stream",
     "text": [
      "[['1_20', 0.0045923201956011295, (-0.001529833904945664, 0.010714474296147924)], ['21_30', 0.007008543260992775, (0.005391015465986912, 0.008626071055998637)], ['31_40', 0.00885772302561516, (0.00743306212815227, 0.01028238392307805)], ['40+', 0.007421776215641773, (0.004119269017336004, 0.010724283413947542)]]\n"
     ]
    },
    {
     "data": {
      "text/plain": [
       "[Text(0, 0, '1_20'),\n",
       " Text(1, 0, '21_30'),\n",
       " Text(2, 0, '31_40'),\n",
       " Text(3, 0, '40+')]"
      ]
     },
     "execution_count": 18,
     "metadata": {},
     "output_type": "execute_result"
    },
    {
     "data": {
      "image/png": "[encoded data removed]",
      "text/plain": [
       "<Figure size 640x480 with 1 Axes>"
      ]
     },
     "metadata": {},
     "output_type": "display_data"
    }
   ],
   "source": [
    "#Across age groups\n",
    "age_list = ['1_20', '21_30', '31_40', '40+']\n",
    "age_res = []\n",
    "for x in age_list:\n",
    "    tmp_d_0 = df[(df['expid'] == 0) & (df['friend_age_level'] == x)]['if_click']\n",
    "    tmp_d_1 = df[(df['expid'] == 1) & (df['friend_age_level'] == x)]['if_click']\n",
    "    tmp_diff = np.mean(tmp_d_1) - np.mean(tmp_d_0)\n",
    "    tmp_cm = sms.CompareMeans(sms.DescrStatsW(tmp_d_1), sms.DescrStatsW(tmp_d_0))\n",
    "    tmp_ci = tmp_cm.tconfint_diff(alpha = 0.05, alternative = 'two-sided', usevar = 'unequal')\n",
    "    age_res.append([x, tmp_diff, tmp_ci])\n",
    "print(age_res)\n",
    "\n",
    "for i in range(len(age_res)):\n",
    "    diff = age_res[i][1]\n",
    "    ci = age_res[i][2]\n",
    "    plt.plot([i, i], [diff, diff], \"or\")\n",
    "    plt.plot([i, i], [ci[0], ci[1]], \":b\")\n",
    "f = plt.gca()\n",
    "f.set_xticks(range(len(age_res)))\n",
    "f.set_xticklabels(age_list)"
   ]
  },
  {
   "cell_type": "code",
   "execution_count": 19,
   "id": "7f9e5771",
   "metadata": {},
   "outputs": [
    {
     "name": "stdout",
     "output_type": "stream",
     "text": [
      "                            OLS Regression Results                            \n",
      "==============================================================================\n",
      "Dep. Variable:               if_click   R-squared:                       0.000\n",
      "Model:                            OLS   Adj. R-squared:                  0.000\n",
      "Method:                 Least Squares   F-statistic:                     42.29\n",
      "Date:                Thu, 02 Mar 2023   Prob (F-statistic):           4.33e-60\n",
      "Time:                        20:01:14   Log-Likelihood:                -56525.\n",
      "No. Observations:             1000000   AIC:                         1.131e+05\n",
      "Df Residuals:                  999992   BIC:                         1.132e+05\n",
      "Df Model:                           7                                         \n",
      "Covariance Type:            nonrobust                                         \n",
      "===================================================================================================\n",
      "                                      coef    std err          t      P>|t|      [0.025      0.975]\n",
      "---------------------------------------------------------------------------------------------------\n",
      "Intercept                           0.0682      0.002     30.970      0.000       0.064       0.073\n",
      "friend_age_level[T.21_30]          -0.0021      0.002     -0.910      0.363      -0.007       0.002\n",
      "friend_age_level[T.31_40]          -0.0025      0.002     -1.100      0.271      -0.007       0.002\n",
      "friend_age_level[T.40+]             0.0043      0.002      1.713      0.087      -0.001       0.009\n",
      "expid                               0.0046      0.003      1.470      0.142      -0.002       0.011\n",
      "friend_age_level[T.21_30]:expid     0.0024      0.003      0.748      0.455      -0.004       0.009\n",
      "friend_age_level[T.31_40]:expid     0.0043      0.003      1.330      0.184      -0.002       0.011\n",
      "friend_age_level[T.40+]:expid       0.0028      0.004      0.803      0.422      -0.004       0.010\n",
      "==============================================================================\n",
      "Omnibus:                   665179.070   Durbin-Watson:                   2.000\n",
      "Prob(Omnibus):                  0.000   Jarque-Bera (JB):          5433530.751\n",
      "Skew:                           3.353   Prob(JB):                         0.00\n",
      "Kurtosis:                      12.244   Cond. No.                         38.4\n",
      "==============================================================================\n",
      "\n",
      "Notes:\n",
      "[1] Standard Errors assume that the covariance matrix of the errors is correctly specified.\n"
     ]
    }
   ],
   "source": [
    "# Age is a continous variance - test how age impact the treatment effects\n",
    "mod_age = smf.ols(formula='if_click ~ friend_age_level + expid + friend_age_level*expid', data=df)\n",
    "res_age = mod_age.fit()\n",
    "print(res_age.summary())"
   ]
  },
  {
   "cell_type": "markdown",
   "id": "ebdac03b",
   "metadata": {},
   "source": [
    "Both overlapping confidence intervals and p-values greater than 0.05 in OLS results indicate the promoting effect of friends' likes on users' ad clicks, with no significant difference observed among different age groups of friends."
   ]
  },
  {
   "cell_type": "markdown",
   "id": "3e50ac6c",
   "metadata": {},
   "source": [
    "### Category"
   ]
  },
  {
   "cell_type": "code",
   "execution_count": 26,
   "id": "2dd8fa0c",
   "metadata": {},
   "outputs": [
    {
     "name": "stdout",
     "output_type": "stream",
     "text": [
      "[['Car', 0.0072500000000000064, (0.005031230791048167, 0.009468769208951846)], ['Clothes', 0.006879999999999997, (0.004742072729837484, 0.00901792727016251)], ['Jewelry', 0.01064000000000001, (0.00824748655834276, 0.013032513441657262)], ['Beverage', 0.007949999999999999, (0.00574086041043006, 0.010159139589569937)], ['Cosmetrics', 0.006790000000000004, (0.004537361078110759, 0.00904263892188925)]]\n"
     ]
    },
    {
     "data": {
      "text/plain": [
       "[Text(0, 0, 'Car'),\n",
       " Text(1, 0, 'Clothes'),\n",
       " Text(2, 0, 'Jewelry'),\n",
       " Text(3, 0, 'Beverage'),\n",
       " Text(4, 0, 'Cosmetrics')]"
      ]
     },
     "execution_count": 26,
     "metadata": {},
     "output_type": "execute_result"
    },
    {
     "data": {
      "image/png": "[encoded data removed]",
      "text/plain": [
       "<Figure size 640x480 with 1 Axes>"
      ]
     },
     "metadata": {},
     "output_type": "display_data"
    }
   ],
   "source": [
    "obj='category'\n",
    "# Across Category\n",
    "Category_list = list(set(data[obj]))\n",
    "Category_res = []\n",
    "for x in Category_list:\n",
    "    tmp_d_0 = df[(df['expid'] == 0) & (df[obj] == x)]['if_click']\n",
    "    tmp_d_1 = df[(df['expid'] == 1) & (df[obj] == x)]['if_click']\n",
    "    tmp_diff = np.mean(tmp_d_1) - np.mean(tmp_d_0)\n",
    "    tmp_cm = sms.CompareMeans(sms.DescrStatsW(tmp_d_1), sms.DescrStatsW(tmp_d_0))\n",
    "    tmp_ci = tmp_cm.tconfint_diff(alpha = 0.05, alternative = 'two-sided', usevar = 'unequal')\n",
    "    Category_res.append([x, tmp_diff, tmp_ci])\n",
    "print(Category_res) \n",
    "\n",
    "# Plot CATE for males and females\n",
    "for i in range(len(Category_res)):\n",
    "    diff = Category_res[i][1]\n",
    "    ci = Category_res[i][2]\n",
    "    plt.plot([i, i], [diff, diff], \"or\")\n",
    "    plt.plot([i, i], [ci[0], ci[1]], \":b\")\n",
    "f = plt.gca()\n",
    "f.set_xticks(range(len(Category_res)))\n",
    "f.set_xticklabels(Category_list)"
   ]
  },
  {
   "cell_type": "code",
   "execution_count": 73,
   "id": "8afcd416",
   "metadata": {},
   "outputs": [
    {
     "data": {
      "image/png": "[encoded data removed]",
      "text/plain": [
       "<Figure size 640x480 with 1 Axes>"
      ]
     },
     "metadata": {},
     "output_type": "display_data"
    },
    {
     "data": {
      "image/png": "[encoded data removed]",
      "text/plain": [
       "<Figure size 640x480 with 1 Axes>"
      ]
     },
     "metadata": {},
     "output_type": "display_data"
    }
   ],
   "source": [
    "import pandas as pd\n",
    "import numpy as np\n",
    "import statsmodels.stats.api as sms\n",
    "import matplotlib.pyplot as plt\n",
    "\n",
    "# Loop through unique values in 'category' column\n",
    "for category in df['friend_gender'].unique():\n",
    "    # Filter DataFrame for current category\n",
    "    df2 = df[df['friend_gender'] == category]\n",
    "    \n",
    "    # Loop through 'brand_effect' list\n",
    "    for obj in ['category']:\n",
    "        # Calculate mean difference and confidence interval for each level of 'brand_effect'\n",
    "        obj_list = list(set(data[obj]))\n",
    "        obj_res = []\n",
    "        for x in obj_list:\n",
    "            tmp_d_0 = df2[(df2['expid'] == 0) & (df2[obj] == x)]['if_click']\n",
    "            tmp_d_1 = df2[(df2['expid'] == 1) & (df2[obj] == x)]['if_click']\n",
    "            tmp_diff = np.mean(tmp_d_1) - np.mean(tmp_d_0)\n",
    "            tmp_cm = sms.CompareMeans(sms.DescrStatsW(tmp_d_1), sms.DescrStatsW(tmp_d_0))\n",
    "            tmp_ci = tmp_cm.tconfint_diff(alpha=0.05, alternative='two-sided', usevar='unequal')\n",
    "            obj_res.append([x, tmp_diff, tmp_ci])\n",
    "        \n",
    "        # Plot and save figure for current category and 'brand_effect'\n",
    "        fig, ax = plt.subplots()\n",
    "        for i in range(len(obj_res)):\n",
    "            diff = obj_res[i][1]\n",
    "            ci = obj_res[i][2]\n",
    "            ax.plot([i, i], [diff, diff], \"or\")\n",
    "            ax.plot([i, i], [ci[0], ci[1]], \":b\")\n",
    "            ax.set_title(f\"{category} - {obj}\")\n",
    "            ax.set_xticks(range(len(obj_res)))\n",
    "            ax.set_xticklabels(obj_list)\n",
    "plt.show()\n",
    "#         plt.savefig(f\"{category}_{obj}.png\")\n"
   ]
  },
  {
   "cell_type": "markdown",
   "id": "4fff33d5",
   "metadata": {},
   "source": [
    "### Week"
   ]
  },
  {
   "cell_type": "code",
   "execution_count": 21,
   "id": "b7ce78c0",
   "metadata": {},
   "outputs": [
    {
     "data": {
      "text/html": [
       "<div>\n",
       "<style scoped>\n",
       "    .dataframe tbody tr th:only-of-type {\n",
       "        vertical-align: middle;\n",
       "    }\n",
       "\n",
       "    .dataframe tbody tr th {\n",
       "        vertical-align: top;\n",
       "    }\n",
       "\n",
       "    .dataframe thead th {\n",
       "        text-align: right;\n",
       "    }\n",
       "</style>\n",
       "<table border=\"1\" class=\"dataframe\">\n",
       "  <thead>\n",
       "    <tr style=\"text-align: right;\">\n",
       "      <th></th>\n",
       "      <th>0</th>\n",
       "      <th>1</th>\n",
       "      <th>2</th>\n",
       "    </tr>\n",
       "  </thead>\n",
       "  <tbody>\n",
       "    <tr>\n",
       "      <th>0</th>\n",
       "      <td>Car</td>\n",
       "      <td>0.00725</td>\n",
       "      <td>(0.005031230791048167, 0.009468769208951846)</td>\n",
       "    </tr>\n",
       "    <tr>\n",
       "      <th>1</th>\n",
       "      <td>Clothes</td>\n",
       "      <td>0.00688</td>\n",
       "      <td>(0.004742072729837484, 0.00901792727016251)</td>\n",
       "    </tr>\n",
       "    <tr>\n",
       "      <th>2</th>\n",
       "      <td>Jewelry</td>\n",
       "      <td>0.01064</td>\n",
       "      <td>(0.00824748655834276, 0.013032513441657262)</td>\n",
       "    </tr>\n",
       "    <tr>\n",
       "      <th>3</th>\n",
       "      <td>Beverage</td>\n",
       "      <td>0.00795</td>\n",
       "      <td>(0.00574086041043006, 0.010159139589569937)</td>\n",
       "    </tr>\n",
       "    <tr>\n",
       "      <th>4</th>\n",
       "      <td>Cosmetrics</td>\n",
       "      <td>0.00679</td>\n",
       "      <td>(0.004537361078110759, 0.00904263892188925)</td>\n",
       "    </tr>\n",
       "  </tbody>\n",
       "</table>\n",
       "</div>"
      ],
      "text/plain": [
       "            0        1                                             2\n",
       "0         Car  0.00725  (0.005031230791048167, 0.009468769208951846)\n",
       "1     Clothes  0.00688   (0.004742072729837484, 0.00901792727016251)\n",
       "2     Jewelry  0.01064   (0.00824748655834276, 0.013032513441657262)\n",
       "3    Beverage  0.00795   (0.00574086041043006, 0.010159139589569937)\n",
       "4  Cosmetrics  0.00679   (0.004537361078110759, 0.00904263892188925)"
      ]
     },
     "execution_count": 21,
     "metadata": {},
     "output_type": "execute_result"
    }
   ],
   "source": [
    "pd.DataFrame(Category_res)"
   ]
  },
  {
   "cell_type": "code",
   "execution_count": 22,
   "id": "738dd2d4",
   "metadata": {},
   "outputs": [
    {
     "name": "stdout",
     "output_type": "stream",
     "text": [
      "[['w_2', 0.00835657393883718, (0.00644202391560464, 0.01027112396206972)], ['w_1', 0.011503784632675165, (0.008825550499894703, 0.014182018765455627)], ['w_3', 0.006578267485829806, (0.005279684526414409, 0.007876850445245201)]]\n"
     ]
    },
    {
     "data": {
      "text/plain": [
       "[Text(0, 0, 'w_2'), Text(1, 0, 'w_1'), Text(2, 0, 'w_3')]"
      ]
     },
     "execution_count": 22,
     "metadata": {},
     "output_type": "execute_result"
    },
    {
     "data": {
      "image/png": "[encoded data removed]",
      "text/plain": [
       "<Figure size 640x480 with 1 Axes>"
      ]
     },
     "metadata": {},
     "output_type": "display_data"
    }
   ],
   "source": [
    "obj='week'\n",
    "# Across Category\n",
    "Category_list = list(set(data[obj]))\n",
    "Category_res = []\n",
    "for x in Category_list:\n",
    "    tmp_d_0 = df[(df['expid'] == 0) & (df[obj] == x)]['if_click']\n",
    "    tmp_d_1 = df[(df['expid'] == 1) & (df[obj] == x)]['if_click']\n",
    "    tmp_diff = np.mean(tmp_d_1) - np.mean(tmp_d_0)\n",
    "    tmp_cm = sms.CompareMeans(sms.DescrStatsW(tmp_d_1), sms.DescrStatsW(tmp_d_0))\n",
    "    tmp_ci = tmp_cm.tconfint_diff(alpha = 0.05, alternative = 'two-sided', usevar = 'unequal')\n",
    "    Category_res.append([x, tmp_diff, tmp_ci])\n",
    "print(Category_res) \n",
    "\n",
    "# Plot CATE for males and females\n",
    "for i in range(len(Category_res)):\n",
    "    diff = Category_res[i][1]\n",
    "    ci = Category_res[i][2]\n",
    "    plt.plot([i, i], [diff, diff], \"or\")\n",
    "    plt.plot([i, i], [ci[0], ci[1]], \":b\")\n",
    "f = plt.gca()\n",
    "f.set_xticks(range(len(Category_res)))\n",
    "f.set_xticklabels(Category_list)"
   ]
  },
  {
   "cell_type": "code",
   "execution_count": 23,
   "id": "b0c854e5",
   "metadata": {},
   "outputs": [
    {
     "data": {
      "text/html": [
       "<div>\n",
       "<style scoped>\n",
       "    .dataframe tbody tr th:only-of-type {\n",
       "        vertical-align: middle;\n",
       "    }\n",
       "\n",
       "    .dataframe tbody tr th {\n",
       "        vertical-align: top;\n",
       "    }\n",
       "\n",
       "    .dataframe thead th {\n",
       "        text-align: right;\n",
       "    }\n",
       "</style>\n",
       "<table border=\"1\" class=\"dataframe\">\n",
       "  <thead>\n",
       "    <tr style=\"text-align: right;\">\n",
       "      <th></th>\n",
       "      <th>user</th>\n",
       "      <th>adid</th>\n",
       "      <th>week</th>\n",
       "      <th>expid</th>\n",
       "      <th>if_click</th>\n",
       "      <th>real_like_cnt</th>\n",
       "      <th>category</th>\n",
       "      <th>brand_effect</th>\n",
       "      <th>experience</th>\n",
       "      <th>status</th>\n",
       "      <th>...</th>\n",
       "      <th>user_city</th>\n",
       "      <th>friend_city</th>\n",
       "      <th>user_degree</th>\n",
       "      <th>friend_degree</th>\n",
       "      <th>user_sns_like_cnt</th>\n",
       "      <th>user_sns_comment_cnt</th>\n",
       "      <th>age_level</th>\n",
       "      <th>friend_age_level</th>\n",
       "      <th>friend_gender_code</th>\n",
       "      <th>week_code</th>\n",
       "    </tr>\n",
       "  </thead>\n",
       "  <tbody>\n",
       "    <tr>\n",
       "      <th>0</th>\n",
       "      <td>297353</td>\n",
       "      <td>0b0fa14b56d3741178196daaa92e6a1e</td>\n",
       "      <td>w_2</td>\n",
       "      <td>1</td>\n",
       "      <td>0</td>\n",
       "      <td>3</td>\n",
       "      <td>Car</td>\n",
       "      <td>1</td>\n",
       "      <td>1</td>\n",
       "      <td>1</td>\n",
       "      <td>...</td>\n",
       "      <td>level_1</td>\n",
       "      <td>level_1</td>\n",
       "      <td>495</td>\n",
       "      <td>436</td>\n",
       "      <td>162</td>\n",
       "      <td>138</td>\n",
       "      <td>40+</td>\n",
       "      <td>31_40</td>\n",
       "      <td>0</td>\n",
       "      <td>1</td>\n",
       "    </tr>\n",
       "    <tr>\n",
       "      <th>1</th>\n",
       "      <td>98719</td>\n",
       "      <td>ea875acb76e0a806a7837174528f62d9</td>\n",
       "      <td>w_3</td>\n",
       "      <td>1</td>\n",
       "      <td>0</td>\n",
       "      <td>3</td>\n",
       "      <td>Car</td>\n",
       "      <td>1</td>\n",
       "      <td>1</td>\n",
       "      <td>1</td>\n",
       "      <td>...</td>\n",
       "      <td>level_3</td>\n",
       "      <td>level_2</td>\n",
       "      <td>479</td>\n",
       "      <td>3911</td>\n",
       "      <td>212</td>\n",
       "      <td>312</td>\n",
       "      <td>21_30</td>\n",
       "      <td>31_40</td>\n",
       "      <td>1</td>\n",
       "      <td>2</td>\n",
       "    </tr>\n",
       "    <tr>\n",
       "      <th>2</th>\n",
       "      <td>205144</td>\n",
       "      <td>1f1fe825014d9e9a0881233d9950bd43</td>\n",
       "      <td>w_2</td>\n",
       "      <td>1</td>\n",
       "      <td>0</td>\n",
       "      <td>1</td>\n",
       "      <td>Jewelry</td>\n",
       "      <td>0</td>\n",
       "      <td>1</td>\n",
       "      <td>1</td>\n",
       "      <td>...</td>\n",
       "      <td>level_2</td>\n",
       "      <td>level_1</td>\n",
       "      <td>682</td>\n",
       "      <td>470</td>\n",
       "      <td>95</td>\n",
       "      <td>336</td>\n",
       "      <td>21_30</td>\n",
       "      <td>21_30</td>\n",
       "      <td>0</td>\n",
       "      <td>1</td>\n",
       "    </tr>\n",
       "    <tr>\n",
       "      <th>3</th>\n",
       "      <td>559194</td>\n",
       "      <td>1f1fe825014d9e9a0881233d9950bd43</td>\n",
       "      <td>w_2</td>\n",
       "      <td>1</td>\n",
       "      <td>0</td>\n",
       "      <td>5</td>\n",
       "      <td>Jewelry</td>\n",
       "      <td>0</td>\n",
       "      <td>1</td>\n",
       "      <td>1</td>\n",
       "      <td>...</td>\n",
       "      <td>level_1</td>\n",
       "      <td>level_1</td>\n",
       "      <td>340</td>\n",
       "      <td>602</td>\n",
       "      <td>35</td>\n",
       "      <td>138</td>\n",
       "      <td>21_30</td>\n",
       "      <td>40+</td>\n",
       "      <td>0</td>\n",
       "      <td>1</td>\n",
       "    </tr>\n",
       "    <tr>\n",
       "      <th>4</th>\n",
       "      <td>11888</td>\n",
       "      <td>0d82161270febc99f7defb653e339113</td>\n",
       "      <td>w_3</td>\n",
       "      <td>0</td>\n",
       "      <td>0</td>\n",
       "      <td>1</td>\n",
       "      <td>Cosmetrics</td>\n",
       "      <td>0</td>\n",
       "      <td>1</td>\n",
       "      <td>1</td>\n",
       "      <td>...</td>\n",
       "      <td>level_1</td>\n",
       "      <td>level_2</td>\n",
       "      <td>95</td>\n",
       "      <td>836</td>\n",
       "      <td>50</td>\n",
       "      <td>38</td>\n",
       "      <td>31_40</td>\n",
       "      <td>31_40</td>\n",
       "      <td>1</td>\n",
       "      <td>2</td>\n",
       "    </tr>\n",
       "  </tbody>\n",
       "</table>\n",
       "<p>5 rows × 24 columns</p>\n",
       "</div>"
      ],
      "text/plain": [
       "     user                              adid week  expid  if_click  \\\n",
       "0  297353  0b0fa14b56d3741178196daaa92e6a1e  w_2      1         0   \n",
       "1   98719  ea875acb76e0a806a7837174528f62d9  w_3      1         0   \n",
       "2  205144  1f1fe825014d9e9a0881233d9950bd43  w_2      1         0   \n",
       "3  559194  1f1fe825014d9e9a0881233d9950bd43  w_2      1         0   \n",
       "4   11888  0d82161270febc99f7defb653e339113  w_3      0         0   \n",
       "\n",
       "   real_like_cnt    category  brand_effect  experience  status  ...  \\\n",
       "0              3         Car             1           1       1  ...   \n",
       "1              3         Car             1           1       1  ...   \n",
       "2              1     Jewelry             0           1       1  ...   \n",
       "3              5     Jewelry             0           1       1  ...   \n",
       "4              1  Cosmetrics             0           1       1  ...   \n",
       "\n",
       "   user_city  friend_city user_degree friend_degree user_sns_like_cnt  \\\n",
       "0    level_1      level_1         495           436               162   \n",
       "1    level_3      level_2         479          3911               212   \n",
       "2    level_2      level_1         682           470                95   \n",
       "3    level_1      level_1         340           602                35   \n",
       "4    level_1      level_2          95           836                50   \n",
       "\n",
       "  user_sns_comment_cnt  age_level  friend_age_level  friend_gender_code  \\\n",
       "0                  138        40+             31_40                   0   \n",
       "1                  312      21_30             31_40                   1   \n",
       "2                  336      21_30             21_30                   0   \n",
       "3                  138      21_30               40+                   0   \n",
       "4                   38      31_40             31_40                   1   \n",
       "\n",
       "   week_code  \n",
       "0          1  \n",
       "1          2  \n",
       "2          1  \n",
       "3          1  \n",
       "4          2  \n",
       "\n",
       "[5 rows x 24 columns]"
      ]
     },
     "execution_count": 23,
     "metadata": {},
     "output_type": "execute_result"
    }
   ],
   "source": [
    "df['week_code'] = df['week'].replace({'w_1': 0, 'w_2': 1, 'w_3': 2})\n",
    "df.head()"
   ]
  },
  {
   "cell_type": "code",
   "execution_count": 24,
   "id": "3912c64e",
   "metadata": {},
   "outputs": [
    {
     "name": "stdout",
     "output_type": "stream",
     "text": [
      "                            OLS Regression Results                            \n",
      "==============================================================================\n",
      "Dep. Variable:               if_click   R-squared:                       0.001\n",
      "Model:                            OLS   Adj. R-squared:                  0.001\n",
      "Method:                 Least Squares   F-statistic:                     430.8\n",
      "Date:                Thu, 02 Mar 2023   Prob (F-statistic):          9.96e-280\n",
      "Time:                        20:01:17   Log-Likelihood:                -56028.\n",
      "No. Observations:             1000000   AIC:                         1.121e+05\n",
      "Df Residuals:                  999996   BIC:                         1.121e+05\n",
      "Df Model:                           3                                         \n",
      "Covariance Type:            nonrobust                                         \n",
      "===================================================================================\n",
      "                      coef    std err          t      P>|t|      [0.025      0.975]\n",
      "-----------------------------------------------------------------------------------\n",
      "Intercept           0.0799      0.001    107.086      0.000       0.078       0.081\n",
      "week_code          -0.0096      0.000    -20.362      0.000      -0.011      -0.009\n",
      "expid               0.0111      0.001     10.558      0.000       0.009       0.013\n",
      "week_code:expid    -0.0023      0.001     -3.493      0.000      -0.004      -0.001\n",
      "==============================================================================\n",
      "Omnibus:                   664323.109   Durbin-Watson:                   2.000\n",
      "Prob(Omnibus):                  0.000   Jarque-Bera (JB):          5414530.439\n",
      "Skew:                           3.348   Prob(JB):                         0.00\n",
      "Kurtosis:                      12.226   Cond. No.                         11.3\n",
      "==============================================================================\n",
      "\n",
      "Notes:\n",
      "[1] Standard Errors assume that the covariance matrix of the errors is correctly specified.\n"
     ]
    }
   ],
   "source": [
    "# Test how week impact the treatment effects\n",
    "mod_age = smf.ols(formula='if_click ~ week_code + expid + week_code*expid', data=df)\n",
    "res_age = mod_age.fit()\n",
    "print(res_age.summary())"
   ]
  },
  {
   "cell_type": "markdown",
   "id": "82bd52bb",
   "metadata": {},
   "source": [
    "The confidence interval chart reveals that the mean of the first week is higher than that of the third week, and the confidence intervals do not overlap. This demonstrates a significant difference. The OLS results further confirm this observation, as the cross-term coefficient of week_code and expid is negative and statistically significant. These findings collectively suggest that as time progresses, the effect of friends' likes on promoting user clicks on ads becomes increasingly weaker. This observation aligns with common sense, as new features always attract users to experiment but behavior eventually returns to normal once curiosity fades."
   ]
  }
 ],
 "metadata": {
  "kernelspec": {
   "display_name": "Python 3 (ipykernel)",
   "language": "python",
   "name": "python3"
  },
  "language_info": {
   "codemirror_mode": {
    "name": "ipython",
    "version": 3
   },
   "file_extension": ".py",
   "mimetype": "text/x-python",
   "name": "python",
   "nbconvert_exporter": "python",
   "pygments_lexer": "ipython3",
   "version": "3.9.7"
  }
 },
 "nbformat": 4,
 "nbformat_minor": 5
}
