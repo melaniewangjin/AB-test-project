{
 "cells": [
  {
   "cell_type": "code",
   "execution_count": 1,
   "id": "49861a8e",
   "metadata": {},
   "outputs": [],
   "source": [
    "import numpy as np, statsmodels.stats.api as sms\n",
    "import itertools\n",
    "import numpy as np\n",
    "import matplotlib.pyplot as plt\n",
    "from matplotlib.ticker import NullFormatter\n",
    "import pandas as pd\n",
    "import numpy as np\n",
    "import matplotlib.ticker as ticker\n",
    "import random\n",
    "from sklearn import preprocessing\n",
    "import math"
   ]
  },
  {
   "cell_type": "code",
   "execution_count": 2,
   "id": "b3000b8d",
   "metadata": {},
   "outputs": [
    {
     "data": {
      "text/html": [
       "<div>\n",
       "<style scoped>\n",
       "    .dataframe tbody tr th:only-of-type {\n",
       "        vertical-align: middle;\n",
       "    }\n",
       "\n",
       "    .dataframe tbody tr th {\n",
       "        vertical-align: top;\n",
       "    }\n",
       "\n",
       "    .dataframe thead th {\n",
       "        text-align: right;\n",
       "    }\n",
       "</style>\n",
       "<table border=\"1\" class=\"dataframe\">\n",
       "  <thead>\n",
       "    <tr style=\"text-align: right;\">\n",
       "      <th></th>\n",
       "      <th>user</th>\n",
       "      <th>adid</th>\n",
       "      <th>week</th>\n",
       "      <th>expid</th>\n",
       "      <th>if_click</th>\n",
       "      <th>real_like_cnt</th>\n",
       "      <th>category</th>\n",
       "      <th>brand_effect</th>\n",
       "      <th>experience</th>\n",
       "      <th>status</th>\n",
       "      <th>user_age</th>\n",
       "      <th>friend_age</th>\n",
       "      <th>user_gender</th>\n",
       "      <th>friend_gender</th>\n",
       "      <th>user_city</th>\n",
       "      <th>friend_city</th>\n",
       "      <th>user_degree</th>\n",
       "      <th>friend_degree</th>\n",
       "      <th>user_sns_like_cnt</th>\n",
       "      <th>user_sns_comment_cnt</th>\n",
       "    </tr>\n",
       "  </thead>\n",
       "  <tbody>\n",
       "    <tr>\n",
       "      <th>0</th>\n",
       "      <td>297353</td>\n",
       "      <td>0b0fa14b56d3741178196daaa92e6a1e</td>\n",
       "      <td>w_2</td>\n",
       "      <td>1</td>\n",
       "      <td>0</td>\n",
       "      <td>3</td>\n",
       "      <td>Car</td>\n",
       "      <td>1</td>\n",
       "      <td>1</td>\n",
       "      <td>1</td>\n",
       "      <td>48</td>\n",
       "      <td>37</td>\n",
       "      <td>female</td>\n",
       "      <td>male</td>\n",
       "      <td>level_1</td>\n",
       "      <td>level_1</td>\n",
       "      <td>495</td>\n",
       "      <td>436</td>\n",
       "      <td>162</td>\n",
       "      <td>138</td>\n",
       "    </tr>\n",
       "    <tr>\n",
       "      <th>1</th>\n",
       "      <td>98719</td>\n",
       "      <td>ea875acb76e0a806a7837174528f62d9</td>\n",
       "      <td>w_3</td>\n",
       "      <td>1</td>\n",
       "      <td>0</td>\n",
       "      <td>3</td>\n",
       "      <td>Car</td>\n",
       "      <td>1</td>\n",
       "      <td>1</td>\n",
       "      <td>1</td>\n",
       "      <td>29</td>\n",
       "      <td>34</td>\n",
       "      <td>female</td>\n",
       "      <td>female</td>\n",
       "      <td>level_3</td>\n",
       "      <td>level_2</td>\n",
       "      <td>479</td>\n",
       "      <td>3911</td>\n",
       "      <td>212</td>\n",
       "      <td>312</td>\n",
       "    </tr>\n",
       "    <tr>\n",
       "      <th>2</th>\n",
       "      <td>205144</td>\n",
       "      <td>1f1fe825014d9e9a0881233d9950bd43</td>\n",
       "      <td>w_2</td>\n",
       "      <td>1</td>\n",
       "      <td>0</td>\n",
       "      <td>1</td>\n",
       "      <td>Jewelry</td>\n",
       "      <td>0</td>\n",
       "      <td>1</td>\n",
       "      <td>1</td>\n",
       "      <td>24</td>\n",
       "      <td>24</td>\n",
       "      <td>female</td>\n",
       "      <td>male</td>\n",
       "      <td>level_2</td>\n",
       "      <td>level_1</td>\n",
       "      <td>682</td>\n",
       "      <td>470</td>\n",
       "      <td>95</td>\n",
       "      <td>336</td>\n",
       "    </tr>\n",
       "    <tr>\n",
       "      <th>3</th>\n",
       "      <td>559194</td>\n",
       "      <td>1f1fe825014d9e9a0881233d9950bd43</td>\n",
       "      <td>w_2</td>\n",
       "      <td>1</td>\n",
       "      <td>0</td>\n",
       "      <td>5</td>\n",
       "      <td>Jewelry</td>\n",
       "      <td>0</td>\n",
       "      <td>1</td>\n",
       "      <td>1</td>\n",
       "      <td>26</td>\n",
       "      <td>41</td>\n",
       "      <td>male</td>\n",
       "      <td>male</td>\n",
       "      <td>level_1</td>\n",
       "      <td>level_1</td>\n",
       "      <td>340</td>\n",
       "      <td>602</td>\n",
       "      <td>35</td>\n",
       "      <td>138</td>\n",
       "    </tr>\n",
       "    <tr>\n",
       "      <th>4</th>\n",
       "      <td>11888</td>\n",
       "      <td>0d82161270febc99f7defb653e339113</td>\n",
       "      <td>w_3</td>\n",
       "      <td>0</td>\n",
       "      <td>0</td>\n",
       "      <td>1</td>\n",
       "      <td>Cosmetrics</td>\n",
       "      <td>0</td>\n",
       "      <td>1</td>\n",
       "      <td>1</td>\n",
       "      <td>40</td>\n",
       "      <td>34</td>\n",
       "      <td>female</td>\n",
       "      <td>female</td>\n",
       "      <td>level_1</td>\n",
       "      <td>level_2</td>\n",
       "      <td>95</td>\n",
       "      <td>836</td>\n",
       "      <td>50</td>\n",
       "      <td>38</td>\n",
       "    </tr>\n",
       "  </tbody>\n",
       "</table>\n",
       "</div>"
      ],
      "text/plain": [
       "     user                              adid week  expid  if_click  \\\n",
       "0  297353  0b0fa14b56d3741178196daaa92e6a1e  w_2      1         0   \n",
       "1   98719  ea875acb76e0a806a7837174528f62d9  w_3      1         0   \n",
       "2  205144  1f1fe825014d9e9a0881233d9950bd43  w_2      1         0   \n",
       "3  559194  1f1fe825014d9e9a0881233d9950bd43  w_2      1         0   \n",
       "4   11888  0d82161270febc99f7defb653e339113  w_3      0         0   \n",
       "\n",
       "   real_like_cnt    category  brand_effect  experience  status  user_age  \\\n",
       "0              3         Car             1           1       1        48   \n",
       "1              3         Car             1           1       1        29   \n",
       "2              1     Jewelry             0           1       1        24   \n",
       "3              5     Jewelry             0           1       1        26   \n",
       "4              1  Cosmetrics             0           1       1        40   \n",
       "\n",
       "   friend_age user_gender friend_gender user_city friend_city  user_degree  \\\n",
       "0          37      female          male   level_1     level_1          495   \n",
       "1          34      female        female   level_3     level_2          479   \n",
       "2          24      female          male   level_2     level_1          682   \n",
       "3          41        male          male   level_1     level_1          340   \n",
       "4          34      female        female   level_1     level_2           95   \n",
       "\n",
       "   friend_degree  user_sns_like_cnt  user_sns_comment_cnt  \n",
       "0            436                162                   138  \n",
       "1           3911                212                   312  \n",
       "2            470                 95                   336  \n",
       "3            602                 35                   138  \n",
       "4            836                 50                    38  "
      ]
     },
     "execution_count": 2,
     "metadata": {},
     "output_type": "execute_result"
    }
   ],
   "source": [
    "data=pd.read_csv('project_data.csv')\n",
    "data.head()"
   ]
  },
  {
   "cell_type": "markdown",
   "id": "12a59a33",
   "metadata": {},
   "source": [
    "# For whole sample"
   ]
  },
  {
   "cell_type": "code",
   "execution_count": 3,
   "id": "2811ff6a",
   "metadata": {},
   "outputs": [],
   "source": [
    "#find the number of control and treatment group\n",
    "d_0 = data[data['expid'] == 0]['if_click']\n",
    "d_1 = data[data['expid'] == 1]['if_click']"
   ]
  },
  {
   "cell_type": "code",
   "execution_count": 4,
   "id": "412e77fe",
   "metadata": {},
   "outputs": [
    {
     "name": "stdout",
     "output_type": "stream",
     "text": [
      "500000 500000\n"
     ]
    }
   ],
   "source": [
    "print(len(d_1),len(d_0))"
   ]
  },
  {
   "cell_type": "markdown",
   "id": "e37a04ef",
   "metadata": {},
   "source": [
    "#### The sample size of control group is 500,000 and is equal to the sample size of treatment group  \n",
    "\n",
    "#### Assume we want to detect 10% lift about click_rate after treatment"
   ]
  },
  {
   "cell_type": "code",
   "execution_count": 5,
   "id": "e63a249e",
   "metadata": {},
   "outputs": [],
   "source": [
    "#to get the variance\n",
    "lift=0.1  #10%\n",
    "p=np.mean(d_0)\n",
    "var=p*(1-p)\n",
    "#to get the standard error\n",
    "std=math.sqrt(var)\n",
    "# the difference we want to detect\n",
    "mean_difference=lift*p"
   ]
  },
  {
   "cell_type": "code",
   "execution_count": 6,
   "id": "b67709c2",
   "metadata": {},
   "outputs": [],
   "source": [
    "from statsmodels.stats.power import zt_ind_solve_power"
   ]
  },
  {
   "cell_type": "code",
   "execution_count": 7,
   "id": "82182da1",
   "metadata": {},
   "outputs": [],
   "source": [
    "size_80=zt_ind_solve_power(effect_size=(mean_difference/std), alpha=0.05, power=0.8, ratio=1,alternative=\"two-sided\")\n",
    "size_95=zt_ind_solve_power(effect_size=(mean_difference/std), alpha=0.05, power=0.95, ratio=1,alternative=\"two-sided\")\n",
    "size_99=zt_ind_solve_power(effect_size=(mean_difference/std), alpha=0.05, power=0.99, ratio=1,alternative=\"two-sided\")"
   ]
  },
  {
   "cell_type": "code",
   "execution_count": 8,
   "id": "9bd77ea8",
   "metadata": {},
   "outputs": [
    {
     "name": "stdout",
     "output_type": "stream",
     "text": [
      "21998.964038254322 36421.86502357748 51494.77309889534\n"
     ]
    }
   ],
   "source": [
    "print(size_80,size_95,size_99)"
   ]
  },
  {
   "cell_type": "markdown",
   "id": "63c611b2",
   "metadata": {},
   "source": [
    "#### To acheive 99% Power Analysis with 5%α, the experiment need sample size which is greater than 51494. However, the true sample sizes of control group and treatment group are both 500,000, which means this experiment has acheived 99% Power Analysis, and is hard to committee Type II error."
   ]
  },
  {
   "cell_type": "markdown",
   "id": "2f8c4e5b",
   "metadata": {},
   "source": [
    "# For different category"
   ]
  },
  {
   "cell_type": "code",
   "execution_count": 9,
   "id": "844eebac",
   "metadata": {},
   "outputs": [
    {
     "data": {
      "text/plain": [
       "Cosmetrics    100000\n",
       "Car           100000\n",
       "Jewelry       100000\n",
       "Clothes       100000\n",
       "Beverage      100000\n",
       "Name: category, dtype: int64"
      ]
     },
     "execution_count": 9,
     "metadata": {},
     "output_type": "execute_result"
    }
   ],
   "source": [
    "#find the number of control and treatment group for each type of ads category\n",
    "data[data['expid'] == 0]['category'].value_counts()"
   ]
  },
  {
   "cell_type": "code",
   "execution_count": 10,
   "id": "41c1628c",
   "metadata": {},
   "outputs": [
    {
     "data": {
      "text/plain": [
       "Car           100000\n",
       "Jewelry       100000\n",
       "Cosmetrics    100000\n",
       "Beverage      100000\n",
       "Clothes       100000\n",
       "Name: category, dtype: int64"
      ]
     },
     "execution_count": 10,
     "metadata": {},
     "output_type": "execute_result"
    }
   ],
   "source": [
    "data[data['expid'] == 1]['category'].value_counts()"
   ]
  },
  {
   "cell_type": "markdown",
   "id": "84e4fa22",
   "metadata": {},
   "source": [
    "## Car"
   ]
  },
  {
   "cell_type": "code",
   "execution_count": 11,
   "id": "296f0f9b",
   "metadata": {},
   "outputs": [],
   "source": [
    "dc=data[data['category']=='Car']"
   ]
  },
  {
   "cell_type": "code",
   "execution_count": 12,
   "id": "0862d26e",
   "metadata": {},
   "outputs": [],
   "source": [
    "dc_0=dc[dc['expid'] == 0]['if_click']\n",
    "dc_1=dc[dc['expid'] == 1]['if_click']"
   ]
  },
  {
   "cell_type": "code",
   "execution_count": 13,
   "id": "e4a2f000",
   "metadata": {},
   "outputs": [
    {
     "name": "stdout",
     "output_type": "stream",
     "text": [
      "100000\n",
      "100000\n"
     ]
    }
   ],
   "source": [
    "print(len(dc_0))\n",
    "print(len(dc_1))"
   ]
  },
  {
   "cell_type": "code",
   "execution_count": 14,
   "id": "8b5a3f29",
   "metadata": {},
   "outputs": [],
   "source": [
    "#to get the variance\n",
    "p_c=np.mean(dc_0)\n",
    "var_c=p_c*(1-p_c)\n",
    "#to get the standard error\n",
    "std_c=math.sqrt(var_c)\n",
    "# the difference we want to detect\n",
    "mean_difference_c=lift*p_c"
   ]
  },
  {
   "cell_type": "code",
   "execution_count": 15,
   "id": "81100e7f",
   "metadata": {},
   "outputs": [],
   "source": [
    "size_80_c=zt_ind_solve_power(effect_size=(mean_difference_c/std_c), alpha=0.05, power=0.8, ratio=1,alternative=\"two-sided\")\n",
    "size_95_c=zt_ind_solve_power(effect_size=(mean_difference_c/std_c), alpha=0.05, power=0.95, ratio=1,alternative=\"two-sided\")\n",
    "size_99_c=zt_ind_solve_power(effect_size=(mean_difference_c/std_c), alpha=0.05, power=0.99, ratio=1,alternative=\"two-sided\")"
   ]
  },
  {
   "cell_type": "code",
   "execution_count": 16,
   "id": "5cb0f55f",
   "metadata": {},
   "outputs": [
    {
     "name": "stdout",
     "output_type": "stream",
     "text": [
      "22506.48712919673 37262.12902367005 52682.77387818322\n"
     ]
    }
   ],
   "source": [
    "print(size_80_c,size_95_c,size_99_c)"
   ]
  },
  {
   "cell_type": "markdown",
   "id": "b2ef4de7",
   "metadata": {},
   "source": [
    "#### The sample sizes of control group and treatment group for car ads are both 100,000, greater than 52682, which means it has acheived 99% Power Analysis, and is hard to committee Type II error."
   ]
  },
  {
   "cell_type": "markdown",
   "id": "f6671d4f",
   "metadata": {},
   "source": [
    "## Cosmetrics"
   ]
  },
  {
   "cell_type": "code",
   "execution_count": 17,
   "id": "70886d9a",
   "metadata": {},
   "outputs": [
    {
     "name": "stdout",
     "output_type": "stream",
     "text": [
      "100000\n",
      "100000\n"
     ]
    }
   ],
   "source": [
    "dC=data[data['category']=='Cosmetrics']\n",
    "dC_0=dC[dC['expid'] == 0]['if_click']\n",
    "dC_1=dC[dC['expid'] == 1]['if_click']\n",
    "print(len(dC_0))\n",
    "print(len(dC_1))"
   ]
  },
  {
   "cell_type": "code",
   "execution_count": 18,
   "id": "35ce603a",
   "metadata": {},
   "outputs": [],
   "source": [
    "#to get the variance\n",
    "p_C=np.mean(dC_0)\n",
    "var_C=p_C*(1-p_C)\n",
    "#to get the standard error\n",
    "std_C=math.sqrt(var_C)\n",
    "# the difference we want to detect\n",
    "mean_difference_C=lift*p_C"
   ]
  },
  {
   "cell_type": "code",
   "execution_count": 19,
   "id": "c676f0d9",
   "metadata": {},
   "outputs": [],
   "source": [
    "size_80_C=zt_ind_solve_power(effect_size=(mean_difference_C/std_C), alpha=0.05, power=0.8, ratio=1,alternative=\"two-sided\")\n",
    "size_80_C=zt_ind_solve_power(effect_size=(mean_difference_C/std_C), alpha=0.05, power=0.8, ratio=1,alternative=\"two-sided\")\n",
    "size_95_C=zt_ind_solve_power(effect_size=(mean_difference_C/std_C), alpha=0.05, power=0.95, ratio=1,alternative=\"two-sided\")\n",
    "size_99_C=zt_ind_solve_power(effect_size=(mean_difference_C/std_C), alpha=0.05, power=0.99, ratio=1,alternative=\"two-sided\")"
   ]
  },
  {
   "cell_type": "code",
   "execution_count": 20,
   "id": "c27337c5",
   "metadata": {},
   "outputs": [
    {
     "name": "stdout",
     "output_type": "stream",
     "text": [
      "21610.56017598977 35778.81687773284 50585.6044349504\n"
     ]
    }
   ],
   "source": [
    "print(size_80_C,size_95_C,size_99_C)"
   ]
  },
  {
   "cell_type": "markdown",
   "id": "430df2d8",
   "metadata": {},
   "source": [
    "#### The sample sizes of control group and treatment group for Cosmetrics ads are both 100,000, greater than 50585, which means it has acheived 99% Power Analysis, and is hard to committee Type II error."
   ]
  },
  {
   "cell_type": "markdown",
   "id": "1f78cba1",
   "metadata": {},
   "source": [
    "## Jewelry"
   ]
  },
  {
   "cell_type": "code",
   "execution_count": 21,
   "id": "47f69a6b",
   "metadata": {},
   "outputs": [
    {
     "name": "stdout",
     "output_type": "stream",
     "text": [
      "100000\n",
      "100000\n"
     ]
    }
   ],
   "source": [
    "dC=data[data['category']=='Jewelry']\n",
    "dC_0=dC[dC['expid'] == 0]['if_click']\n",
    "dC_1=dC[dC['expid'] == 1]['if_click']\n",
    "print(len(dC_0))\n",
    "print(len(dC_1))"
   ]
  },
  {
   "cell_type": "code",
   "execution_count": 22,
   "id": "0996ff11",
   "metadata": {},
   "outputs": [],
   "source": [
    "#to get the variance\n",
    "p_C=np.mean(dC_0)\n",
    "var_C=p_C*(1-p_C)\n",
    "#to get the standard error\n",
    "std_C=math.sqrt(var_C)\n",
    "# the difference we want to detect\n",
    "mean_difference_C=lift*p_C"
   ]
  },
  {
   "cell_type": "code",
   "execution_count": 23,
   "id": "5e626781",
   "metadata": {},
   "outputs": [],
   "source": [
    "size_80_C=zt_ind_solve_power(effect_size=(mean_difference_C/std_C), alpha=0.05, power=0.8, ratio=1,alternative=\"two-sided\")\n",
    "size_80_C=zt_ind_solve_power(effect_size=(mean_difference_C/std_C), alpha=0.05, power=0.8, ratio=1,alternative=\"two-sided\")\n",
    "size_95_C=zt_ind_solve_power(effect_size=(mean_difference_C/std_C), alpha=0.05, power=0.95, ratio=1,alternative=\"two-sided\")\n",
    "size_99_C=zt_ind_solve_power(effect_size=(mean_difference_C/std_C), alpha=0.05, power=0.99, ratio=1,alternative=\"two-sided\")"
   ]
  },
  {
   "cell_type": "code",
   "execution_count": 24,
   "id": "2d2648e3",
   "metadata": {},
   "outputs": [
    {
     "name": "stdout",
     "output_type": "stream",
     "text": [
      "19142.354850574808 31692.413491548996 44808.07450741644\n"
     ]
    }
   ],
   "source": [
    "print(size_80_C,size_95_C,size_99_C)"
   ]
  },
  {
   "cell_type": "markdown",
   "id": "faaae388",
   "metadata": {},
   "source": [
    "#### The sample sizes of control group and treatment group for Jewelry ads are both 100,000, greater than 44808, which means it has acheived 99% Power Analysis, and is hard to committee Type II error."
   ]
  },
  {
   "cell_type": "markdown",
   "id": "23e47c51",
   "metadata": {},
   "source": [
    "## Clothes"
   ]
  },
  {
   "cell_type": "code",
   "execution_count": 25,
   "id": "08e60a71",
   "metadata": {},
   "outputs": [
    {
     "name": "stdout",
     "output_type": "stream",
     "text": [
      "100000\n",
      "100000\n"
     ]
    }
   ],
   "source": [
    "dC=data[data['category']=='Clothes']\n",
    "dC_0=dC[dC['expid'] == 0]['if_click']\n",
    "dC_1=dC[dC['expid'] == 1]['if_click']\n",
    "print(len(dC_0))\n",
    "print(len(dC_1))"
   ]
  },
  {
   "cell_type": "code",
   "execution_count": 26,
   "id": "5175f9f0",
   "metadata": {},
   "outputs": [],
   "source": [
    "#to get the variance\n",
    "p_C=np.mean(dC_0)\n",
    "var_C=p_C*(1-p_C)\n",
    "#to get the standard error\n",
    "std_C=math.sqrt(var_C)\n",
    "# the difference we want to detect\n",
    "mean_difference_C=lift*p_C"
   ]
  },
  {
   "cell_type": "code",
   "execution_count": 27,
   "id": "9325f3f3",
   "metadata": {},
   "outputs": [
    {
     "name": "stdout",
     "output_type": "stream",
     "text": [
      "24549.564035766565 40644.682457767885 57465.1709736955\n"
     ]
    }
   ],
   "source": [
    "size_80_C=zt_ind_solve_power(effect_size=(mean_difference_C/std_C), alpha=0.05, power=0.8, ratio=1,alternative=\"two-sided\")\n",
    "size_80_C=zt_ind_solve_power(effect_size=(mean_difference_C/std_C), alpha=0.05, power=0.8, ratio=1,alternative=\"two-sided\")\n",
    "size_95_C=zt_ind_solve_power(effect_size=(mean_difference_C/std_C), alpha=0.05, power=0.95, ratio=1,alternative=\"two-sided\")\n",
    "size_99_C=zt_ind_solve_power(effect_size=(mean_difference_C/std_C), alpha=0.05, power=0.99, ratio=1,alternative=\"two-sided\")\n",
    "print(size_80_C,size_95_C,size_99_C)"
   ]
  },
  {
   "cell_type": "markdown",
   "id": "ec874807",
   "metadata": {},
   "source": [
    "#### The sample sizes of control group and treatment group for Clothes ads are both 100,000, greater than 57465, which means it has acheived 99% Power Analysis, and is hard to committee Type II error."
   ]
  },
  {
   "cell_type": "markdown",
   "id": "66fe544a",
   "metadata": {},
   "source": [
    "## Beverage"
   ]
  },
  {
   "cell_type": "code",
   "execution_count": 28,
   "id": "f6725b51",
   "metadata": {},
   "outputs": [
    {
     "name": "stdout",
     "output_type": "stream",
     "text": [
      "100000\n",
      "100000\n"
     ]
    }
   ],
   "source": [
    "dC=data[data['category']=='Beverage']\n",
    "dC_0=dC[dC['expid'] == 0]['if_click']\n",
    "dC_1=dC[dC['expid'] == 1]['if_click']\n",
    "print(len(dC_0))\n",
    "print(len(dC_1))"
   ]
  },
  {
   "cell_type": "code",
   "execution_count": 29,
   "id": "6fc5b1f4",
   "metadata": {},
   "outputs": [],
   "source": [
    "# to get the true difference of click rate\n",
    "mean_difference_C=np.mean(dC_1) - np.mean(dC_0)\n",
    "mean_difference_C\n",
    "#to get the variance\n",
    "p_C=np.mean(dC_0)\n",
    "var_C=p_C*(1-p_C)\n",
    "# the difference we want to detect\n",
    "mean_difference_C=lift*p_C"
   ]
  },
  {
   "cell_type": "code",
   "execution_count": 30,
   "id": "378c7a78",
   "metadata": {},
   "outputs": [
    {
     "name": "stdout",
     "output_type": "stream",
     "text": [
      "21507.37404854061 35607.98014176293 50344.0682311455\n"
     ]
    }
   ],
   "source": [
    "size_80_C=zt_ind_solve_power(effect_size=(mean_difference_C/std_C), alpha=0.05, power=0.8, ratio=1,alternative=\"two-sided\")\n",
    "size_95_C=zt_ind_solve_power(effect_size=(mean_difference_C/std_C), alpha=0.05, power=0.95, ratio=1,alternative=\"two-sided\")\n",
    "size_99_C=zt_ind_solve_power(effect_size=(mean_difference_C/std_C), alpha=0.05, power=0.99, ratio=1,alternative=\"two-sided\")\n",
    "print(size_80_C,size_95_C,size_99_C)"
   ]
  },
  {
   "cell_type": "markdown",
   "id": "36a28873",
   "metadata": {},
   "source": [
    "#### The sample sizes of control group and treatment group for Beverageads are both 100,000, greater than 50344.0682311455, which means it has acheived 99% Power Analysis, and is hard to committee Type II error."
   ]
  }
 ],
 "metadata": {
  "kernelspec": {
   "display_name": "Python 3 (ipykernel)",
   "language": "python",
   "name": "python3"
  },
  "language_info": {
   "codemirror_mode": {
    "name": "ipython",
    "version": 3
   },
   "file_extension": ".py",
   "mimetype": "text/x-python",
   "name": "python",
   "nbconvert_exporter": "python",
   "pygments_lexer": "ipython3",
   "version": "3.9.12"
  }
 },
 "nbformat": 4,
 "nbformat_minor": 5
}
